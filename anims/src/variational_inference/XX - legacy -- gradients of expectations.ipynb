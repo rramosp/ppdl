{
 "cells": [
  {
   "cell_type": "code",
   "execution_count": 1,
   "metadata": {},
   "outputs": [],
   "source": [
    "import sympy as sy\n",
    "import numpy as np\n",
    "import matplotlib.pyplot as plt\n",
    "from scipy import stats\n",
    "from scipy.integrate import quad\n",
    "%matplotlib inline"
   ]
  },
  {
   "cell_type": "markdown",
   "metadata": {},
   "source": [
    "# Gradients of expectations\n",
    "\n",
    "\n",
    "- https://gregorygundersen.com/blog/2018/04/29/reparameterization/\n",
    "- https://ermongroup.github.io/cs228-notes/\n",
    "- https://ermongroup.github.io/cs228-notes/extras/vae/\n",
    "- https://stats.stackexchange.com/questions/199605/how-does-the-reparameterization-trick-for-vaes-work-and-why-is-it-important\n",
    "- https://jaan.io/what-is-variational-autoencoder-vae-tutorial/\n",
    "- https://gabrielhuang.gitbooks.io/machine-learning/content/reparametrization-trick.html\n",
    "- https://arxiv.org/pdf/1606.05908.pdf\n",
    "\n",
    "**OUR GOAL**: We want to maximize an expectation of a function with respect to a probability distribution\n",
    "\n",
    "**OUR PLAN**: Obtain the gradient of the expectation and minimize\n"
   ]
  },
  {
   "cell_type": "markdown",
   "metadata": {},
   "source": [
    "## Computing an expectation\n",
    "\n",
    "recall the montecarlo aproximation of an expectation\n",
    "\n",
    "$$\n",
    "\\begin{align}\n",
    "\\mathbb{E}_{z\\sim p(z)} \\big[f(z)\\big] &= \\int_0^\\infty p(z)f(z) dz & (1)\\\\\n",
    "&\\approx \\frac{1}{N}\\sum_{z_i \\sim p(z)}^N f(z_i)  & (2)\n",
    "\\end{align}\n",
    "$$\n",
    "\n",
    "we check it with an exponential distribution, and any $f(z)$:\n",
    "\n",
    "- $z \\in [0, \\infty]$\n",
    "- $p(z) = \\lambda e^{-\\lambda z}$"
   ]
  },
  {
   "cell_type": "code",
   "execution_count": 2,
   "metadata": {},
   "outputs": [],
   "source": [
    "l, z = sy.symbols(\"l z\")                       # symbols\n",
    "ln  = .24                                        # a numerical value for lambda\n",
    "\n",
    "p  = l*sy.exp(-l*z)                            # symbolic analytical pdf\n",
    "pn = sy.lambdify(z, p.subs({l: ln}), \"numpy\")  # evaluable pdf\n",
    "ps = stats.expon(loc=0, scale=1/ln)            # equivalent scipy.stats object\n",
    "\n",
    "f  = sy.sin(z)                                 # any function (symbolic)\n",
    "fn = sy.lambdify(z, f, \"numpy\")                # evaluable\n",
    "\n"
   ]
  },
  {
   "cell_type": "code",
   "execution_count": 3,
   "metadata": {},
   "outputs": [
    {
     "data": {
      "text/plain": [
       "1.06065543451462e-16"
      ]
     },
     "execution_count": 3,
     "metadata": {},
     "output_type": "execute_result"
    }
   ],
   "source": [
    "# the symbolic pdf and stats pdf are equivalent\n",
    "zs = np.linspace(0,100,1000)\n",
    "np.linalg.norm(pn(zs) - ps.pdf(zs)) # must be zero"
   ]
  },
  {
   "cell_type": "code",
   "execution_count": null,
   "metadata": {},
   "outputs": [],
   "source": []
  },
  {
   "cell_type": "markdown",
   "metadata": {},
   "source": [
    "compute eq (1) above"
   ]
  },
  {
   "cell_type": "code",
   "execution_count": 4,
   "metadata": {},
   "outputs": [
    {
     "data": {
      "text/latex": [
       "$\\displaystyle 0.226928895612708$"
      ],
      "text/plain": [
       "0.226928895612708"
      ]
     },
     "execution_count": 4,
     "metadata": {},
     "output_type": "execute_result"
    }
   ],
   "source": [
    "expectation_integral = sy.integrate(p.subs({l: ln})*f, z)\n",
    "expectation_integral = expectation_integral.subs({z:1e100}) - expectation_integral.subs({z:0})\n",
    "expectation_integral"
   ]
  },
  {
   "cell_type": "markdown",
   "metadata": {},
   "source": [
    "montecarlo approximation as eq (2) above"
   ]
  },
  {
   "cell_type": "code",
   "execution_count": 5,
   "metadata": {},
   "outputs": [
    {
     "data": {
      "text/plain": [
       "0.21836961424382206"
      ]
     },
     "execution_count": 5,
     "metadata": {},
     "output_type": "execute_result"
    }
   ],
   "source": [
    "zs = ps.rvs(10000)\n",
    "np.mean(fn(zs))"
   ]
  },
  {
   "cell_type": "markdown",
   "metadata": {},
   "source": [
    "## Computing an expectation of a parametrized function\n",
    "\n",
    "Let's have $f(z)$ depending on a parameter $\\theta$, and we denote it with $f_\\theta(z)$ to emphasize it, for instance\n"
   ]
  },
  {
   "cell_type": "code",
   "execution_count": 6,
   "metadata": {},
   "outputs": [
    {
     "data": {
      "text/latex": [
       "$\\displaystyle \\left(- \\theta - \\left(\\theta - 2\\right)^{2}\\right) \\sin{\\left(z \\right)}$"
      ],
      "text/plain": [
       "(-\\theta - (\\theta - 2)**2)*sin(z)"
      ]
     },
     "execution_count": 6,
     "metadata": {},
     "output_type": "execute_result"
    }
   ],
   "source": [
    "t = sy.symbols(r\"\\theta\")\n",
    "f = -(t+(t-2)**2)*sy.sin(z)\n",
    "f\n"
   ]
  },
  {
   "cell_type": "markdown",
   "metadata": {},
   "source": [
    "the above expectation will naturally become a function of $\\theta$\n",
    "\n",
    "$$\n",
    "\\begin{align}\n",
    "\\mathbb{E}_{z\\sim p(z)} \\big[f_\\theta(z)\\big] &= \\int p(z)f_\\theta(z) dz \\\\\n",
    "&\\approx \\frac{1}{N}\\sum_{z_i \\sim p(z)}^N f_\\theta(z_i)  & (2)\n",
    "\\end{align}\n",
    "$$"
   ]
  },
  {
   "cell_type": "code",
   "execution_count": 7,
   "metadata": {},
   "outputs": [
    {
     "data": {
      "text/latex": [
       "$\\displaystyle - 0.226928895612708 \\theta - 0.226928895612708 \\left(\\theta - 2\\right)^{2}$"
      ],
      "text/plain": [
       "-0.226928895612708*\\theta - 0.226928895612708*(\\theta - 2)**2"
      ]
     },
     "execution_count": 7,
     "metadata": {},
     "output_type": "execute_result"
    }
   ],
   "source": [
    "expectation_integral = sy.integrate(p.subs({l: ln})*f, z)\n",
    "expectation_integral = expectation_integral.subs({z:1e100}) - expectation_integral.subs({z:0})\n",
    "expectation_integral"
   ]
  },
  {
   "cell_type": "markdown",
   "metadata": {},
   "source": [
    "observe how the value of the expectation depends on the parameter $\\theta$ (and the probability $p(z)$)"
   ]
  },
  {
   "cell_type": "code",
   "execution_count": 8,
   "metadata": {},
   "outputs": [
    {
     "data": {
      "image/png": "[encoded data removed]",
      "text/plain": [
       "<Figure size 432x288 with 1 Axes>"
      ]
     },
     "metadata": {
      "needs_background": "light"
     },
     "output_type": "display_data"
    }
   ],
   "source": [
    "t_range = np.linspace(-5,5,100)\n",
    "expectation_integral_fn = sy.lambdify(t, expectation_integral, \"numpy\")\n",
    "\n",
    "plt.plot(t_range, expectation_integral_fn(t_range))\n",
    "plt.xlabel(r\"$\\theta$\")\n",
    "plt.ylabel(r\"$\\mathbb{E}_{z\\sim p(z)} [f_\\theta(z)] $\");\n",
    "plt.grid();"
   ]
  },
  {
   "cell_type": "markdown",
   "metadata": {},
   "source": [
    "which we can evaluate for a specific value of $\\theta$, directly on the analytic integral, or with the montecarlo simulation"
   ]
  },
  {
   "cell_type": "code",
   "execution_count": 9,
   "metadata": {},
   "outputs": [
    {
     "data": {
      "text/latex": [
       "$\\displaystyle -3.17700453857791$"
      ],
      "text/plain": [
       "-3.17700453857791"
      ]
     },
     "execution_count": 9,
     "metadata": {},
     "output_type": "execute_result"
    }
   ],
   "source": [
    "t_val = -2\n",
    "sy.N(expectation_integral.subs({t: t_val }))"
   ]
  },
  {
   "cell_type": "code",
   "execution_count": 10,
   "metadata": {},
   "outputs": [
    {
     "data": {
      "text/plain": [
       "-3.057174599413509"
      ]
     },
     "execution_count": 10,
     "metadata": {},
     "output_type": "execute_result"
    }
   ],
   "source": [
    "fn = sy.lambdify(z, f.subs({t: t_val}), \"numpy\")\n",
    "np.mean(fn(zs))"
   ]
  },
  {
   "cell_type": "markdown",
   "metadata": {},
   "source": [
    "## Computing the gradient of an expectation\n",
    "\n",
    "so we can ask for its gradient (which must be with respect to the parameter $\\theta$).\n",
    "\n",
    "The gradient naturally slips into the integral, or the montecarlo approximation sum (the derivative of a sum is the sum of the derivatives)\n",
    "\n",
    "$$\n",
    "\\begin{align}\n",
    "\\nabla_\\theta \\mathbb{E}_{p_z(z)}[f_\\theta(z)] &= \\nabla_\\theta \\Big[\\int p_z(z) f_\\theta(z)dz\\Big]\\\\\n",
    "&= \\int \\nabla_\\theta \\Big[ p_z(z) f_\\theta(z)\\Big] dz \\\\\n",
    "&= \\int p_z(z) \\nabla_\\theta \\Big[ f_\\theta(z)\\Big] dz &\\;\\;\\;\\;\\;(1)\n",
    "\\end{align}\n",
    "$$\n",
    "\n",
    "$$\n",
    "\\begin{align}\n",
    "\\nabla_\\theta \\mathbb{E}_{p_z(z)}[f_\\theta(z)] &\\approx \\nabla_\\theta \\Big[ \\frac{1}{N}\\sum_{z_i \\sim p(z)}^N f_\\theta(z_i) \\Big] & &\\;\\;\\;\\;\\;(2)\\\\\n",
    "&=   \\frac{1}{N}\\sum_{z_i \\sim p(z)}^N \\nabla_\\theta f_\\theta(z_i)  & &\\;\\;\\;\\;\\;(3)\\\\\n",
    "\\end{align}\n",
    "$$\n",
    "\n",
    "**OBSERVATIONS**\n",
    "\n",
    "- We can take $p_z(z)$ out of $\\nabla_\\theta$ in $(1)$ because $p_z(z)$ does not depend on $\\theta$ so it appears as a constant for $\\nabla_\\theta$\n",
    "\n",
    "- Eqs $(1)$ and $(3)$ show that the gradient of this expectation is equal to the expectation of the gradient\n",
    "\n",
    "- Regularly, in ML, a loss function is defined in terms of each data point in a mini-batch and then averaged:\n",
    "\n",
    "$$\\mathcal{L}_\\theta = \\frac{1}{N}\\sum_i^N l_\\theta(x^{(i)})$$\n",
    "\n",
    "where $\\theta$ are the model parameters. We then use the gradient of the loss function to optimize\n",
    "\n",
    "$$\\nabla_\\theta \\mathcal {L}_\\theta = \\frac{1}{N}\\sum_i^N \\nabla_\\theta l_\\theta(x^{(i)})$$\n",
    "\n",
    "which is analogous to eq. $(3)$ except that we are not explicitly sampling from a known or target distribution, but using the samples on the dataset available. So **what we are doing is not specially new**.\n"
   ]
  },
  {
   "cell_type": "code",
   "execution_count": 11,
   "metadata": {},
   "outputs": [
    {
     "data": {
      "text/latex": [
       "$\\displaystyle \\left(3 - 2 \\theta\\right) \\sin{\\left(z \\right)}$"
      ],
      "text/plain": [
       "(3 - 2*\\theta)*sin(z)"
      ]
     },
     "execution_count": 11,
     "metadata": {},
     "output_type": "execute_result"
    }
   ],
   "source": [
    "df = f.diff(t)\n",
    "df"
   ]
  },
  {
   "cell_type": "code",
   "execution_count": 12,
   "metadata": {},
   "outputs": [
    {
     "data": {
      "text/latex": [
       "$\\displaystyle 0.680786686838124 - 0.453857791225416 \\theta$"
      ],
      "text/plain": [
       "0.680786686838124 - 0.453857791225416*\\theta"
      ]
     },
     "execution_count": 12,
     "metadata": {},
     "output_type": "execute_result"
    }
   ],
   "source": [
    "# equation (1)\n",
    "grad_expectation_integral = sy.integrate(p.subs({l: ln})*df, z)\n",
    "grad_expectation_integral = grad_expectation_integral.subs({z:1e100}) - grad_expectation_integral.subs({z:0})\n",
    "grad_expectation_integral"
   ]
  },
  {
   "cell_type": "code",
   "execution_count": 13,
   "metadata": {},
   "outputs": [
    {
     "data": {
      "text/latex": [
       "$\\displaystyle 1.58850226928896$"
      ],
      "text/plain": [
       "1.58850226928896"
      ]
     },
     "execution_count": 13,
     "metadata": {},
     "output_type": "execute_result"
    }
   ],
   "source": [
    "sy.N(grad_expectation_integral.subs({t: t_val }))"
   ]
  },
  {
   "cell_type": "code",
   "execution_count": 14,
   "metadata": {
    "scrolled": true
   },
   "outputs": [
    {
     "data": {
      "text/latex": [
       "$\\displaystyle 1.52858729970676$"
      ],
      "text/plain": [
       "1.52858729970676"
      ]
     },
     "execution_count": 14,
     "metadata": {},
     "output_type": "execute_result"
    }
   ],
   "source": [
    "# equation (2), takes a long time, since it must differentiate a long sum (one term per sample)\n",
    "sum([f.subs({z:zi}) for zi in zs]).diff(t).subs({t: t_val})/len(zs)"
   ]
  },
  {
   "cell_type": "code",
   "execution_count": 15,
   "metadata": {},
   "outputs": [
    {
     "data": {
      "text/plain": [
       "1.5285872997067544"
      ]
     },
     "execution_count": 15,
     "metadata": {},
     "output_type": "execute_result"
    }
   ],
   "source": [
    "# equation (3) \n",
    "dfn = sy.lambdify(z, df.subs({t: t_val}), \"numpy\")\n",
    "np.mean(dfn(zs))"
   ]
  },
  {
   "cell_type": "markdown",
   "metadata": {},
   "source": [
    "## Maximizing the expectation\n",
    "\n",
    "since we have a gradient we can get the maximum (in this simple case, we can solving analyticaly, we do not need gradient descent/ascent)"
   ]
  },
  {
   "cell_type": "code",
   "execution_count": 16,
   "metadata": {},
   "outputs": [
    {
     "data": {
      "text/latex": [
       "$\\displaystyle 1.5$"
      ],
      "text/plain": [
       "1.50000000000000"
      ]
     },
     "execution_count": 16,
     "metadata": {},
     "output_type": "execute_result"
    }
   ],
   "source": [
    "t_max = sy.solve(grad_expectation_integral, t)[0]\n",
    "t_max"
   ]
  },
  {
   "cell_type": "code",
   "execution_count": 17,
   "metadata": {},
   "outputs": [
    {
     "data": {
      "image/png": "[encoded data removed]",
      "text/plain": [
       "<Figure size 432x288 with 1 Axes>"
      ]
     },
     "metadata": {
      "needs_background": "light"
     },
     "output_type": "display_data"
    }
   ],
   "source": [
    "plt.plot(t_range, expectation_integral_fn(t_range), label=r\"expectation of $f_\\theta$\")\n",
    "plt.axvline(t_max, color=\"red\", label=r\"best $\\theta$\")\n",
    "plt.grid();\n",
    "plt.legend();\n",
    "plt.xlabel(r\"$\\theta$\")\n",
    "plt.ylabel(r\"$\\mathbb{E}_{z\\sim p(z)} [f_\\theta(z)] $\");"
   ]
  },
  {
   "cell_type": "markdown",
   "metadata": {},
   "source": [
    "### Now, $p(z)$ is also parametrized by $\\theta$"
   ]
  },
  {
   "cell_type": "code",
   "execution_count": 72,
   "metadata": {},
   "outputs": [
    {
     "data": {
      "text/latex": [
       "$\\displaystyle \\frac{\\theta \\left(- \\theta - \\left(\\theta - 2\\right)^{2}\\right) \\left(\\begin{cases} - 1.90318865502514 \\cdot 10^{99} e^{1.0 \\cdot 10^{100} i} + 4.62362119375967 \\cdot 10^{99} i e^{1.0 \\cdot 10^{100} i} & \\text{for}\\: \\theta = - 100 i \\\\- 4.62362119375967 \\cdot 10^{99} i e^{- 1.0 \\cdot 10^{100} i} - 1.90318865502514 \\cdot 10^{99} e^{- 1.0 \\cdot 10^{100} i} & \\text{for}\\: \\theta = 100 i \\\\\\frac{38.0637731005029 \\theta}{\\theta^{2} e^{1.0 \\cdot 10^{98} \\theta} + 10000 e^{1.0 \\cdot 10^{98} \\theta}} - \\frac{9247.24238751934}{\\theta^{2} e^{1.0 \\cdot 10^{98} \\theta} + 10000 e^{1.0 \\cdot 10^{98} \\theta}} & \\text{otherwise} \\end{cases}\\right)}{100} + \\frac{100 \\theta \\left(- \\theta - \\left(\\theta - 2\\right)^{2}\\right)}{\\theta^{2} + 10000}$"
      ],
      "text/plain": [
       "\\theta*(-\\theta - (\\theta - 2)**2)*Piecewise((-1.90318865502514e+99*exp(1.0e+100*I) + 4.62362119375967e+99*I*exp(1.0e+100*I), Eq(\\theta, -100*I)), (-4.62362119375967e+99*I*exp(-1.0e+100*I) - 1.90318865502514e+99*exp(-1.0e+100*I), Eq(\\theta, 100*I)), (38.0637731005029*\\theta/(\\theta**2*exp(1.0e+98*\\theta) + 10000*exp(1.0e+98*\\theta)) - 9247.24238751934/(\\theta**2*exp(1.0e+98*\\theta) + 10000*exp(1.0e+98*\\theta)), True))/100 + 100*\\theta*(-\\theta - (\\theta - 2)**2)/(\\theta**2 + 10000)"
      ]
     },
     "execution_count": 72,
     "metadata": {},
     "output_type": "execute_result"
    }
   ],
   "source": [
    "expectation_integral = sy.integrate(p.subs({l: t/100})*f, z)\n",
    "expectation_integral = expectation_integral.subs({z:1e100}) - expectation_integral.subs({z:0})\n",
    "expectation_integral"
   ]
  },
  {
   "cell_type": "code",
   "execution_count": 71,
   "metadata": {},
   "outputs": [
    {
     "name": "stderr",
     "output_type": "stream",
     "text": [
      "<lambdifygenerated-34>:2: RuntimeWarning: overflow encountered in exp\n",
      "  return (-Dummy_3895 - (Dummy_3895 - 2)**2)*(sin(Dummy_3895) + 2)*select([equal(Dummy_3895, -arcsin(2 - 1j)),equal(Dummy_3895, -arcsin(2 + 1j)),True], [-4.62362119375967e+99*1j*exp(-1.0e+100*1j) - 1.90318865502514e+99*exp(-1.0e+100*1j),-1.90318865502514e+99*exp(1.0e+100*1j) + 4.62362119375967e+99*1j*exp(1.0e+100*1j),0.380637731005029*sin(Dummy_3895)/(2.50200547715522e+8685889638065036691153335483872363697502844730539815810306297047445974888969453981804292560091717209*exp(1.0e+100*sin(Dummy_3895))*sin(Dummy_3895)**2 + 1.00080219086209e+8685889638065036691153335483872363697502844730539815810306297047445974888969453981804292560091717210*exp(1.0e+100*sin(Dummy_3895))*sin(Dummy_3895) + 1.25100273857761e+8685889638065036691153335483872363697502844730539815810306297047445974888969453981804292560091717210*exp(1.0e+100*sin(Dummy_3895))) - 0.163448776741876/(2.50200547715522e+8685889638065036691153335483872363697502844730539815810306297047445974888969453981804292560091717209*exp(1.0e+100*sin(Dummy_3895))*sin(Dummy_3895)**2 + 1.00080219086209e+8685889638065036691153335483872363697502844730539815810306297047445974888969453981804292560091717210*exp(1.0e+100*sin(Dummy_3895))*sin(Dummy_3895) + 1.25100273857761e+8685889638065036691153335483872363697502844730539815810306297047445974888969453981804292560091717210*exp(1.0e+100*sin(Dummy_3895)))], default=nan) + (-Dummy_3895 - (Dummy_3895 - 2)**2)*(sin(Dummy_3895) + 2)/(sin(Dummy_3895)**2 + 4*sin(Dummy_3895) + 5)\n",
      "<lambdifygenerated-34>:2: RuntimeWarning: invalid value encountered in multiply\n",
      "  return (-Dummy_3895 - (Dummy_3895 - 2)**2)*(sin(Dummy_3895) + 2)*select([equal(Dummy_3895, -arcsin(2 - 1j)),equal(Dummy_3895, -arcsin(2 + 1j)),True], [-4.62362119375967e+99*1j*exp(-1.0e+100*1j) - 1.90318865502514e+99*exp(-1.0e+100*1j),-1.90318865502514e+99*exp(1.0e+100*1j) + 4.62362119375967e+99*1j*exp(1.0e+100*1j),0.380637731005029*sin(Dummy_3895)/(2.50200547715522e+8685889638065036691153335483872363697502844730539815810306297047445974888969453981804292560091717209*exp(1.0e+100*sin(Dummy_3895))*sin(Dummy_3895)**2 + 1.00080219086209e+8685889638065036691153335483872363697502844730539815810306297047445974888969453981804292560091717210*exp(1.0e+100*sin(Dummy_3895))*sin(Dummy_3895) + 1.25100273857761e+8685889638065036691153335483872363697502844730539815810306297047445974888969453981804292560091717210*exp(1.0e+100*sin(Dummy_3895))) - 0.163448776741876/(2.50200547715522e+8685889638065036691153335483872363697502844730539815810306297047445974888969453981804292560091717209*exp(1.0e+100*sin(Dummy_3895))*sin(Dummy_3895)**2 + 1.00080219086209e+8685889638065036691153335483872363697502844730539815810306297047445974888969453981804292560091717210*exp(1.0e+100*sin(Dummy_3895))*sin(Dummy_3895) + 1.25100273857761e+8685889638065036691153335483872363697502844730539815810306297047445974888969453981804292560091717210*exp(1.0e+100*sin(Dummy_3895)))], default=nan) + (-Dummy_3895 - (Dummy_3895 - 2)**2)*(sin(Dummy_3895) + 2)/(sin(Dummy_3895)**2 + 4*sin(Dummy_3895) + 5)\n",
      "/opt/anaconda/envs/p39/lib/python3.9/site-packages/numpy/core/_asarray.py:102: ComplexWarning: Casting complex values to real discards the imaginary part\n",
      "  return array(a, dtype, copy=False, order=order)\n"
     ]
    },
    {
     "data": {
      "image/png": "[encoded data removed]",
      "text/plain": [
       "<Figure size 432x288 with 1 Axes>"
      ]
     },
     "metadata": {
      "needs_background": "light"
     },
     "output_type": "display_data"
    }
   ],
   "source": [
    "t_range = np.linspace(-10,10,1000)\n",
    "expectation_integral_fn = sy.lambdify(t, expectation_integral, \"numpy\")\n",
    "\n",
    "plt.plot(t_range, expectation_integral_fn(t_range))\n",
    "plt.xlabel(r\"$\\theta$\")\n",
    "plt.ylabel(r\"$\\mathbb{E}_{z\\sim p(z)} [f_\\theta(z)] $\");\n",
    "plt.grid();"
   ]
  },
  {
   "cell_type": "code",
   "execution_count": null,
   "metadata": {},
   "outputs": [],
   "source": []
  }
 ],
 "metadata": {
  "kernelspec": {
   "display_name": "p39",
   "language": "python",
   "name": "p39"
  },
  "language_info": {
   "codemirror_mode": {
    "name": "ipython",
    "version": 3
   },
   "file_extension": ".py",
   "mimetype": "text/x-python",
   "name": "python",
   "nbconvert_exporter": "python",
   "pygments_lexer": "ipython3",
   "version": "3.9.7"
  }
 },
 "nbformat": 4,
 "nbformat_minor": 4
}
