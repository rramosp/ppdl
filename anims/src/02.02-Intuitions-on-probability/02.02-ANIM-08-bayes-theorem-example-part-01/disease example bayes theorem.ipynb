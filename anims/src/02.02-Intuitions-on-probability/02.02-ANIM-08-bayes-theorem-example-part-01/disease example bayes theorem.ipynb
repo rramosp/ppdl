{
 "cells": [
  {
   "cell_type": "code",
   "execution_count": 83,
   "id": "0ca8b6b9",
   "metadata": {},
   "outputs": [],
   "source": [
    "import numpy as np\n",
    "import matplotlib.pyplot as plt\n",
    "from rlxutils import subplots\n",
    "%matplotlib inline"
   ]
  },
  {
   "cell_type": "code",
   "execution_count": 214,
   "id": "d431f802",
   "metadata": {},
   "outputs": [],
   "source": [
    "P_cancer = 0.01\n",
    "P_nocancer = 1 - P_cancer\n",
    "P_pos_given_cancer = 0.85\n",
    "P_pos_given_nocancer = 0.05\n",
    "\n",
    "P_neg_given_cancer = 1 - P_pos_given_cancer\n",
    "P_neg_given_nocancer = 1 -  P_pos_given_nocancer"
   ]
  },
  {
   "cell_type": "code",
   "execution_count": 215,
   "id": "a99d84ca",
   "metadata": {},
   "outputs": [],
   "source": [
    "posterior = lambda P_B_given_A, P_A, P_B: P_B_given_A * P_A / P_B "
   ]
  },
  {
   "cell_type": "code",
   "execution_count": 216,
   "id": "5ebdb91a",
   "metadata": {},
   "outputs": [
    {
     "data": {
      "text/plain": [
       "0.058"
      ]
     },
     "execution_count": 216,
     "metadata": {},
     "output_type": "execute_result"
    }
   ],
   "source": [
    "P_pos = P_pos_given_cancer * P_cancer + P_pos_given_nocancer * P_nocancer\n",
    "P_neg = P_neg_given_cancer * P_cancer + P_neg_given_nocancer * P_nocancer\n",
    "P_pos"
   ]
  },
  {
   "cell_type": "code",
   "execution_count": 217,
   "id": "aa599212",
   "metadata": {},
   "outputs": [
    {
     "data": {
      "text/plain": [
       "(0.85, 0.01, 0.05, 0.99)"
      ]
     },
     "execution_count": 217,
     "metadata": {},
     "output_type": "execute_result"
    }
   ],
   "source": [
    "P_pos_given_cancer , P_cancer , P_pos_given_nocancer , P_nocancer"
   ]
  },
  {
   "cell_type": "code",
   "execution_count": 218,
   "id": "37265803",
   "metadata": {},
   "outputs": [
    {
     "data": {
      "text/plain": [
       "0.14655172413793105"
      ]
     },
     "execution_count": 218,
     "metadata": {},
     "output_type": "execute_result"
    }
   ],
   "source": [
    "P_cancer_given_pos = posterior(P_pos_given_cancer, P_cancer, P_pos)\n",
    "P_cancer_given_pos"
   ]
  },
  {
   "cell_type": "code",
   "execution_count": 219,
   "id": "8c8f355c",
   "metadata": {},
   "outputs": [
    {
     "data": {
      "text/plain": [
       "0.853448275862069"
      ]
     },
     "execution_count": 219,
     "metadata": {},
     "output_type": "execute_result"
    }
   ],
   "source": [
    "P_nocancer_given_pos = posterior(P_pos_given_nocancer, P_nocancer, P_pos)\n",
    "P_nocancer_given_pos"
   ]
  },
  {
   "cell_type": "code",
   "execution_count": 220,
   "id": "7d9aa7d6",
   "metadata": {},
   "outputs": [
    {
     "data": {
      "text/plain": [
       "0.998407643312102"
      ]
     },
     "execution_count": 220,
     "metadata": {},
     "output_type": "execute_result"
    }
   ],
   "source": [
    "P_neg = P_neg_given_cancer * P_cancer + P_neg_given_nocancer * P_nocancer\n",
    "\n",
    "P_nocancer_given_neg = posterior(P_neg_given_nocancer, P_nocancer, P_neg)\n",
    "P_nocancer_given_neg"
   ]
  },
  {
   "cell_type": "code",
   "execution_count": 221,
   "id": "15daabe0",
   "metadata": {},
   "outputs": [
    {
     "data": {
      "text/plain": [
       "0.7455250596658711"
      ]
     },
     "execution_count": 221,
     "metadata": {},
     "output_type": "execute_result"
    }
   ],
   "source": [
    "0.85 * 0.147 / 0.1676"
   ]
  },
  {
   "cell_type": "markdown",
   "id": "991cbfad",
   "metadata": {},
   "source": [
    "## reduce FNR"
   ]
  },
  {
   "cell_type": "code",
   "execution_count": 224,
   "id": "816a825f",
   "metadata": {},
   "outputs": [
    {
     "data": {
      "image/png": "[encoded data removed]",
      "text/plain": [
       "<Figure size 216x216 with 1 Axes>"
      ]
     },
     "metadata": {
      "needs_background": "light"
     },
     "output_type": "display_data"
    }
   ],
   "source": [
    "rP_pos_given_cancer = np.linspace(P_pos_given_cancer,1, 100)\n",
    "rP_neg_given_cancer = 1 - rP_pos_given_cancer\n",
    "P_pos = rP_pos_given_cancer * P_cancer + P_pos_given_nocancer * P_nocancer\n",
    "P_neg = rP_neg_given_cancer * P_cancer + P_neg_given_nocancer * P_nocancer\n",
    "\n",
    "\n",
    "for ax,i in subplots(1):\n",
    "\n",
    "    if i==0:\n",
    "        plt.plot(rP_neg_given_cancer, posterior(rP_pos_given_cancer, P_cancer, P_pos))\n",
    "        plt.grid();\n",
    "        plt.title(\"$P(cancer|pos)$\");\n",
    "        plt.xlabel(\"FNR\")\n",
    "        \n",
    "    if i==1:\n",
    "        plt.plot(rP_neg_given_cancer, posterior(rP_neg_given_cancer, P_cancer, P_neg))\n",
    "        plt.grid();\n",
    "        plt.title(\"$P(cancer|neg)$\");\n",
    "        plt.xlabel(\"FNR\")\n",
    "        \n",
    "plt.tight_layout()"
   ]
  },
  {
   "cell_type": "markdown",
   "id": "1bde0225",
   "metadata": {},
   "source": [
    "## reduce FPR"
   ]
  },
  {
   "cell_type": "code",
   "execution_count": 225,
   "id": "25ddcdad",
   "metadata": {},
   "outputs": [
    {
     "data": {
      "image/png": "[encoded data removed]",
      "text/plain": [
       "<Figure size 216x216 with 1 Axes>"
      ]
     },
     "metadata": {
      "needs_background": "light"
     },
     "output_type": "display_data"
    }
   ],
   "source": [
    "for ax,i in subplots(1):\n",
    "    xr = np.linspace(0,P_pos_given_nocancer,100)\n",
    "    rP_pos_given_nocancer = xr\n",
    "    P_pos = P_pos_given_cancer * P_cancer + rP_pos_given_nocancer * P_nocancer\n",
    "    plt.plot(rP_pos_given_nocancer, posterior(P_pos_given_cancer, P_cancer, P_pos))\n",
    "    plt.grid();\n",
    "    plt.title(\"$P(cancer|pos)$\");"
   ]
  },
  {
   "cell_type": "markdown",
   "id": "299c1ea3",
   "metadata": {},
   "source": [
    "if the incidence of cancer if very high, reducing FNR is far more important"
   ]
  },
  {
   "cell_type": "code",
   "execution_count": 61,
   "id": "dce5b1d6",
   "metadata": {},
   "outputs": [],
   "source": [
    "P_cancer = 0.8\n",
    "P_nocancer = 1 - P_cancer\n",
    "P_pos_given_cancer = 0.85\n",
    "P_pos_given_nocancer = 0.05"
   ]
  },
  {
   "cell_type": "code",
   "execution_count": 64,
   "id": "1b646319",
   "metadata": {},
   "outputs": [
    {
     "data": {
      "image/png": "[encoded data removed]",
      "text/plain": [
       "<Figure size 432x288 with 1 Axes>"
      ]
     },
     "metadata": {
      "needs_background": "light"
     },
     "output_type": "display_data"
    }
   ],
   "source": [
    "xr = np.linspace(0,1-P_pos_given_cancer,100)\n",
    "rP_pos_given_cancer = 1 - xr\n",
    "P_pos = rP_pos_given_cancer * P_cancer + P_pos_given_nocancer * P_nocancer\n",
    "plt.plot(rP_pos_given_cancer, posterior(rP_pos_given_cancer, P_cancer, P_pos))\n",
    "plt.grid();"
   ]
  },
  {
   "cell_type": "code",
   "execution_count": 63,
   "id": "bdb3df16",
   "metadata": {},
   "outputs": [
    {
     "data": {
      "image/png": "[encoded data removed]",
      "text/plain": [
       "<Figure size 432x288 with 1 Axes>"
      ]
     },
     "metadata": {
      "needs_background": "light"
     },
     "output_type": "display_data"
    }
   ],
   "source": [
    "xr = np.linspace(0,P_pos_given_nocancer,100)\n",
    "rP_pos_given_nocancer = xr\n",
    "P_pos = P_pos_given_cancer * P_cancer + rP_pos_given_nocancer * P_nocancer\n",
    "plt.plot(rP_pos_given_nocancer, posterior(P_pos_given_cancer, P_cancer, P_pos))\n",
    "plt.grid();"
   ]
  },
  {
   "cell_type": "code",
   "execution_count": null,
   "id": "93ff4ba7",
   "metadata": {},
   "outputs": [],
   "source": []
  }
 ],
 "metadata": {
  "kernelspec": {
   "display_name": "p39",
   "language": "python",
   "name": "p39"
  },
  "language_info": {
   "codemirror_mode": {
    "name": "ipython",
    "version": 3
   },
   "file_extension": ".py",
   "mimetype": "text/x-python",
   "name": "python",
   "nbconvert_exporter": "python",
   "pygments_lexer": "ipython3",
   "version": "3.9.7"
  }
 },
 "nbformat": 4,
 "nbformat_minor": 5
}
