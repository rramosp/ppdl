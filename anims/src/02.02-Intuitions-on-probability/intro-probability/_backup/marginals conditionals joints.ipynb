{
 "cells": [
  {
   "cell_type": "code",
   "execution_count": 1,
   "id": "1a5db42d",
   "metadata": {},
   "outputs": [],
   "source": [
    "import numpy as np\n",
    "import matplotlib.pyplot as plt\n",
    "import pandas as pd\n",
    "%matplotlib inline"
   ]
  },
  {
   "cell_type": "code",
   "execution_count": 2,
   "id": "c1f1dd58",
   "metadata": {},
   "outputs": [],
   "source": [
    "class Probs:\n",
    "    \n",
    "    def __init__(self, n):\n",
    "        assert len(n)==2, \"n must have two dimensions\"\n",
    "        \n",
    "        probs = np.random.random(size=n)*n[0]\n",
    "        probs = np.exp(probs)/np.sum(np.exp(probs))\n",
    "        probs = pd.DataFrame(\n",
    "                              probs, \n",
    "                              index   = [f\"A{i:02d}\" for i in range(n[0])],\n",
    "                              columns = [f\"B{i:02d}\" for i in range(n[1])]\n",
    "                            )       \n",
    "        self.probs = probs\n",
    "        \n",
    "    def random_ab(self):\n",
    "        return np.random.choice(self.probs.index), np.random.choice(self.probs.columns)\n",
    "        \n",
    "    def joint(self, a,b):\n",
    "        return self.probs.loc[a][b]        \n",
    "        \n",
    "    def conditional_ab(self, a, b):\n",
    "        return self.probs.loc[a][b] / self.probs[b].sum()\n",
    "\n",
    "    def conditional_ba(self, b, a):\n",
    "        return self.probs.loc[a][b] / self.probs.loc[a].sum()\n",
    "\n",
    "    def marginal_a(self, a):\n",
    "        return self.probs.loc[a].sum()\n",
    "\n",
    "    def marginal_b(self, b):\n",
    "        return self.probs[b].sum()"
   ]
  },
  {
   "cell_type": "markdown",
   "id": "a9781d75",
   "metadata": {},
   "source": [
    "# check relation between joint and conditional\n",
    "\n",
    "\n",
    "$$P(a,b) = P(a|b)P(b)$$"
   ]
  },
  {
   "cell_type": "code",
   "execution_count": 37,
   "id": "70915c59",
   "metadata": {},
   "outputs": [
    {
     "name": "stdout",
     "output_type": "stream",
     "text": [
      "B00    0.167857\n",
      "B01    0.346981\n",
      "B02    0.407914\n",
      "B03    0.077248\n",
      "dtype: float64 \n",
      " A00    0.472284\n",
      "A01    0.344986\n",
      "A02    0.182730\n",
      "dtype: float64 \n",
      " 0.9999999999999999\n"
     ]
    },
    {
     "data": {
      "text/plain": [
       "<matplotlib.image.AxesImage at 0x7f7ddba68310>"
      ]
     },
     "execution_count": 37,
     "metadata": {},
     "output_type": "execute_result"
    },
    {
     "data": {
      "image/png": "[encoded data removed]",
      "text/plain": [
       "<Figure size 432x288 with 1 Axes>"
      ]
     },
     "metadata": {
      "needs_background": "light"
     },
     "output_type": "display_data"
    }
   ],
   "source": [
    "p = Probs((3,4))\n",
    "\n",
    "print (p.probs.sum(), \"\\n\", p.probs.T.sum(), \"\\n\", p.probs.values.sum())\n",
    "plt.imshow(p.probs.values)"
   ]
  },
  {
   "cell_type": "markdown",
   "id": "c2cac9b5",
   "metadata": {},
   "source": [
    "# check joint is conditional times marginal\n",
    "\n",
    "$$P(a,b) = P(a|b)P(b)$$"
   ]
  },
  {
   "cell_type": "code",
   "execution_count": 38,
   "id": "b3eb5d66",
   "metadata": {},
   "outputs": [
    {
     "data": {
      "text/plain": [
       "('A02', 'B02')"
      ]
     },
     "execution_count": 38,
     "metadata": {},
     "output_type": "execute_result"
    }
   ],
   "source": [
    "a, b = p.random_ab()\n",
    "a, b"
   ]
  },
  {
   "cell_type": "code",
   "execution_count": 39,
   "id": "5d5e372a",
   "metadata": {},
   "outputs": [
    {
     "data": {
      "text/plain": [
       "0.10510025439277366"
      ]
     },
     "execution_count": 39,
     "metadata": {},
     "output_type": "execute_result"
    }
   ],
   "source": [
    "p.joint(a,b)"
   ]
  },
  {
   "cell_type": "code",
   "execution_count": 40,
   "id": "205d99e1",
   "metadata": {},
   "outputs": [
    {
     "data": {
      "text/plain": [
       "0.10510025439277365"
      ]
     },
     "execution_count": 40,
     "metadata": {},
     "output_type": "execute_result"
    }
   ],
   "source": [
    "p.conditional_ab(a,b) * p.marginal_b(b)"
   ]
  },
  {
   "cell_type": "code",
   "execution_count": null,
   "id": "1cc71067",
   "metadata": {},
   "outputs": [],
   "source": []
  },
  {
   "cell_type": "markdown",
   "id": "407e842d",
   "metadata": {},
   "source": [
    "# check bayes theorem\n",
    "\n",
    "$$P(a|b) = \\frac{P(b|a)P(a)}{P(b)} = \\frac{P(a,b)}{P(b)}$$"
   ]
  },
  {
   "cell_type": "code",
   "execution_count": 41,
   "id": "06d6cd55",
   "metadata": {},
   "outputs": [
    {
     "data": {
      "text/plain": [
       "('A00', 'B02')"
      ]
     },
     "execution_count": 41,
     "metadata": {},
     "output_type": "execute_result"
    }
   ],
   "source": [
    "a, b = p.random_ab()\n",
    "a, b"
   ]
  },
  {
   "cell_type": "code",
   "execution_count": 42,
   "id": "19d2f468",
   "metadata": {},
   "outputs": [
    {
     "data": {
      "text/plain": [
       "0.4433230657335284"
      ]
     },
     "execution_count": 42,
     "metadata": {},
     "output_type": "execute_result"
    }
   ],
   "source": [
    "p.conditional_ab(a, b)"
   ]
  },
  {
   "cell_type": "code",
   "execution_count": 43,
   "id": "f3eba4c8",
   "metadata": {},
   "outputs": [
    {
     "data": {
      "text/plain": [
       "0.4433230657335284"
      ]
     },
     "execution_count": 43,
     "metadata": {},
     "output_type": "execute_result"
    }
   ],
   "source": [
    "p.conditional_ba(b, a) * p.marginal_a(a) / p.marginal_b(b)"
   ]
  },
  {
   "cell_type": "code",
   "execution_count": 44,
   "id": "289d6303",
   "metadata": {},
   "outputs": [
    {
     "data": {
      "text/plain": [
       "0.4433230657335284"
      ]
     },
     "execution_count": 44,
     "metadata": {},
     "output_type": "execute_result"
    }
   ],
   "source": [
    "p.joint(a,b) / p.marginal_b(b)"
   ]
  },
  {
   "cell_type": "markdown",
   "id": "07e48645",
   "metadata": {},
   "source": [
    "# check normalization constant\n",
    "\n",
    "$$P(b) = \\sum_i P(b|a_i)p(a_i)$$"
   ]
  },
  {
   "cell_type": "code",
   "execution_count": 45,
   "id": "3515802a",
   "metadata": {},
   "outputs": [
    {
     "data": {
      "text/plain": [
       "('A01', 'B01')"
      ]
     },
     "execution_count": 45,
     "metadata": {},
     "output_type": "execute_result"
    }
   ],
   "source": [
    "a, b = p.random_ab()\n",
    "a, b"
   ]
  },
  {
   "cell_type": "code",
   "execution_count": 46,
   "id": "5d645e55",
   "metadata": {},
   "outputs": [
    {
     "data": {
      "text/plain": [
       "0.3469810815792717"
      ]
     },
     "execution_count": 46,
     "metadata": {},
     "output_type": "execute_result"
    }
   ],
   "source": [
    "p.marginal_b(b)"
   ]
  },
  {
   "cell_type": "code",
   "execution_count": 47,
   "id": "7f533d3a",
   "metadata": {},
   "outputs": [
    {
     "data": {
      "text/plain": [
       "0.3469810815792717"
      ]
     },
     "execution_count": 47,
     "metadata": {},
     "output_type": "execute_result"
    }
   ],
   "source": [
    "np.sum([p.conditional_ba(b,ai)*p.marginal_a(ai) for ai in p.probs.index])"
   ]
  },
  {
   "cell_type": "code",
   "execution_count": null,
   "id": "5b5224aa",
   "metadata": {},
   "outputs": [],
   "source": []
  }
 ],
 "metadata": {
  "kernelspec": {
   "display_name": "p39",
   "language": "python",
   "name": "p39"
  },
  "language_info": {
   "codemirror_mode": {
    "name": "ipython",
    "version": 3
   },
   "file_extension": ".py",
   "mimetype": "text/x-python",
   "name": "python",
   "nbconvert_exporter": "python",
   "pygments_lexer": "ipython3",
   "version": "3.9.7"
  }
 },
 "nbformat": 4,
 "nbformat_minor": 5
}
