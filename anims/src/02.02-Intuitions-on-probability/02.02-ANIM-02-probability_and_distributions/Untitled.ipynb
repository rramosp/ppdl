{
 "cells": [
  {
   "cell_type": "code",
   "execution_count": 2,
   "id": "272f3716",
   "metadata": {},
   "outputs": [],
   "source": [
    "from scipy import stats\n",
    "import matplotlib.pyplot as plt\n",
    "import pandas as pd\n",
    "%matplotlib inline\n",
    "import numpy as np"
   ]
  },
  {
   "cell_type": "code",
   "execution_count": 49,
   "id": "1ca69bc1",
   "metadata": {},
   "outputs": [
    {
     "data": {
      "text/html": [
       "<div>\n",
       "<style scoped>\n",
       "    .dataframe tbody tr th:only-of-type {\n",
       "        vertical-align: middle;\n",
       "    }\n",
       "\n",
       "    .dataframe tbody tr th {\n",
       "        vertical-align: top;\n",
       "    }\n",
       "\n",
       "    .dataframe thead th {\n",
       "        text-align: right;\n",
       "    }\n",
       "</style>\n",
       "<table border=\"1\" class=\"dataframe\">\n",
       "  <thead>\n",
       "    <tr style=\"text-align: right;\">\n",
       "      <th></th>\n",
       "      <th>2022</th>\n",
       "      <th>name</th>\n",
       "    </tr>\n",
       "  </thead>\n",
       "  <tbody>\n",
       "    <tr>\n",
       "      <th>16</th>\n",
       "      <td>0.979496</td>\n",
       "      <td>Armenia</td>\n",
       "    </tr>\n",
       "    <tr>\n",
       "      <th>3</th>\n",
       "      <td>4.287980</td>\n",
       "      <td>Barranquilla</td>\n",
       "    </tr>\n",
       "    <tr>\n",
       "      <th>10</th>\n",
       "      <td>1.220577</td>\n",
       "      <td>Bello</td>\n",
       "    </tr>\n",
       "    <tr>\n",
       "      <th>0</th>\n",
       "      <td>23.838692</td>\n",
       "      <td>Bogota</td>\n",
       "    </tr>\n",
       "    <tr>\n",
       "      <th>6</th>\n",
       "      <td>1.776230</td>\n",
       "      <td>Bucaramanga</td>\n",
       "    </tr>\n",
       "    <tr>\n",
       "      <th>1</th>\n",
       "      <td>7.432934</td>\n",
       "      <td>Cali</td>\n",
       "    </tr>\n",
       "    <tr>\n",
       "      <th>4</th>\n",
       "      <td>2.957248</td>\n",
       "      <td>Cartagena</td>\n",
       "    </tr>\n",
       "    <tr>\n",
       "      <th>5</th>\n",
       "      <td>2.240861</td>\n",
       "      <td>Cucuta</td>\n",
       "    </tr>\n",
       "    <tr>\n",
       "      <th>9</th>\n",
       "      <td>1.309870</td>\n",
       "      <td>Ibague</td>\n",
       "    </tr>\n",
       "    <tr>\n",
       "      <th>19</th>\n",
       "      <td>0.875513</td>\n",
       "      <td>Itaguei</td>\n",
       "    </tr>\n",
       "    <tr>\n",
       "      <th>12</th>\n",
       "      <td>1.111469</td>\n",
       "      <td>Manizales</td>\n",
       "    </tr>\n",
       "    <tr>\n",
       "      <th>2</th>\n",
       "      <td>6.212485</td>\n",
       "      <td>Medellin</td>\n",
       "    </tr>\n",
       "    <tr>\n",
       "      <th>13</th>\n",
       "      <td>1.096065</td>\n",
       "      <td>Neiva</td>\n",
       "    </tr>\n",
       "    <tr>\n",
       "      <th>11</th>\n",
       "      <td>1.187330</td>\n",
       "      <td>Pasto</td>\n",
       "    </tr>\n",
       "    <tr>\n",
       "      <th>7</th>\n",
       "      <td>1.367128</td>\n",
       "      <td>Pereira</td>\n",
       "    </tr>\n",
       "    <tr>\n",
       "      <th>8</th>\n",
       "      <td>1.341231</td>\n",
       "      <td>Santa Marta</td>\n",
       "    </tr>\n",
       "    <tr>\n",
       "      <th>17</th>\n",
       "      <td>0.975200</td>\n",
       "      <td>Soacha</td>\n",
       "    </tr>\n",
       "    <tr>\n",
       "      <th>14</th>\n",
       "      <td>1.064073</td>\n",
       "      <td>Soledad</td>\n",
       "    </tr>\n",
       "    <tr>\n",
       "      <th>18</th>\n",
       "      <td>0.957469</td>\n",
       "      <td>Valledupar</td>\n",
       "    </tr>\n",
       "    <tr>\n",
       "      <th>15</th>\n",
       "      <td>0.999342</td>\n",
       "      <td>Villavicencio</td>\n",
       "    </tr>\n",
       "  </tbody>\n",
       "</table>\n",
       "</div>"
      ],
      "text/plain": [
       "         2022           name\n",
       "16   0.979496        Armenia\n",
       "3    4.287980   Barranquilla\n",
       "10   1.220577          Bello\n",
       "0   23.838692         Bogota\n",
       "6    1.776230    Bucaramanga\n",
       "1    7.432934           Cali\n",
       "4    2.957248      Cartagena\n",
       "5    2.240861         Cucuta\n",
       "9    1.309870         Ibague\n",
       "19   0.875513        Itaguei\n",
       "12   1.111469      Manizales\n",
       "2    6.212485       Medellin\n",
       "13   1.096065          Neiva\n",
       "11   1.187330          Pasto\n",
       "7    1.367128        Pereira\n",
       "8    1.341231    Santa Marta\n",
       "17   0.975200         Soacha\n",
       "14   1.064073        Soledad\n",
       "18   0.957469     Valledupar\n",
       "15   0.999342  Villavicencio"
      ]
     },
     "execution_count": 49,
     "metadata": {},
     "output_type": "execute_result"
    }
   ],
   "source": [
    "c = pd.read_csv(\"data/cities_colombia.csv\")\n",
    "c['2022'] = c['2022']/c['2022'].sum()*100\n",
    "c = c.head(20)\n",
    "c = c.sort_values(by=\"name\")\n",
    "c"
   ]
  },
  {
   "cell_type": "code",
   "execution_count": 41,
   "id": "c491ad70",
   "metadata": {},
   "outputs": [
    {
     "data": {
      "text/plain": [
       "32192899"
      ]
     },
     "execution_count": 41,
     "metadata": {},
     "output_type": "execute_result"
    }
   ],
   "source": [
    "c['2022'].sum()"
   ]
  },
  {
   "cell_type": "code",
   "execution_count": 74,
   "id": "0df8e652",
   "metadata": {},
   "outputs": [
    {
     "data": {
      "text/plain": [
       "[<matplotlib.lines.Line2D at 0x7f3163d27220>]"
      ]
     },
     "execution_count": 74,
     "metadata": {},
     "output_type": "execute_result"
    },
    {
     "data": {
      "image/png": "[encoded data removed]",
      "text/plain": [
       "<Figure size 432x288 with 1 Axes>"
      ]
     },
     "metadata": {
      "needs_background": "light"
     },
     "output_type": "display_data"
    }
   ],
   "source": [
    "xr = np.linspace(50,200,100)\n",
    "plt.plot(xr, stats.beta(a=4, b=2.5).pdf( (xr-50)/150))"
   ]
  },
  {
   "cell_type": "markdown",
   "id": "62e75498",
   "metadata": {},
   "source": [
    "# "
   ]
  },
  {
   "cell_type": "code",
   "execution_count": 12,
   "id": "addd4c3d",
   "metadata": {},
   "outputs": [
    {
     "data": {
      "text/plain": [
       "<AxesSubplot:>"
      ]
     },
     "execution_count": 12,
     "metadata": {},
     "output_type": "execute_result"
    },
    {
     "data": {
      "image/png": "[encoded data removed]",
      "text/plain": [
       "<Figure size 432x288 with 1 Axes>"
      ]
     },
     "metadata": {
      "needs_background": "light"
     },
     "output_type": "display_data"
    }
   ],
   "source": [
    "s = stats.poisson(mu=50, loc=50).rvs(10000)\n",
    "s = (pd.Series(s).value_counts()/len(s)*100).sort_index()\n",
    "labels = [f\"{i} msgs\" for i in s.index]\n",
    "vals = list(s.values)\n",
    "s.plot(kind='bar')"
   ]
  },
  {
   "cell_type": "code",
   "execution_count": 22,
   "id": "b5ddf0fd",
   "metadata": {},
   "outputs": [
    {
     "data": {
      "text/plain": [
       "<AxesSubplot:>"
      ]
     },
     "execution_count": 22,
     "metadata": {},
     "output_type": "execute_result"
    },
    {
     "data": {
      "image/png": "[encoded data removed]",
      "text/plain": [
       "<Figure size 432x288 with 1 Axes>"
      ]
     },
     "metadata": {
      "needs_background": "light"
     },
     "output_type": "display_data"
    }
   ],
   "source": [
    "s = stats.poisson(mu=80, loc=100).rvs(10000)\n",
    "s = (pd.Series(s).value_counts()/len(s)*100).sort_index()\n",
    "labels = [f\"{i} msgs\" for i in s.index]\n",
    "vals = list(s.values)\n",
    "s.plot(kind='bar')"
   ]
  },
  {
   "cell_type": "code",
   "execution_count": 18,
   "id": "4fbfe284",
   "metadata": {},
   "outputs": [
    {
     "data": {
      "text/plain": [
       "array([ 5., 10., 15., 20., 25., 30.])"
      ]
     },
     "execution_count": 18,
     "metadata": {},
     "output_type": "execute_result"
    }
   ],
   "source": [
    "hlines = np.linspace(0,100,21)[1:]\n",
    "hlines = hlines[hlines<33]\n",
    "hlines"
   ]
  },
  {
   "cell_type": "code",
   "execution_count": 36,
   "id": "321a21ca",
   "metadata": {},
   "outputs": [
    {
     "data": {
      "image/png": "[encoded data removed]",
      "text/plain": [
       "<Figure size 432x288 with 1 Axes>"
      ]
     },
     "metadata": {
      "needs_background": "light"
     },
     "output_type": "display_data"
    }
   ],
   "source": [
    "s = stats.poisson(mu=5, loc=5).rvs(10000)\n",
    "plt.hist(s, bins=100);"
   ]
  },
  {
   "cell_type": "code",
   "execution_count": 28,
   "id": "7d875bf1",
   "metadata": {},
   "outputs": [],
   "source": [
    "s = stats.poisson(mu=5, loc=0).rvs(10000)\n",
    "s = (pd.Series(s).value_counts()/len(s)*100).sort_index()\n",
    "labels = list(s.index)\n",
    "vals = list(s.values)"
   ]
  },
  {
   "cell_type": "code",
   "execution_count": 26,
   "id": "c726747c",
   "metadata": {},
   "outputs": [
    {
     "data": {
      "text/plain": [
       "Int64Index([0, 1, 2, 3, 4, 5, 6, 7, 8, 9, 10, 11, 12, 13, 14, 15, 16, 17], dtype='int64')"
      ]
     },
     "execution_count": 26,
     "metadata": {},
     "output_type": "execute_result"
    }
   ],
   "source": [
    "s.index"
   ]
  },
  {
   "cell_type": "code",
   "execution_count": 29,
   "id": "4303daf1",
   "metadata": {},
   "outputs": [
    {
     "data": {
      "text/plain": [
       "[0, 1, 2, 3, 4, 5, 6, 7, 8, 9, 10, 11, 12, 13, 14, 15, 16]"
      ]
     },
     "execution_count": 29,
     "metadata": {},
     "output_type": "execute_result"
    }
   ],
   "source": [
    "labels"
   ]
  },
  {
   "cell_type": "code",
   "execution_count": 30,
   "id": "c91bf827",
   "metadata": {},
   "outputs": [
    {
     "data": {
      "text/plain": [
       "[0.6799999999999999,\n",
       " 3.4099999999999997,\n",
       " 7.829999999999999,\n",
       " 14.280000000000001,\n",
       " 17.86,\n",
       " 17.26,\n",
       " 14.399999999999999,\n",
       " 10.71,\n",
       " 6.710000000000001,\n",
       " 3.51,\n",
       " 1.87,\n",
       " 0.8,\n",
       " 0.41000000000000003,\n",
       " 0.12,\n",
       " 0.13,\n",
       " 0.01,\n",
       " 0.01]"
      ]
     },
     "execution_count": 30,
     "metadata": {},
     "output_type": "execute_result"
    }
   ],
   "source": [
    "vals"
   ]
  },
  {
   "cell_type": "code",
   "execution_count": 28,
   "id": "0a64b67a",
   "metadata": {},
   "outputs": [
    {
     "data": {
      "text/plain": [
       "[<matplotlib.lines.Line2D at 0x7f8352d661c0>]"
      ]
     },
     "execution_count": 28,
     "metadata": {},
     "output_type": "execute_result"
    },
    {
     "data": {
      "image/png": "[encoded data removed]",
      "text/plain": [
       "<Figure size 432x288 with 1 Axes>"
      ]
     },
     "metadata": {
      "needs_background": "light"
     },
     "output_type": "display_data"
    }
   ],
   "source": [
    "xr = np.linspace(0,80,100)\n",
    "plt.plot(xr, stats.norm(loc=40, scale=10).pdf(xr))"
   ]
  },
  {
   "cell_type": "code",
   "execution_count": 29,
   "id": "727ffc34",
   "metadata": {},
   "outputs": [
    {
     "data": {
      "text/plain": [
       "[<matplotlib.lines.Line2D at 0x7f8352d52b50>]"
      ]
     },
     "execution_count": 29,
     "metadata": {},
     "output_type": "execute_result"
    },
    {
     "data": {
      "image/png": "[encoded data removed]",
      "text/plain": [
       "<Figure size 432x288 with 1 Axes>"
      ]
     },
     "metadata": {
      "needs_background": "light"
     },
     "output_type": "display_data"
    }
   ],
   "source": [
    "f, xr = lambda x: np.exp(-(x+1)**2) + .8*np.exp(-5*(x-1)**2), np.linspace(-2,2, 100)\n",
    "plt.plot(xr, f(xr))"
   ]
  },
  {
   "cell_type": "code",
   "execution_count": 31,
   "id": "0fc07d62",
   "metadata": {},
   "outputs": [
    {
     "data": {
      "text/plain": [
       "[<matplotlib.lines.Line2D at 0x7f8352c681c0>]"
      ]
     },
     "execution_count": 31,
     "metadata": {},
     "output_type": "execute_result"
    },
    {
     "data": {
      "image/png": "[encoded data removed]",
      "text/plain": [
       "<Figure size 432x288 with 1 Axes>"
      ]
     },
     "metadata": {
      "needs_background": "light"
     },
     "output_type": "display_data"
    }
   ],
   "source": [
    "f = lambda x: np.exp(-4*(x-1)**2) + .8*np.exp(-5*(x)**2)\n",
    "plt.plot(xr, f(xr))"
   ]
  },
  {
   "cell_type": "code",
   "execution_count": 36,
   "id": "4482af93",
   "metadata": {},
   "outputs": [
    {
     "data": {
      "text/plain": [
       "[<matplotlib.lines.Line2D at 0x7f8352a73be0>]"
      ]
     },
     "execution_count": 36,
     "metadata": {},
     "output_type": "execute_result"
    },
    {
     "data": {
      "image/png": "[encoded data removed]",
      "text/plain": [
       "<Figure size 432x288 with 1 Axes>"
      ]
     },
     "metadata": {
      "needs_background": "light"
     },
     "output_type": "display_data"
    }
   ],
   "source": [
    "f = lambda x: np.exp(-4*(x/1.5-1)**2) \n",
    "plt.plot(xr, f(xr))"
   ]
  },
  {
   "cell_type": "code",
   "execution_count": null,
   "id": "8602bf06",
   "metadata": {},
   "outputs": [],
   "source": []
  },
  {
   "cell_type": "code",
   "execution_count": null,
   "id": "9737ba11",
   "metadata": {},
   "outputs": [],
   "source": []
  },
  {
   "cell_type": "code",
   "execution_count": null,
   "id": "de71bb9e",
   "metadata": {},
   "outputs": [],
   "source": []
  },
  {
   "cell_type": "code",
   "execution_count": null,
   "id": "5e4d0ba2",
   "metadata": {},
   "outputs": [],
   "source": []
  },
  {
   "cell_type": "code",
   "execution_count": null,
   "id": "8381bd81",
   "metadata": {},
   "outputs": [],
   "source": []
  }
 ],
 "metadata": {
  "kernelspec": {
   "display_name": "p39",
   "language": "python",
   "name": "p39"
  },
  "language_info": {
   "codemirror_mode": {
    "name": "ipython",
    "version": 3
   },
   "file_extension": ".py",
   "mimetype": "text/x-python",
   "name": "python",
   "nbconvert_exporter": "python",
   "pygments_lexer": "ipython3",
   "version": "3.9.7"
  }
 },
 "nbformat": 4,
 "nbformat_minor": 5
}
