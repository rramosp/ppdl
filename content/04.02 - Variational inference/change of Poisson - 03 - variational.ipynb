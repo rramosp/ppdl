{
 "cells": [
  {
   "cell_type": "code",
   "execution_count": 1,
   "id": "fe8d6f8b",
   "metadata": {},
   "outputs": [],
   "source": [
    "import numpy as np\n",
    "import matplotlib.pyplot as plt\n",
    "from scipy import stats\n",
    "from scipy.integrate import quad\n",
    "from progressbar import progressbar as pbar\n",
    "from rlxutils import subplots, copy_func\n",
    "%matplotlib inline"
   ]
  },
  {
   "cell_type": "code",
   "execution_count": 2,
   "id": "97e69b2e",
   "metadata": {},
   "outputs": [],
   "source": [
    "# real (and unknown) parameter\n",
    "real_tau = 0.8\n",
    "\n",
    "# possible range of values for tau\n",
    "tau_support = 0,1"
   ]
  },
  {
   "cell_type": "code",
   "execution_count": 3,
   "id": "a28fbc40",
   "metadata": {},
   "outputs": [],
   "source": [
    "class TModel:\n",
    "        \n",
    "    poisson_A = stats.poisson(2)\n",
    "    poisson_B = stats.poisson(4)\n",
    "\n",
    "    def __init__(self, tau):        \n",
    "        assert tau>=0 and tau<=1        \n",
    "        self.tau = tau\n",
    "        \n",
    "    def rvs(self, n):\n",
    "        n1 = int(n*self.tau)        \n",
    "        r = list(self.poisson_A.rvs(n1)) + list(self.poisson_B.rvs(n - n1))\n",
    "        return r\n",
    "    \n",
    "    def logprob(self, x):\n",
    "        n = int(len(x)*self.tau)\n",
    "        return np.sum(np.log(self.poisson_A.pmf(x[:n]))) + np.sum(np.log(self.poisson_B.pmf(x[n:])))    \n",
    "         "
   ]
  },
  {
   "cell_type": "markdown",
   "id": "773be770",
   "metadata": {},
   "source": [
    "# Our observations\n"
   ]
  },
  {
   "cell_type": "code",
   "execution_count": 141,
   "id": "d47c64b8",
   "metadata": {},
   "outputs": [],
   "source": [
    "x = TModel(tau=real_tau).rvs(300)\n",
    "\n",
    "# use this small sample for comparisons with other notebooks\n",
    "#x = [3, 3, 2, 3, 1, 1, 1, 1, 0, 1, 0, 2, 0, 2, 3, 2, 0, 3, 2, 2, 2, 2, 2, 1, 1, 5, 6, 2, 3, 4]\n"
   ]
  },
  {
   "cell_type": "code",
   "execution_count": 142,
   "id": "e75a5ae8",
   "metadata": {},
   "outputs": [
    {
     "data": {
      "text/plain": [
       "Text(0.5, 0, '$\\\\tau$')"
      ]
     },
     "execution_count": 142,
     "metadata": {},
     "output_type": "execute_result"
    },
    {
     "data": {
      "image/png": "[encoded data removed]",
      "text/plain": [
       "<Figure size 720x216 with 1 Axes>"
      ]
     },
     "metadata": {
      "needs_background": "light"
     },
     "output_type": "display_data"
    }
   ],
   "source": [
    "plt.figure(figsize=(10,3))\n",
    "plt.scatter(np.arange(len(x))/len(x), x)\n",
    "plt.axvline((real_tau*len(x)+.5)/len(x), ls=\"--\", color=\"black\", label=r\"the real (unknown) $\\tau$\")\n",
    "plt.grid(); plt.legend();\n",
    "plt.xlabel(r\"$\\tau$\")"
   ]
  },
  {
   "cell_type": "markdown",
   "id": "d99eac10",
   "metadata": {},
   "source": [
    "# A variational model"
   ]
  },
  {
   "cell_type": "code",
   "execution_count": 143,
   "id": "9b8eb09c",
   "metadata": {},
   "outputs": [],
   "source": [
    "from tensorflow.keras import Model, Sequential\n",
    "from tensorflow.keras.layers import Dense, InputLayer\n",
    "import tensorflow as tf\n",
    "import tensorflow_probability as tfp\n",
    "tfd = tfp.distributions"
   ]
  },
  {
   "cell_type": "code",
   "execution_count": 144,
   "id": "2fd0b664",
   "metadata": {},
   "outputs": [],
   "source": [
    "def log_likelihood(x, tau):\n",
    "    lambda_A, lambda_B = 2., 4.\n",
    "\n",
    "    n = len(x)\n",
    "    n1 = tf.cast(tf.cast(n, tf.float32)*tau, tf.int32)\n",
    "\n",
    "    lambdas = tf.concat([tf.ones(n1)*lambda_A, tf.ones(n-n1)*lambda_B], 0)\n",
    "\n",
    "    return tf.reduce_sum(tfd.Poisson(rate=lambdas).log_prob(x))"
   ]
  },
  {
   "cell_type": "code",
   "execution_count": null,
   "id": "24123857",
   "metadata": {},
   "outputs": [],
   "source": []
  },
  {
   "cell_type": "markdown",
   "id": "fc0c6477",
   "metadata": {},
   "source": [
    "we want $q(\\tau)$ which is an approximation for $P(\\tau|X)$\n",
    "\n",
    "$$q(\\tau) \\approx P(\\tau|X) = \\frac{P(X|\\tau)P(\\tau)}{P(X)} $$\n",
    "\n",
    "so we maximixe the ELBO\n",
    "\n",
    "$$\\underset{\\theta}{\\text{arg max}}\\;\\; \\mathbb{E}_{q_\\theta(z)}\\Big[\\log P(X|\\tau)\\Big] - \\text{KL}\\Big[q_\\theta(\\tau)|P(\\tau)\\Big]$$\n",
    "\n",
    "$$\\underset{\\theta}{\\text{arg max}}\\;\\; \\int q_\\theta(z) \\log P(X|\\tau) d\\tau - \\int q_\\theta(\\tau) \\log \\frac{q_\\theta(\\tau)}{P(\\tau)} d\\tau$$\n",
    "\n",
    "$$\\underset{\\theta}{\\text{arg max}}\\;\\; \\int \\Big[ q_\\theta(z) \\log P(X|\\tau)\\Big] d\\tau - \\int q_\\theta(\\tau) \\Big[ \\log q_\\theta(\\tau)- \\log P(\\tau) \\Big] d\\tau$$\n",
    "\n",
    "We'll do naive numerical integration splitting the interval $[0,1]$ for $\\tau$ and summing up. Also, since we are using a uniform uninformative prior $P(\\tau)=1$ and $\\log P(\\tau) = 0$\n",
    "\n",
    "$$\\underset{\\theta}{\\text{arg max}}\\;\\; \\sum q_\\theta(z) \\log P(X|\\tau) \\Delta\\tau - \\sum q_\\theta(\\tau) \\log q_\\theta(\\tau)  \\Delta\\tau$$\n"
   ]
  },
  {
   "cell_type": "code",
   "execution_count": 145,
   "id": "f0765179",
   "metadata": {},
   "outputs": [],
   "source": [
    "rtau = np.linspace(0,1,100)\n",
    "dtau = rtau[1] - rtau[0]"
   ]
  },
  {
   "cell_type": "code",
   "execution_count": 158,
   "id": "5897372b",
   "metadata": {},
   "outputs": [
    {
     "data": {
      "text/plain": [
       "0.48427681971077974"
      ]
     },
     "execution_count": 158,
     "metadata": {},
     "output_type": "execute_result"
    },
    {
     "data": {
      "image/png": "[encoded data removed]",
      "text/plain": [
       "<Figure size 432x288 with 1 Axes>"
      ]
     },
     "metadata": {
      "needs_background": "light"
     },
     "output_type": "display_data"
    }
   ],
   "source": [
    "q = Sequential( [\n",
    "    InputLayer(1),\n",
    "    Dense(20, activation=\"relu\"),\n",
    "    Dense(1, activation=\"sigmoid\")\n",
    "    \n",
    "])\n",
    "ptau = q(rtau).numpy()[:,0]\n",
    "plt.plot(ptau)\n",
    "np.sum(ptau)*dtau\n"
   ]
  },
  {
   "cell_type": "code",
   "execution_count": 159,
   "id": "13c9a016",
   "metadata": {},
   "outputs": [],
   "source": [
    "optimizer=tf.keras.optimizers.Adam(learning_rate=0.05)"
   ]
  },
  {
   "cell_type": "code",
   "execution_count": 160,
   "id": "93d19dc1",
   "metadata": {},
   "outputs": [
    {
     "name": "stdout",
     "output_type": "stream",
     "text": [
      "epoch   0 loss: +28684.06641\n",
      "epoch   1 loss: +24716.78711\n",
      "epoch   2 loss: +20561.88867\n",
      "epoch   3 loss: +16378.88867\n",
      "epoch   4 loss: +12430.28809\n",
      "epoch   5 loss: +8969.72168\n",
      "epoch   6 loss: +6171.31201\n",
      "epoch   7 loss: +4080.33301\n",
      "epoch   8 loss: +2623.29736\n",
      "epoch   9 loss: +1660.90747\n",
      "epoch  10 loss: +1047.71179\n",
      "epoch  11 loss: +664.72168\n",
      "epoch  12 loss: +427.13260\n",
      "epoch  13 loss: +279.29263\n",
      "epoch  14 loss: +186.38205\n",
      "epoch  15 loss: +127.14396\n",
      "epoch  16 loss: +88.72098\n",
      "epoch  17 loss: +63.32981\n",
      "epoch  18 loss: +46.22371\n",
      "epoch  19 loss: +34.47432\n",
      "epoch  20 loss: +26.24947\n",
      "epoch  21 loss: +20.38504\n",
      "epoch  22 loss: +16.12926\n",
      "epoch  23 loss: +12.98864\n",
      "epoch  24 loss: +10.63394\n",
      "epoch  25 loss: +8.84194\n",
      "epoch  26 loss: +7.45898\n",
      "epoch  27 loss: +6.37763\n",
      "epoch  28 loss: +5.52175\n",
      "epoch  29 loss: +4.83661\n",
      "epoch  30 loss: +4.28235\n",
      "epoch  31 loss: +3.82957\n",
      "epoch  32 loss: +3.45635\n",
      "epoch  33 loss: +3.14613\n",
      "epoch  34 loss: +2.88629\n",
      "epoch  35 loss: +2.66710\n",
      "epoch  36 loss: +2.48098\n",
      "epoch  37 loss: +2.32199\n",
      "epoch  38 loss: +2.18542\n",
      "epoch  39 loss: +2.06751\n",
      "epoch  40 loss: +1.96524\n",
      "epoch  41 loss: +1.87614\n",
      "epoch  42 loss: +1.79820\n",
      "epoch  43 loss: +1.72979\n",
      "epoch  44 loss: +1.66952\n",
      "epoch  45 loss: +1.61628\n",
      "epoch  46 loss: +1.56909\n",
      "epoch  47 loss: +1.52716\n",
      "epoch  48 loss: +1.48981\n",
      "epoch  49 loss: +1.45647\n"
     ]
    }
   ],
   "source": [
    "for epoch in range(50):\n",
    "    with tf.GradientTape() as t:\n",
    "        lz   = tf.convert_to_tensor(np.r_[[log_likelihood(x, tau) for tau in rtau]].reshape(-1,1))  \n",
    "        qz   = q(rtau)\n",
    "        loss = -tf.reduce_sum(lz*qz*dtau - qz*tf.math.log(qz)*dtau)\n",
    "\n",
    "    print (f\"epoch {epoch:3d} loss: {loss:+.5f}\")\n",
    "    grads = t.gradient(loss, q.trainable_variables)\n",
    "    optimizer.apply_gradients(zip(grads, q.trainable_variables))\n"
   ]
  },
  {
   "cell_type": "code",
   "execution_count": 161,
   "id": "8547b347",
   "metadata": {},
   "outputs": [
    {
     "data": {
      "text/plain": [
       "[<matplotlib.lines.Line2D at 0x7faa0eb1d5e0>]"
      ]
     },
     "execution_count": 161,
     "metadata": {},
     "output_type": "execute_result"
    },
    {
     "data": {
      "image/png": "[encoded data removed]",
      "text/plain": [
       "<Figure size 432x288 with 1 Axes>"
      ]
     },
     "metadata": {
      "needs_background": "light"
     },
     "output_type": "display_data"
    }
   ],
   "source": [
    "ptau = q(rtau).numpy()[:,0]\n",
    "plt.plot(rtau, ptau)"
   ]
  },
  {
   "cell_type": "code",
   "execution_count": 162,
   "id": "262e88c3",
   "metadata": {},
   "outputs": [
    {
     "data": {
      "text/plain": [
       "2.196224904948413e-05"
      ]
     },
     "execution_count": 162,
     "metadata": {},
     "output_type": "execute_result"
    }
   ],
   "source": [
    "np.sum(ptau)*dtau"
   ]
  },
  {
   "cell_type": "code",
   "execution_count": null,
   "id": "4d677bd4",
   "metadata": {},
   "outputs": [],
   "source": []
  }
 ],
 "metadata": {
  "kernelspec": {
   "display_name": "p39",
   "language": "python",
   "name": "p39"
  },
  "language_info": {
   "codemirror_mode": {
    "name": "ipython",
    "version": 3
   },
   "file_extension": ".py",
   "mimetype": "text/x-python",
   "name": "python",
   "nbconvert_exporter": "python",
   "pygments_lexer": "ipython3",
   "version": "3.9.7"
  }
 },
 "nbformat": 4,
 "nbformat_minor": 5
}
