{
 "cells": [
  {
   "cell_type": "code",
   "execution_count": 1,
   "metadata": {},
   "outputs": [],
   "source": [
    "import sympy as sy\n",
    "import numpy as np\n",
    "import matplotlib.pyplot as plt\n",
    "from scipy import stats\n",
    "from scipy.integrate import quad\n",
    "%matplotlib inline"
   ]
  },
  {
   "cell_type": "markdown",
   "metadata": {},
   "source": [
    "# Gradients of expectations\n",
    "\n",
    "\n",
    "- https://gregorygundersen.com/blog/2018/04/29/reparameterization/\n",
    "- https://ermongroup.github.io/cs228-notes/\n",
    "- https://ermongroup.github.io/cs228-notes/extras/vae/\n",
    "- https://stats.stackexchange.com/questions/199605/how-does-the-reparameterization-trick-for-vaes-work-and-why-is-it-important\n",
    "\n",
    "\n",
    "**OUR GOAL**: We want to maximize an expectation of a function with respect to a probability distribution\n",
    "\n",
    "**OUR PLAN**: Obtain the gradient of the expectation and minimize\n",
    "\n",
    "**REPARAMETRIZATION TRICK**: (according to [here](http://blog.shakirm.com/2015/10/machine-learning-trick-of-the-day-4-reparameterisation-tricks/) ) the substitution of a random variable by a deterministic transformation of a simpler random variable.\n"
   ]
  },
  {
   "cell_type": "markdown",
   "metadata": {},
   "source": [
    "## Computing an expectation\n",
    "\n",
    "recall the montecarlo aproximation of an expectation\n",
    "\n",
    "$$\n",
    "\\begin{align}\n",
    "\\mathbb{E}_{z\\sim p(z)} \\big[f(z)\\big] &= \\int_0^\\infty p(z)f(z) dz & (1)\\\\\n",
    "&\\approx \\frac{1}{N}\\sum_{z_i \\sim p(z)}^N f(z_i)  & (2)\n",
    "\\end{align}\n",
    "$$\n",
    "\n",
    "we check it with a custom distribution, and any $f(z)$:\n",
    "\n",
    "- $z \\in [1, 2]$\n",
    "- $p(z) = m (z-3/2) + 1$, with $m \\in [-2,2]$"
   ]
  },
  {
   "cell_type": "code",
   "execution_count": 2,
   "metadata": {},
   "outputs": [],
   "source": [
    "m, z, r = sy.symbols(\"m z r\")                       # symbols\n",
    "mn  = -2                                 # a numerical value for m\n",
    "\n",
    "assert mn!=0 and mn>=-2 and mn<=2\n",
    "\n",
    "pdf  = m*(z-sy.Integer(3)/sy.Integer(2))+1     # PDF\n",
    "cdf  = pdf.integrate(z)                        # CDF\n",
    "cdf = cdf - cdf.subs({z:1})\n",
    "icdf = sy.solve(cdf-r, z)[1]                     # inverse CDF (for sampling)\n",
    "\n",
    "# numpy functions for pdf, cdf, inverse cdf\n",
    "pdfn  = sy.lambdify(z, pdf.subs({m:mn}), \"numpy\") \n",
    "cdfn  = sy.lambdify(z, cdf.subs({m:mn}), \"numpy\")\n",
    "icdfn = sy.lambdify(r, icdf.subs({m:mn}), \"numpy\")\n",
    "\n",
    "sample = lambda n_samples: icdfn(np.random.random(n_samples))\n",
    "\n",
    "f  = sy.sin(z)                            # any function (symbolic)\n",
    "fn = sy.lambdify(z, f, \"numpy\")                # evaluable"
   ]
  },
  {
   "cell_type": "code",
   "execution_count": 3,
   "metadata": {},
   "outputs": [
    {
     "data": {
      "text/latex": [
       "$\\displaystyle \\frac{m z^{2}}{2} + m + z \\left(1 - \\frac{3 m}{2}\\right) - 1$"
      ],
      "text/plain": [
       "m*z**2/2 + m + z*(1 - 3*m/2) - 1"
      ]
     },
     "execution_count": 3,
     "metadata": {},
     "output_type": "execute_result"
    }
   ],
   "source": [
    "cdf"
   ]
  },
  {
   "cell_type": "code",
   "execution_count": 4,
   "metadata": {},
   "outputs": [
    {
     "data": {
      "text/latex": [
       "$\\displaystyle \\left[\\begin{matrix}4 - 2 z\\\\- z^{2} + 4 z - 3\\\\2 - \\frac{\\sqrt{16 - 16 r}}{4}\\end{matrix}\\right]$"
      ],
      "text/plain": [
       "Matrix([\n",
       "[              4 - 2*z],\n",
       "[      -z**2 + 4*z - 3],\n",
       "[2 - sqrt(16 - 16*r)/4]])"
      ]
     },
     "execution_count": 4,
     "metadata": {},
     "output_type": "execute_result"
    }
   ],
   "source": [
    "# pdf, cdf\n",
    "sy.Matrix([pdf.subs({m:mn}), cdf.subs({m:mn}), icdf.subs({m:mn})])"
   ]
  },
  {
   "cell_type": "markdown",
   "metadata": {},
   "source": [
    "sanity checks"
   ]
  },
  {
   "cell_type": "code",
   "execution_count": 5,
   "metadata": {},
   "outputs": [
    {
     "data": {
      "text/plain": [
       "True"
      ]
     },
     "execution_count": 5,
     "metadata": {},
     "output_type": "execute_result"
    }
   ],
   "source": [
    "np.allclose(cdfn(2), 1)  # CDF at 1 is 1"
   ]
  },
  {
   "cell_type": "code",
   "execution_count": 6,
   "metadata": {},
   "outputs": [
    {
     "data": {
      "text/plain": [
       "(1, 0)"
      ]
     },
     "execution_count": 6,
     "metadata": {},
     "output_type": "execute_result"
    }
   ],
   "source": [
    "cdfn(2), cdfn(1)"
   ]
  },
  {
   "cell_type": "code",
   "execution_count": 7,
   "metadata": {},
   "outputs": [
    {
     "data": {
      "text/plain": [
       "True"
      ]
     },
     "execution_count": 7,
     "metadata": {},
     "output_type": "execute_result"
    }
   ],
   "source": [
    "# inverse CDF works\n",
    "rr = np.linspace(0,1,100)\n",
    "np.allclose(cdfn(icdfn(rr)), rr)"
   ]
  },
  {
   "cell_type": "code",
   "execution_count": 8,
   "metadata": {},
   "outputs": [
    {
     "data": {
      "text/plain": [
       "True"
      ]
     },
     "execution_count": 8,
     "metadata": {},
     "output_type": "execute_result"
    }
   ],
   "source": [
    "zr = np.linspace(1,2,100)\n",
    "np.allclose(icdfn(cdfn(zr)), zr)"
   ]
  },
  {
   "cell_type": "code",
   "execution_count": 9,
   "metadata": {},
   "outputs": [
    {
     "data": {
      "image/png": "[encoded data removed]",
      "text/plain": [
       "<Figure size 432x288 with 1 Axes>"
      ]
     },
     "metadata": {
      "needs_background": "light"
     },
     "output_type": "display_data"
    }
   ],
   "source": [
    "# sampling histogram corresponds to pdf\n",
    "\n",
    "zr = np.linspace(1,2,100)\n",
    "s = sample(1000000)\n",
    "plt.hist(s, bins=100, density=True, alpha=0.5, label=\"samples\");\n",
    "plt.plot(zr, pdfn(zr), color=\"black\", label=\"pdf\")\n",
    "plt.title(f\"distribution for m = {mn}\")\n",
    "plt.xlabel(\"z\")\n",
    "plt.grid();\n",
    "plt.legend();"
   ]
  },
  {
   "cell_type": "code",
   "execution_count": null,
   "metadata": {},
   "outputs": [],
   "source": []
  },
  {
   "cell_type": "markdown",
   "metadata": {},
   "source": [
    "compute eq (1) above"
   ]
  },
  {
   "cell_type": "code",
   "execution_count": 10,
   "metadata": {},
   "outputs": [
    {
     "data": {
      "text/latex": [
       "$\\displaystyle 0.944951727700709$"
      ],
      "text/plain": [
       "0.944951727700709"
      ]
     },
     "execution_count": 10,
     "metadata": {},
     "output_type": "execute_result"
    }
   ],
   "source": [
    "expectation_integral = sy.integrate(pdf.subs({m: mn})*f, z)\n",
    "expectation_integral = expectation_integral.subs({z:2}) - expectation_integral.subs({z:1})\n",
    "sy.N(expectation_integral)\n"
   ]
  },
  {
   "cell_type": "markdown",
   "metadata": {},
   "source": [
    "montecarlo approximation as eq (2) above"
   ]
  },
  {
   "cell_type": "code",
   "execution_count": 11,
   "metadata": {},
   "outputs": [
    {
     "data": {
      "text/plain": [
       "0.9449006075895808"
      ]
     },
     "execution_count": 11,
     "metadata": {},
     "output_type": "execute_result"
    }
   ],
   "source": [
    "zs = sample(10000)\n",
    "np.mean(fn(zs))"
   ]
  },
  {
   "cell_type": "markdown",
   "metadata": {},
   "source": [
    "## Computing an expectation of a parametrized function\n",
    "\n",
    "Let's have $f(z)$ depending on a parameter $\\theta$, and we denote it with $f_\\theta(z)$ to emphasize it, for instance\n"
   ]
  },
  {
   "cell_type": "code",
   "execution_count": 12,
   "metadata": {},
   "outputs": [
    {
     "data": {
      "text/latex": [
       "$\\displaystyle - \\theta^{2} + 2 \\theta$"
      ],
      "text/plain": [
       "-\\theta**2 + 2*\\theta"
      ]
     },
     "execution_count": 12,
     "metadata": {},
     "output_type": "execute_result"
    }
   ],
   "source": [
    "t = sy.symbols(r\"\\theta\")\n",
    "f = -t**2+2*t\n",
    "f\n"
   ]
  },
  {
   "cell_type": "markdown",
   "metadata": {},
   "source": [
    "the above expectation will naturally become a function of $\\theta$\n",
    "\n",
    "$$\n",
    "\\begin{align}\n",
    "\\mathbb{E}_{z\\sim p(z)} \\big[f_\\theta(z)\\big] &= \\int p(z)f_\\theta(z) dz \\\\\n",
    "&\\approx \\frac{1}{N}\\sum_{z_i \\sim p(z)}^N f_\\theta(z_i)  & (2)\n",
    "\\end{align}\n",
    "$$"
   ]
  },
  {
   "cell_type": "code",
   "execution_count": 13,
   "metadata": {},
   "outputs": [
    {
     "data": {
      "text/latex": [
       "$\\displaystyle - \\theta^{2} + 2 \\theta$"
      ],
      "text/plain": [
       "-\\theta**2 + 2*\\theta"
      ]
     },
     "execution_count": 13,
     "metadata": {},
     "output_type": "execute_result"
    }
   ],
   "source": [
    "expectation_integral = sy.integrate(pdf.subs({m: mn})*f, z)\n",
    "expectation_integral = expectation_integral.subs({z:2}) - expectation_integral.subs({z:1})\n",
    "expectation_integral"
   ]
  },
  {
   "cell_type": "markdown",
   "metadata": {},
   "source": [
    "observe how the value of the expectation depends on the parameter $\\theta$ (and the probability $p(z)$)"
   ]
  },
  {
   "cell_type": "code",
   "execution_count": 14,
   "metadata": {},
   "outputs": [
    {
     "data": {
      "image/png": "[encoded data removed]",
      "text/plain": [
       "<Figure size 432x288 with 1 Axes>"
      ]
     },
     "metadata": {
      "needs_background": "light"
     },
     "output_type": "display_data"
    }
   ],
   "source": [
    "t_range = np.linspace(-5,5,100)\n",
    "expectation_integral_fn = sy.lambdify(t, expectation_integral, \"numpy\")\n",
    "\n",
    "plt.plot(t_range, expectation_integral_fn(t_range))\n",
    "plt.xlabel(r\"$\\theta$\")\n",
    "plt.ylabel(r\"$\\mathbb{E}_{z\\sim p(z)} [f_\\theta(z)] $\");\n",
    "plt.grid();"
   ]
  },
  {
   "cell_type": "markdown",
   "metadata": {},
   "source": [
    "which we can evaluate for a specific value of $\\theta$, directly on the analytic integral, or with the montecarlo simulation"
   ]
  },
  {
   "cell_type": "code",
   "execution_count": 15,
   "metadata": {},
   "outputs": [
    {
     "data": {
      "text/latex": [
       "$\\displaystyle -3.0$"
      ],
      "text/plain": [
       "-3.00000000000000"
      ]
     },
     "execution_count": 15,
     "metadata": {},
     "output_type": "execute_result"
    }
   ],
   "source": [
    "t_val = -1\n",
    "sy.N(expectation_integral.subs({t: t_val }))"
   ]
  },
  {
   "cell_type": "code",
   "execution_count": 16,
   "metadata": {},
   "outputs": [
    {
     "data": {
      "text/plain": [
       "-3.0"
      ]
     },
     "execution_count": 16,
     "metadata": {},
     "output_type": "execute_result"
    }
   ],
   "source": [
    "fn = sy.lambdify(z, f.subs({t: t_val}), \"numpy\")\n",
    "np.mean(fn(zs))"
   ]
  },
  {
   "cell_type": "markdown",
   "metadata": {},
   "source": [
    "## Computing the gradient of an expectation\n",
    "\n",
    "so we can ask for its gradient (which must be with respect to the parameter $\\theta$).\n",
    "\n",
    "The gradient naturally slips into the integral, or the montecarlo approximation sum (the derivative of a sum is the sum of the derivatives)\n",
    "\n",
    "$$\n",
    "\\begin{align}\n",
    "\\nabla_\\theta \\mathbb{E}_{p_z(z)}[f_\\theta(z)] &= \\nabla_\\theta \\Big[\\int p_z(z) f_\\theta(z)dz\\Big]\\\\\n",
    "&= \\int \\nabla_\\theta \\Big[ p_z(z) f_\\theta(z)\\Big] dz &\\;\\;\\;\\;\\;(1)\\\\\n",
    "&= \\int p_z(z) \\nabla_\\theta \\Big[ f_\\theta(z)\\Big] dz &\\;\\;\\;\\;\\;(2)\n",
    "\\end{align}\n",
    "$$\n",
    "\n",
    "$$\n",
    "\\begin{align}\n",
    "\\nabla_\\theta \\mathbb{E}_{p_z(z)}[f_\\theta(z)] &\\approx \\nabla_\\theta \\Big[ \\frac{1}{N}\\sum_{z_i \\sim p(z)}^N f_\\theta(z_i) \\Big] & &\\;\\;\\;\\;\\;(3)\\\\\n",
    "&=   \\frac{1}{N}\\sum_{z_i \\sim p(z)}^N \\nabla_\\theta f_\\theta(z_i)  & &\\;\\;\\;\\;\\;(4)\\\\\n",
    "\\end{align}\n",
    "$$\n",
    "\n",
    "**OBSERVATIONS**\n",
    "\n",
    "- We can take $p_z(z)$ out of $\\nabla_\\theta$ in $(2)$ because $p_z(z)$ does not depend on $\\theta$ so it appears as a constant for $\\nabla_\\theta$\n",
    "\n",
    "- Eqs $(1)$ through $(4)$ show that the gradient of this expectation is equal to the expectation of the gradient\n",
    "\n",
    "- Regularly, in ML, a loss function is defined in terms of each data point in a mini-batch and then averaged:\n",
    "\n",
    "$$\\mathcal{L}_\\theta = \\frac{1}{N}\\sum_i^N l_\\theta(x^{(i)})$$\n",
    "\n",
    "where $\\theta$ are the model parameters. We then use the gradient of the loss function to optimize\n",
    "\n",
    "$$\\nabla_\\theta \\mathcal {L}_\\theta = \\frac{1}{N}\\sum_i^N \\nabla_\\theta l_\\theta(x^{(i)})$$\n",
    "\n",
    "which is analogous to eq. $(4)$ except that we are not explicitly sampling from a known or target distribution, but using the samples on the dataset available. So **what we are doing is not specially new**.\n"
   ]
  },
  {
   "cell_type": "code",
   "execution_count": 17,
   "metadata": {},
   "outputs": [],
   "source": [
    "f = -t**2+2*t\n"
   ]
  },
  {
   "cell_type": "code",
   "execution_count": 18,
   "metadata": {},
   "outputs": [
    {
     "data": {
      "text/latex": [
       "$\\displaystyle 2 - 2 \\theta$"
      ],
      "text/plain": [
       "2 - 2*\\theta"
      ]
     },
     "execution_count": 18,
     "metadata": {},
     "output_type": "execute_result"
    }
   ],
   "source": [
    "# equation (1)\n",
    "grad_expectation_integral = sy.integrate((pdf.subs({m: mn})*f).diff(t), z)\n",
    "grad_expectation_integral = grad_expectation_integral.subs({z:2}) - grad_expectation_integral.subs({z:1})\n",
    "grad_expectation_integral"
   ]
  },
  {
   "cell_type": "code",
   "execution_count": 19,
   "metadata": {},
   "outputs": [
    {
     "data": {
      "text/latex": [
       "$\\displaystyle 2 - 2 \\theta$"
      ],
      "text/plain": [
       "2 - 2*\\theta"
      ]
     },
     "execution_count": 19,
     "metadata": {},
     "output_type": "execute_result"
    }
   ],
   "source": [
    "# equation (2)\n",
    "grad_expectation_integral = sy.integrate(pdf.subs({m: mn})*f.diff(t), z)\n",
    "grad_expectation_integral = grad_expectation_integral.subs({z:2}) - grad_expectation_integral.subs({z:1})\n",
    "grad_expectation_integral"
   ]
  },
  {
   "cell_type": "code",
   "execution_count": 20,
   "metadata": {},
   "outputs": [
    {
     "data": {
      "text/latex": [
       "$\\displaystyle 4.0$"
      ],
      "text/plain": [
       "4.00000000000000"
      ]
     },
     "execution_count": 20,
     "metadata": {},
     "output_type": "execute_result"
    }
   ],
   "source": [
    "sy.N(grad_expectation_integral.subs({t: t_val }))"
   ]
  },
  {
   "cell_type": "code",
   "execution_count": 21,
   "metadata": {
    "scrolled": true
   },
   "outputs": [
    {
     "data": {
      "text/latex": [
       "$\\displaystyle 4$"
      ],
      "text/plain": [
       "4"
      ]
     },
     "execution_count": 21,
     "metadata": {},
     "output_type": "execute_result"
    }
   ],
   "source": [
    "# equation (3), takes a long time, since it must differentiate a long sum (one term per sample)\n",
    "sum([f.subs({z:zi}) for zi in zs]).diff(t).subs({t: t_val})/len(zs)"
   ]
  },
  {
   "cell_type": "code",
   "execution_count": 22,
   "metadata": {},
   "outputs": [
    {
     "data": {
      "text/plain": [
       "4.0"
      ]
     },
     "execution_count": 22,
     "metadata": {},
     "output_type": "execute_result"
    }
   ],
   "source": [
    "# equation (4) \n",
    "dfn = sy.lambdify(z, f.diff(t).subs({t: t_val}), \"numpy\")\n",
    "np.mean(dfn(zs))"
   ]
  },
  {
   "cell_type": "markdown",
   "metadata": {},
   "source": [
    "## Maximizing the expectation\n",
    "\n",
    "since we have a gradient we can get the maximum. In this simple case, we can solving analyticaly, we do not need gradient descent/ascent"
   ]
  },
  {
   "cell_type": "code",
   "execution_count": 521,
   "metadata": {},
   "outputs": [
    {
     "data": {
      "text/latex": [
       "$\\displaystyle 1$"
      ],
      "text/plain": [
       "1"
      ]
     },
     "execution_count": 521,
     "metadata": {},
     "output_type": "execute_result"
    }
   ],
   "source": [
    "t_max = sy.solve(grad_expectation_integral, t)[0]\n",
    "t_max"
   ]
  },
  {
   "cell_type": "code",
   "execution_count": 522,
   "metadata": {},
   "outputs": [
    {
     "data": {
      "image/png": "[encoded data removed]",
      "text/plain": [
       "<Figure size 432x288 with 1 Axes>"
      ]
     },
     "metadata": {
      "needs_background": "light"
     },
     "output_type": "display_data"
    }
   ],
   "source": [
    "plt.plot(t_range, expectation_integral_fn(t_range), label=r\"expectation of $f_\\theta$\")\n",
    "plt.axvline(t_max, color=\"red\", label=r\"best $\\theta$\")\n",
    "plt.grid();\n",
    "plt.legend();\n",
    "plt.xlabel(r\"$\\theta$\")\n",
    "plt.ylabel(r\"$\\mathbb{E}_{z\\sim p(z)} [f_\\theta(z)] $\");"
   ]
  },
  {
   "cell_type": "markdown",
   "metadata": {},
   "source": [
    "### Now, $p(z)$ is also parametrized by $\\theta$"
   ]
  },
  {
   "cell_type": "code",
   "execution_count": 702,
   "metadata": {},
   "outputs": [],
   "source": [
    "t = sy.symbols(r\"\\theta\")\n",
    "f = t**2\n",
    "#f = sy.sin(t)"
   ]
  },
  {
   "cell_type": "code",
   "execution_count": 703,
   "metadata": {},
   "outputs": [
    {
     "data": {
      "text/latex": [
       "$\\displaystyle \\theta^{2}$"
      ],
      "text/plain": [
       "\\theta**2"
      ]
     },
     "execution_count": 703,
     "metadata": {},
     "output_type": "execute_result"
    }
   ],
   "source": [
    "f"
   ]
  },
  {
   "cell_type": "code",
   "execution_count": 704,
   "metadata": {},
   "outputs": [
    {
     "data": {
      "text/latex": [
       "$\\displaystyle \\theta^{2} \\left(2 - \\sin{\\left(\\theta \\right)}\\right)$"
      ],
      "text/plain": [
       "\\theta**2*(2 - sin(\\theta))"
      ]
     },
     "execution_count": 704,
     "metadata": {},
     "output_type": "execute_result"
    }
   ],
   "source": [
    "mt = sy.sin(t)\n",
    "expectation_integral = sy.integrate(pdf.subs({m: mt})*f, z)\n",
    "expectation_integral = (expectation_integral.subs({z:2}) - expectation_integral.subs({z:0})).simplify()\n",
    "expectation_integral"
   ]
  },
  {
   "cell_type": "code",
   "execution_count": 705,
   "metadata": {},
   "outputs": [
    {
     "data": {
      "image/png": "[encoded data removed]",
      "text/plain": [
       "<Figure size 432x288 with 1 Axes>"
      ]
     },
     "metadata": {
      "needs_background": "light"
     },
     "output_type": "display_data"
    }
   ],
   "source": [
    "tr = np.linspace(-10,10,1000)\n",
    "expectation_integral_fn = sy.lambdify(t, expectation_integral, \"numpy\")\n",
    "\n",
    "plt.plot(tr, expectation_integral_fn(tr))\n",
    "plt.xlabel(r\"$\\theta$\")\n",
    "plt.ylabel(r\"$\\mathbb{E}_{z\\sim p(z)} [f_\\theta(z)] $\");\n",
    "plt.grid();"
   ]
  },
  {
   "cell_type": "code",
   "execution_count": 706,
   "metadata": {},
   "outputs": [
    {
     "data": {
      "text/plain": [
       "[<matplotlib.lines.Line2D at 0x7f21df938400>]"
      ]
     },
     "execution_count": 706,
     "metadata": {},
     "output_type": "execute_result"
    },
    {
     "data": {
      "image/png": "[encoded data removed]",
      "text/plain": [
       "<Figure size 432x288 with 1 Axes>"
      ]
     },
     "metadata": {
      "needs_background": "light"
     },
     "output_type": "display_data"
    }
   ],
   "source": [
    "mtn = sy.lambdify(t,mt, \"numpy\")\n",
    "plt.plot(tr, mtn(tr))"
   ]
  },
  {
   "cell_type": "code",
   "execution_count": 707,
   "metadata": {},
   "outputs": [
    {
     "data": {
      "text/latex": [
       "$\\displaystyle \\theta^{2}$"
      ],
      "text/plain": [
       "\\theta**2"
      ]
     },
     "execution_count": 707,
     "metadata": {},
     "output_type": "execute_result"
    }
   ],
   "source": [
    "f"
   ]
  },
  {
   "cell_type": "code",
   "execution_count": 708,
   "metadata": {},
   "outputs": [
    {
     "data": {
      "text/latex": [
       "$\\displaystyle 2 \\theta$"
      ],
      "text/plain": [
       "2*\\theta"
      ]
     },
     "execution_count": 708,
     "metadata": {},
     "output_type": "execute_result"
    }
   ],
   "source": [
    "# equation (1)\n",
    "grad_expectation_integral = sy.integrate((pdf.subs({m: mt})*f).diff(t), z)\n",
    "grad_expectation_integral = grad_expectation_integral.subs({z:2}) - grad_expectation_integral.subs({z:1})\n",
    "grad_expectation_integral"
   ]
  },
  {
   "cell_type": "code",
   "execution_count": 709,
   "metadata": {},
   "outputs": [
    {
     "data": {
      "text/latex": [
       "$\\displaystyle 2 \\theta$"
      ],
      "text/plain": [
       "2*\\theta"
      ]
     },
     "execution_count": 709,
     "metadata": {},
     "output_type": "execute_result"
    }
   ],
   "source": [
    "# equation (2)\n",
    "grad_expectation_integral = sy.integrate(pdf.subs({m: mt})*f.diff(t), z)\n",
    "grad_expectation_integral = grad_expectation_integral.subs({z:2}) - grad_expectation_integral.subs({z:1})\n",
    "grad_expectation_integral"
   ]
  },
  {
   "cell_type": "code",
   "execution_count": 712,
   "metadata": {},
   "outputs": [
    {
     "data": {
      "text/latex": [
       "$\\displaystyle z^{2} \\left(\\frac{\\theta^{2} \\cos{\\left(\\theta \\right)}}{2} + \\theta \\sin{\\left(\\theta \\right)}\\right) + z \\left(- \\frac{3 \\theta^{2} \\cos{\\left(\\theta \\right)}}{2} - 3 \\theta \\sin{\\left(\\theta \\right)} + 2 \\theta\\right)$"
      ],
      "text/plain": [
       "z**2*(\\theta**2*cos(\\theta)/2 + \\theta*sin(\\theta)) + z*(-3*\\theta**2*cos(\\theta)/2 - 3*\\theta*sin(\\theta) + 2*\\theta)"
      ]
     },
     "execution_count": 712,
     "metadata": {},
     "output_type": "execute_result"
    }
   ],
   "source": [
    "sy.integrate((pdf.subs({m: mt})*f).diff(t),z)"
   ]
  },
  {
   "cell_type": "code",
   "execution_count": 715,
   "metadata": {},
   "outputs": [
    {
     "data": {
      "text/latex": [
       "$\\displaystyle \\theta z^{2} \\sin{\\left(\\theta \\right)} + z \\left(- 3 \\theta \\sin{\\left(\\theta \\right)} + 2 \\theta\\right)$"
      ],
      "text/plain": [
       "\\theta*z**2*sin(\\theta) + z*(-3*\\theta*sin(\\theta) + 2*\\theta)"
      ]
     },
     "execution_count": 715,
     "metadata": {},
     "output_type": "execute_result"
    }
   ],
   "source": [
    "k = sy.integrate(pdf.subs({m: mt})*f.diff(t), z)\n",
    "k"
   ]
  },
  {
   "cell_type": "code",
   "execution_count": 716,
   "metadata": {},
   "outputs": [
    {
     "data": {
      "text/latex": [
       "$\\displaystyle 2 \\theta$"
      ],
      "text/plain": [
       "2*\\theta"
      ]
     },
     "execution_count": 716,
     "metadata": {},
     "output_type": "execute_result"
    }
   ],
   "source": [
    "k.subs({z:2})- k.subs({z:1})"
   ]
  },
  {
   "cell_type": "code",
   "execution_count": null,
   "metadata": {},
   "outputs": [],
   "source": []
  }
 ],
 "metadata": {
  "kernelspec": {
   "display_name": "p39",
   "language": "python",
   "name": "p39"
  },
  "language_info": {
   "codemirror_mode": {
    "name": "ipython",
    "version": 3
   },
   "file_extension": ".py",
   "mimetype": "text/x-python",
   "name": "python",
   "nbconvert_exporter": "python",
   "pygments_lexer": "ipython3",
   "version": "3.9.7"
  }
 },
 "nbformat": 4,
 "nbformat_minor": 4
}
