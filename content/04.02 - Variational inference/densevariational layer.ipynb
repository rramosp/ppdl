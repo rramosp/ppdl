{
 "cells": [
  {
   "cell_type": "markdown",
   "id": "41418438",
   "metadata": {},
   "source": [
    "example from:\n",
    "    \n",
    "\n",
    "https://goodboychan.github.io/python/coursera/tensorflow_probability/icl/2021/08/24/01-DenseVariational-layer.html"
   ]
  },
  {
   "cell_type": "code",
   "execution_count": 1,
   "id": "68ab6464",
   "metadata": {},
   "outputs": [],
   "source": [
    "import tensorflow as tf\n",
    "import tensorflow_probability as tfp\n",
    "\n",
    "import numpy as np\n",
    "import matplotlib.pyplot as plt\n",
    "\n",
    "tfd = tfp.distributions\n",
    "tfpl = tfp.layers\n",
    "\n",
    "plt.rcParams['figure.figsize'] = (10, 6)\n",
    "%matplotlib inline"
   ]
  },
  {
   "cell_type": "code",
   "execution_count": 2,
   "id": "696a9f95",
   "metadata": {},
   "outputs": [
    {
     "name": "stdout",
     "output_type": "stream",
     "text": [
      "Tensorflow Version:  2.7.0\n",
      "Tensorflow Probability Version:  0.15.0\n"
     ]
    }
   ],
   "source": [
    "print(\"Tensorflow Version: \", tf.__version__)\n",
    "print(\"Tensorflow Probability Version: \", tfp.__version__)"
   ]
  },
  {
   "cell_type": "code",
   "execution_count": 3,
   "id": "622aee49",
   "metadata": {},
   "outputs": [],
   "source": [
    "X_train = np.linspace(-1, 1, 100)[:, np.newaxis]\n",
    "y_train = X_train + 0.3 * np.random.randn(100)[:, np.newaxis]"
   ]
  },
  {
   "cell_type": "code",
   "execution_count": 4,
   "id": "8653c76e",
   "metadata": {},
   "outputs": [
    {
     "data": {
      "image/png": "[encoded data removed]",
      "text/plain": [
       "<Figure size 432x288 with 1 Axes>"
      ]
     },
     "metadata": {
      "needs_background": "light"
     },
     "output_type": "display_data"
    }
   ],
   "source": [
    "plt.scatter(X_train, y_train, alpha=0.4)\n",
    "plt.show()"
   ]
  },
  {
   "cell_type": "code",
   "execution_count": 5,
   "id": "af276a8e",
   "metadata": {},
   "outputs": [],
   "source": [
    "from tensorflow.keras.models import Sequential\n",
    "from tensorflow.keras.layers import Dense\n",
    "from tensorflow.keras.losses import MeanSquaredError\n",
    "from tensorflow.keras.optimizers import RMSprop"
   ]
  },
  {
   "cell_type": "code",
   "execution_count": 6,
   "id": "c8a960e2",
   "metadata": {},
   "outputs": [],
   "source": [
    "def prior(kernel_size, bias_size, dtype=None):\n",
    "    n = kernel_size + bias_size\n",
    "    prior_model = Sequential([\n",
    "        tfpl.DistributionLambda(lambda t : tfd.MultivariateNormalDiag(loc=tf.zeros(n), scale_diag=tf.ones(n))),\n",
    "    ])\n",
    "    return prior_model"
   ]
  },
  {
   "cell_type": "code",
   "execution_count": 11,
   "id": "2e54596f",
   "metadata": {},
   "outputs": [],
   "source": [
    "p = prior(10,2)"
   ]
  },
  {
   "cell_type": "code",
   "execution_count": 18,
   "id": "20647bda",
   "metadata": {},
   "outputs": [
    {
     "name": "stdout",
     "output_type": "stream",
     "text": [
      "WARNING:tensorflow:Layers in a Sequential model should only have a single input tensor, but we receive a <class 'list'> input: [<tf.Tensor: shape=(), dtype=int32, numpy=0>]\n",
      "Consider rewriting this model with the Functional API.\n"
     ]
    }
   ],
   "source": [
    "x = np.random.random(size=(3,7))\n",
    "d = p([0])"
   ]
  },
  {
   "cell_type": "code",
   "execution_count": 19,
   "id": "cd6e9ca6",
   "metadata": {},
   "outputs": [
    {
     "data": {
      "text/plain": [
       "<tf.Tensor: shape=(3, 12), dtype=float32, numpy=\n",
       "array([[ 0.10335683, -0.8652138 , -0.32417324,  0.13856384,  0.2514284 ,\n",
       "        -0.20232248, -1.4122739 ,  0.08021894,  0.34408817, -0.28008378,\n",
       "         1.0343945 ,  0.49134335],\n",
       "       [-0.18660372,  0.03606111,  0.01879293,  0.3687036 ,  2.0384486 ,\n",
       "         0.19546314,  0.0686562 , -2.2690783 ,  0.21522851, -0.19026351,\n",
       "        -0.4759888 ,  0.7322468 ],\n",
       "       [ 0.2718741 , -0.57563573, -0.78814983, -0.19481856,  0.962495  ,\n",
       "         0.02991281, -0.08329121, -0.6522375 , -0.944653  ,  1.0070119 ,\n",
       "         1.3283771 , -0.31658322]], dtype=float32)>"
      ]
     },
     "execution_count": 19,
     "metadata": {},
     "output_type": "execute_result"
    }
   ],
   "source": [
    "d.sample(3)"
   ]
  },
  {
   "cell_type": "code",
   "execution_count": null,
   "id": "a4ef90ac",
   "metadata": {},
   "outputs": [],
   "source": []
  }
 ],
 "metadata": {
  "kernelspec": {
   "display_name": "p39",
   "language": "python",
   "name": "p39"
  },
  "language_info": {
   "codemirror_mode": {
    "name": "ipython",
    "version": 3
   },
   "file_extension": ".py",
   "mimetype": "text/x-python",
   "name": "python",
   "nbconvert_exporter": "python",
   "pygments_lexer": "ipython3",
   "version": "3.9.7"
  }
 },
 "nbformat": 4,
 "nbformat_minor": 5
}
