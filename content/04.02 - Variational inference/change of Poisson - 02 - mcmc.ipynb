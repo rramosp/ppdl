{
 "cells": [
  {
   "cell_type": "code",
   "execution_count": 1,
   "id": "cbb2d491",
   "metadata": {},
   "outputs": [],
   "source": [
    "import numpy as np\n",
    "import matplotlib.pyplot as plt\n",
    "from scipy import stats\n",
    "from scipy.integrate import quad\n",
    "from progressbar import progressbar as pbar\n",
    "from rlxutils import subplots, copy_func\n",
    "\n",
    "import tensorflow as tf\n",
    "import tensorflow_probability as tfp\n",
    "tfd = tfp.distributions\n",
    "tfb = tfp.bijectors\n",
    "\n",
    "%matplotlib inline"
   ]
  },
  {
   "cell_type": "markdown",
   "id": "77306652",
   "metadata": {},
   "source": [
    "# Our model\n",
    "\n",
    "We observe $X_i$, which is the number of messages arrived at a certain location at day $i$ with $i \\in \\{0,...,n-1\\}$, so that we have $n$ days.\n",
    "\n",
    "We were usually receiving the messages following $\\sim \\text{Poisson}(2)$, but after a certain day the behaviour changed and we received more messages per day, following $\\sim \\text{Poisson}(4)$.\n",
    "\n",
    "\n",
    "$$\\begin{align*}\n",
    "\\tau &\\in (0,1)\\\\\n",
    "\\text{for }  i &= 1\\ldots N: \\\\\n",
    "X_i &= \\begin{cases} \\text{Poisson}(2), & \\tau > i/N \\\\ \\text{Poisson}(4), & \\text{otherwise}\\end{cases}\\\\\n",
    "\\end{align*}$$"
   ]
  },
  {
   "cell_type": "code",
   "execution_count": 2,
   "id": "4f643a72",
   "metadata": {},
   "outputs": [],
   "source": [
    "# real (and unknown) parameter\n",
    "real_tau = 0.8\n",
    "\n",
    "# possible range of values for tau\n",
    "tau_support = 0,1"
   ]
  },
  {
   "cell_type": "code",
   "execution_count": 3,
   "id": "af022ef3",
   "metadata": {},
   "outputs": [],
   "source": [
    "class TModel:\n",
    "        \n",
    "    poisson_A = stats.poisson(2)\n",
    "    poisson_B = stats.poisson(4)\n",
    "\n",
    "    def __init__(self, tau):        \n",
    "        assert tau>=0 and tau<=1        \n",
    "        self.tau = tau\n",
    "        \n",
    "    def rvs(self, n):\n",
    "        n1 = int(n*self.tau)        \n",
    "        r = list(self.poisson_A.rvs(n1)) + list(self.poisson_B.rvs(n - n1))\n",
    "        return r\n",
    "    \n",
    "    def logprob(self, x):\n",
    "        n = int(len(x)*self.tau)\n",
    "        return np.sum(np.log(self.poisson_A.pmf(x[:n]))) + np.sum(np.log(self.poisson_B.pmf(x[n:])))    \n",
    "         "
   ]
  },
  {
   "cell_type": "markdown",
   "id": "2c3a8906",
   "metadata": {},
   "source": [
    "# Our observations"
   ]
  },
  {
   "cell_type": "code",
   "execution_count": 4,
   "id": "c22fdfcd",
   "metadata": {},
   "outputs": [],
   "source": [
    "x = TModel(tau=real_tau).rvs(30)\n",
    "\n",
    "# use this small sample for comparisons with other notebooks\n",
    "x = [3, 3, 2, 3, 1, 1, 1, 1, 0, 1, 0, 2, 0, 2, 3, 2, 0, 3, 2, 2, 2, 2, 2, 1, 1, 5, 6, 2, 3, 4]\n",
    "\n"
   ]
  },
  {
   "cell_type": "code",
   "execution_count": 5,
   "id": "d2b80c43",
   "metadata": {},
   "outputs": [
    {
     "data": {
      "text/plain": [
       "Text(0.5, 0, '$\\\\tau$')"
      ]
     },
     "execution_count": 5,
     "metadata": {},
     "output_type": "execute_result"
    },
    {
     "data": {
      "image/png": "[encoded data removed]",
      "text/plain": [
       "<Figure size 720x216 with 1 Axes>"
      ]
     },
     "metadata": {
      "needs_background": "light"
     },
     "output_type": "display_data"
    }
   ],
   "source": [
    "plt.figure(figsize=(10,3))\n",
    "plt.scatter(np.arange(len(x))/len(x), x)\n",
    "plt.axvline((real_tau*len(x)+.5)/len(x), ls=\"--\", color=\"black\", label=r\"the real (unknown) $\\tau$\")\n",
    "plt.grid(); plt.legend();\n",
    "plt.xlabel(r\"$\\tau$\")"
   ]
  },
  {
   "cell_type": "markdown",
   "id": "a1b9d591",
   "metadata": {},
   "source": [
    "# MCMC with Tensorflow\n",
    "\n",
    "MCMC allows us to sample the posterior **without** computing the normalization constant.\n",
    "\n",
    "observe:\n",
    "\n",
    "- the `log_likelihood` function below, implementing our model.\n",
    "- the `log_prior` uniform uninformative prior.\n",
    "- the `unnormalized_log_posterior` aggregation function below is the only input to the Hamiltonian Montecarlo sampler."
   ]
  },
  {
   "cell_type": "code",
   "execution_count": null,
   "id": "7158fa7d",
   "metadata": {},
   "outputs": [],
   "source": []
  },
  {
   "cell_type": "code",
   "execution_count": 6,
   "id": "2310c4e3",
   "metadata": {},
   "outputs": [],
   "source": [
    "# wrap the mcmc sampling call in a @tf.function to speed it up\n",
    "@tf.function(autograph=False)\n",
    "def graph_sample_chain(*args, **kwargs):\n",
    "  return tfp.mcmc.sample_chain(*args, **kwargs)\n",
    "\n",
    "\n",
    "def sample(x):\n",
    "    num_burnin_steps = 5000\n",
    "    num_results = 20000\n",
    "    \n",
    "    # -------------------------------------------------------\n",
    "    #  our model definitions\n",
    "    # -------------------------------------------------------    \n",
    "    def log_likelihood(x, tau):\n",
    "        lambda_A, lambda_B = 2., 4.\n",
    "\n",
    "        n = tf.size(x)\n",
    "        n1 = tf.cast(tf.cast(n, tf.float32)*tau, tf.int32)\n",
    "\n",
    "        lambdas = tf.concat([tf.ones(n1)*lambda_A, tf.ones(n-n1)*lambda_B], 0)\n",
    "\n",
    "        return tf.reduce_sum(tfd.Poisson(rate=lambdas).log_prob(x))\n",
    "\n",
    "    def log_prior(tau):\n",
    "        return tfd.Uniform().log_prob(tau)\n",
    "\n",
    "    # -------------------------------------------------------\n",
    "    # -------------------------------------------------------\n",
    "    \n",
    "    \n",
    "    unnormalized_log_posterior = lambda tau: log_likelihood(x, tau) + log_prior(tau)    \n",
    "\n",
    "\n",
    "    # Set the chain's start state.\n",
    "    initial_chain_state = [\n",
    "        0.5 * tf.ones([], dtype=tf.float32, name=\"init_tau\"),\n",
    "    ]\n",
    "\n",
    "    # Since HMC operates over unconstrained space, we need to transform the\n",
    "    # samples so they live in real-space.\n",
    "    unconstraining_bijectors = [\n",
    "        tfp.bijectors.Sigmoid(),   # Maps [0,1] to R.  \n",
    "    ]\n",
    "\n",
    "    step_size = 0.2\n",
    "\n",
    "    kernel=tfp.mcmc.TransformedTransitionKernel(\n",
    "            inner_kernel=tfp.mcmc.HamiltonianMonteCarlo(\n",
    "                target_log_prob_fn=unnormalized_log_posterior,\n",
    "                num_leapfrog_steps=2,\n",
    "                step_size=step_size,\n",
    "                state_gradients_are_stopped=True),\n",
    "            bijector=unconstraining_bijectors)\n",
    "\n",
    "    # Sample from the chain.\n",
    "    [\n",
    "        posterior_tau\n",
    "    ], kernel_results = graph_sample_chain(\n",
    "        num_results=num_results,\n",
    "        num_burnin_steps=num_burnin_steps,\n",
    "        current_state=initial_chain_state,\n",
    "        kernel = kernel)\n",
    "\n",
    "    return posterior_tau"
   ]
  },
  {
   "cell_type": "code",
   "execution_count": 7,
   "id": "24627806",
   "metadata": {},
   "outputs": [
    {
     "name": "stdout",
     "output_type": "stream",
     "text": [
      "WARNING:tensorflow:From /opt/anaconda/envs/p39/lib/python3.9/site-packages/tensorflow_probability/python/distributions/distribution.py:342: calling Poisson.__init__ (from tensorflow_probability.python.distributions.poisson) with interpolate_nondiscrete is deprecated and will be removed after 2021-02-01.\n",
      "Instructions for updating:\n",
      "The `interpolate_nondiscrete` flag is deprecated; instead use `force_probs_to_zero_outside_support` (with the opposite sense).\n"
     ]
    },
    {
     "name": "stderr",
     "output_type": "stream",
     "text": [
      "2022-02-07 12:05:06.566370: I tensorflow/stream_executor/cuda/cuda_gpu_executor.cc:939] successful NUMA node read from SysFS had negative value (-1), but there must be at least one NUMA node, so returning NUMA node zero\n",
      "2022-02-07 12:05:06.592874: I tensorflow/stream_executor/cuda/cuda_gpu_executor.cc:939] successful NUMA node read from SysFS had negative value (-1), but there must be at least one NUMA node, so returning NUMA node zero\n",
      "2022-02-07 12:05:06.593050: I tensorflow/stream_executor/cuda/cuda_gpu_executor.cc:939] successful NUMA node read from SysFS had negative value (-1), but there must be at least one NUMA node, so returning NUMA node zero\n",
      "2022-02-07 12:05:06.593613: I tensorflow/core/platform/cpu_feature_guard.cc:151] This TensorFlow binary is optimized with oneAPI Deep Neural Network Library (oneDNN) to use the following CPU instructions in performance-critical operations:  AVX2 FMA\n",
      "To enable them in other operations, rebuild TensorFlow with the appropriate compiler flags.\n",
      "2022-02-07 12:05:06.594458: I tensorflow/stream_executor/cuda/cuda_gpu_executor.cc:939] successful NUMA node read from SysFS had negative value (-1), but there must be at least one NUMA node, so returning NUMA node zero\n",
      "2022-02-07 12:05:06.594607: I tensorflow/stream_executor/cuda/cuda_gpu_executor.cc:939] successful NUMA node read from SysFS had negative value (-1), but there must be at least one NUMA node, so returning NUMA node zero\n",
      "2022-02-07 12:05:06.594736: I tensorflow/stream_executor/cuda/cuda_gpu_executor.cc:939] successful NUMA node read from SysFS had negative value (-1), but there must be at least one NUMA node, so returning NUMA node zero\n",
      "2022-02-07 12:05:07.010426: I tensorflow/stream_executor/cuda/cuda_gpu_executor.cc:939] successful NUMA node read from SysFS had negative value (-1), but there must be at least one NUMA node, so returning NUMA node zero\n",
      "2022-02-07 12:05:07.010653: I tensorflow/stream_executor/cuda/cuda_gpu_executor.cc:939] successful NUMA node read from SysFS had negative value (-1), but there must be at least one NUMA node, so returning NUMA node zero\n",
      "2022-02-07 12:05:07.010830: I tensorflow/stream_executor/cuda/cuda_gpu_executor.cc:939] successful NUMA node read from SysFS had negative value (-1), but there must be at least one NUMA node, so returning NUMA node zero\n",
      "2022-02-07 12:05:07.010947: I tensorflow/core/common_runtime/gpu/gpu_device.cc:1525] Created device /job:localhost/replica:0/task:0/device:GPU:0 with 5967 MB memory:  -> device: 0, name: NVIDIA GeForce RTX 2080, pci bus id: 0000:01:00.0, compute capability: 7.5\n",
      "/opt/anaconda/envs/p39/lib/python3.9/site-packages/tensorflow_probability/python/mcmc/sample.py:339: UserWarning: Tracing all kernel results by default is deprecated. Set the `trace_fn` argument to None (the future default value) or an explicit callback that traces the values you are interested in.\n",
      "  warnings.warn('Tracing all kernel results by default is deprecated. Set '\n"
     ]
    }
   ],
   "source": [
    "posterior_tau = sample(x)"
   ]
  },
  {
   "cell_type": "code",
   "execution_count": 8,
   "id": "e013aef9",
   "metadata": {},
   "outputs": [
    {
     "data": {
      "text/plain": [
       "(0.0, 1.0)"
      ]
     },
     "execution_count": 8,
     "metadata": {},
     "output_type": "execute_result"
    },
    {
     "data": {
      "image/png": "[encoded data removed]",
      "text/plain": [
       "<Figure size 432x288 with 1 Axes>"
      ]
     },
     "metadata": {
      "needs_background": "light"
     },
     "output_type": "display_data"
    }
   ],
   "source": [
    "plt.hist(posterior_tau.numpy(), density=True, bins=50, alpha=1.);\n",
    "plt.axvline(real_tau, color=\"black\", label=r\"real (unknown) $\\tau$\", alpha=.5, ls=\"--\")\n",
    "plt.title(\"mcmc samples histogram\")\n",
    "plt.grid(); plt.legend();\n",
    "\n",
    "plt.xlim(0,1)\n"
   ]
  },
  {
   "cell_type": "code",
   "execution_count": null,
   "id": "81af74c9",
   "metadata": {},
   "outputs": [],
   "source": []
  },
  {
   "cell_type": "code",
   "execution_count": null,
   "id": "ef5bf573",
   "metadata": {},
   "outputs": [],
   "source": []
  },
  {
   "cell_type": "markdown",
   "id": "4b4dddea",
   "metadata": {},
   "source": [
    "# With a larger dataset"
   ]
  },
  {
   "cell_type": "code",
   "execution_count": 9,
   "id": "fbcb5564",
   "metadata": {},
   "outputs": [
    {
     "data": {
      "text/plain": [
       "Text(0.5, 0, '$\\\\tau$')"
      ]
     },
     "execution_count": 9,
     "metadata": {},
     "output_type": "execute_result"
    },
    {
     "data": {
      "image/png": "[encoded data removed]",
      "text/plain": [
       "<Figure size 720x216 with 1 Axes>"
      ]
     },
     "metadata": {
      "needs_background": "light"
     },
     "output_type": "display_data"
    }
   ],
   "source": [
    "x = TModel(tau=real_tau).rvs(200)\n",
    "\n",
    "# use this large sample for comparisons with other notebooks\n",
    "x = [3, 2, 3, 2, 2, 1, 2, 1, 0, 6, 0, 2, 0, 1, 3, 1, 2, 2, 2, 4, 6, 2, 3, 4, 1, 6, \n",
    "     1, 3, 2, 2, 0, 2, 0, 1, 1, 1, 2, 2, 1, 4, 0, 3, 2, 5, 4, 1, 4, 2, 1, 0, 2, 2,\n",
    "     2, 3, 2, 3, 0, 0, 0, 5, 0, 2, 1, 0, 0, 3, 0, 0, 1, 4, 2, 2, 4, 3, 1, 2, 3, 3, \n",
    "     3, 1, 1, 2, 3, 4, 4, 4, 5, 1, 4, 3, 4, 1, 1, 1, 2, 0, 0, 1, 2, 2, 2, 0, 4, 1, \n",
    "     2, 3, 0, 3, 2, 1, 0, 4, 2, 3, 5, 3, 1, 3, 2, 0, 2, 2, 1, 0, 3, 1, 2, 5, 3, 3, \n",
    "     5, 2, 2, 3, 2, 3, 3, 2, 1, 1, 0, 4, 1, 1, 1, 1, 1, 1, 1, 4, 0, 3, 3, 0, 5, 2, \n",
    "     3, 2, 1, 1, 5, 3, 2, 4, 5, 4, 5, 6, 6, 2, 5, 5, 4, 3, 3, 6, 8, 6, 3, 5, 7, 5, \n",
    "     6, 3, 6, 1, 7, 8, 6, 2, 1, 6, 5, 2, 6, 5, 5, 3, 4, 5]\n",
    "\n",
    "plt.figure(figsize=(10,3))\n",
    "plt.scatter(np.arange(len(x))/len(x), x)\n",
    "plt.axvline((real_tau*len(x)+.5)/len(x), ls=\"--\", color=\"black\", label=r\"the real (unknown) $\\tau$\")\n",
    "plt.grid(); plt.legend();\n",
    "plt.xlabel(r\"$\\tau$\")"
   ]
  },
  {
   "cell_type": "code",
   "execution_count": 10,
   "id": "388de0ca",
   "metadata": {},
   "outputs": [
    {
     "name": "stderr",
     "output_type": "stream",
     "text": [
      "/opt/anaconda/envs/p39/lib/python3.9/site-packages/tensorflow_probability/python/mcmc/sample.py:339: UserWarning: Tracing all kernel results by default is deprecated. Set the `trace_fn` argument to None (the future default value) or an explicit callback that traces the values you are interested in.\n",
      "  warnings.warn('Tracing all kernel results by default is deprecated. Set '\n"
     ]
    }
   ],
   "source": [
    "posterior_tau = sample(x)"
   ]
  },
  {
   "cell_type": "code",
   "execution_count": 11,
   "id": "32ea4f7a",
   "metadata": {},
   "outputs": [
    {
     "data": {
      "text/plain": [
       "(0.0, 1.0)"
      ]
     },
     "execution_count": 11,
     "metadata": {},
     "output_type": "execute_result"
    },
    {
     "data": {
      "image/png": "[encoded data removed]",
      "text/plain": [
       "<Figure size 432x288 with 1 Axes>"
      ]
     },
     "metadata": {
      "needs_background": "light"
     },
     "output_type": "display_data"
    }
   ],
   "source": [
    "plt.hist(posterior_tau.numpy(), density=True, bins=10, alpha=1.);\n",
    "plt.axvline(real_tau, color=\"black\", label=r\"real (unknown) $\\tau$\", alpha=.5, ls=\"--\")\n",
    "plt.title(\"mcmc samples histogram\")\n",
    "plt.grid(); plt.legend();\n",
    "\n",
    "plt.xlim(0,1)"
   ]
  },
  {
   "cell_type": "code",
   "execution_count": null,
   "id": "9aef4ad4",
   "metadata": {},
   "outputs": [],
   "source": []
  }
 ],
 "metadata": {
  "kernelspec": {
   "display_name": "p39",
   "language": "python",
   "name": "p39"
  },
  "language_info": {
   "codemirror_mode": {
    "name": "ipython",
    "version": 3
   },
   "file_extension": ".py",
   "mimetype": "text/x-python",
   "name": "python",
   "nbconvert_exporter": "python",
   "pygments_lexer": "ipython3",
   "version": "3.9.7"
  }
 },
 "nbformat": 4,
 "nbformat_minor": 5
}
