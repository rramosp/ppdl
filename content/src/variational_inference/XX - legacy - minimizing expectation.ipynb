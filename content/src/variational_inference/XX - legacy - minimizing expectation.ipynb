{
 "cells": [
  {
   "cell_type": "code",
   "execution_count": 1,
   "id": "e1afc084",
   "metadata": {},
   "outputs": [],
   "source": [
    "import sympy as sy\n",
    "import numpy as np\n",
    "from scipy import stats\n",
    "import matplotlib.pyplot as plt\n",
    "from scipy.integrate import quad\n",
    "from progressbar import progressbar as pbar\n",
    "from rlxutils import subplots\n",
    "%matplotlib inline"
   ]
  },
  {
   "cell_type": "markdown",
   "id": "09b64d3f",
   "metadata": {},
   "source": [
    "from https://stats.stackexchange.com/questions/199605/how-does-the-reparameterization-trick-for-vaes-work-and-why-is-it-important"
   ]
  },
  {
   "cell_type": "markdown",
   "id": "4c595ca7",
   "metadata": {},
   "source": [
    "asume a normal distribution $q$, parametrized with $\\theta$, so that $q_\\theta(x) = \\mathcal{N}(\\theta, 1)$, we want to solve \n",
    "\n",
    "$$\\text{min}_\\theta \\; \\mathbb{E}_q[f(x)]\\;\\;\\;\\;\\text{with}\\;f(x)=x^2$$\n",
    "\n",
    "we want the gradient of the above expression to help optimization\n",
    "\n",
    "$$\n",
    "\\begin{align}\n",
    "\\nabla_\\theta \\mathbb{E}_q[f(x)] &= \\nabla_\\theta \\int q_\\theta(x) f(x) dx \\\\\n",
    "&=  \\int f(x) \\frac{q\\theta(x)}{q\\theta(x)} \\nabla_\\theta q\\theta(x) dx & (1)\\\\\n",
    "&= \\int q_\\theta(x) f(x) \\nabla_\\theta \\log q_\\theta(x) dx & (2) \\\\\n",
    "&= \\mathbb{E}_q \\big[ f(x) \\nabla_\\theta \\log q_\\theta(x) \\big] & (3)\n",
    "\\end{align}\n",
    "$$\n"
   ]
  },
  {
   "cell_type": "code",
   "execution_count": 36,
   "id": "3c919913",
   "metadata": {},
   "outputs": [],
   "source": [
    "x, t, m, s = sy.symbols(r\"x \\theta \\mu \\sigma\")\n",
    "pdf  = sy.exp(-0.5*((x-m)/s)**2)/(s*sy.sqrt(2*sy.pi))\n",
    "\n",
    "f = (x+1)**2 \n",
    "f = sy.sin(x)\n",
    "fn = sy.lambdify(x, f, \"numpy\")\n",
    "\n",
    "# check pdf\n",
    "mn, sn = np.random.random(2)+1\n",
    "pdfn = sy.lambdify(x, pdf.subs({m: mn, s: sn}), \"numpy\" )\n",
    "pdfs = stats.norm(loc=mn, scale=sn).pdf\n",
    "xr = np.linspace(-5,5,100)\n",
    "assert np.allclose(pdfs(xr), pdfn(xr))\n",
    "\n",
    "# set mu and sigma\n",
    "sn = 2\n",
    "pdf = pdf.subs({m: t, s: sn})"
   ]
  },
  {
   "cell_type": "code",
   "execution_count": null,
   "id": "f151fdef",
   "metadata": {},
   "outputs": [],
   "source": []
  },
  {
   "cell_type": "markdown",
   "id": "e2078cd7",
   "metadata": {},
   "source": [
    "### a different perspective\n",
    "\n",
    "- we have $x$ as as random variable, which is distributed according to $q_\\theta$ in the following form:\n",
    "\n",
    "    $$x \\sim \\mathcal{N}(\\theta, 1)$$\n",
    "    \n",
    "  observe that different values of $\\theta$ will produce different distributions of $x$\n",
    "  \n",
    "- we define $f(x)$, a transformation of $x$\n",
    "\n",
    "- Question: **what is the distribution of $x$ after being trasformed by $f(x)$**\n",
    "\n",
    "\n",
    "$$ f(x) \\sim ??$$\n",
    "\n",
    "let's observe how this transformation changes the distribution of $x$ under different values of $\\theta$"
   ]
  },
  {
   "cell_type": "code",
   "execution_count": 4,
   "id": "7ca5d3db",
   "metadata": {},
   "outputs": [
    {
     "name": "stdout",
     "output_type": "stream",
     "text": [
      "2.997885334849868 1.0020214587027048\n",
      "16.98713415430834 8.128621390705895\n",
      "--\n",
      "-0.003998544143708647 1.0015011879951703\n",
      "1.9950235296235894 2.449080679954299\n",
      "--\n",
      "-0.9998853966277463 1.0020788566607586\n",
      "1.0041620481004663 1.4211440261405126\n",
      "--\n"
     ]
    },
    {
     "data": {
      "image/png": "[encoded data removed]",
      "text/plain": [
       "<Figure size 864x288 with 2 Axes>"
      ]
     },
     "metadata": {
      "needs_background": "light"
     },
     "output_type": "display_data"
    }
   ],
   "source": [
    "(ax0,_), (ax1,_) = list(subplots(2, usizex=6, usizey=4))\n",
    "t_range = np.linspace(-2,2,5)\n",
    "t_range = [3,0,-1]\n",
    "for t in t_range:\n",
    "\n",
    "    xv = np.random.normal(loc=t, scale=1, size=100000)\n",
    "    fxv = fn(xv)\n",
    "\n",
    "    ax0.hist(xv, bins=100, alpha=.5, density=True, label=f\"$\\\\theta={t:+.3f}$\")\n",
    "    ax1.hist(fxv, bins=100, alpha=.5, density=True, label=f\"$\\\\theta={t:+.3f}$\")\n",
    "    print (xv.mean(), xv.std())\n",
    "    print (fxv.mean(), fxv.std())\n",
    "    print (\"--\")\n",
    "ax0.grid();\n",
    "ax0.legend(loc='center left', bbox_to_anchor=(1, 0.5));\n",
    "ax1.grid();\n",
    "ax1.legend(loc='center left', bbox_to_anchor=(1, 0.5));\n",
    "plt.tight_layout()"
   ]
  },
  {
   "cell_type": "code",
   "execution_count": 43,
   "id": "96d13eab",
   "metadata": {},
   "outputs": [
    {
     "data": {
      "text/plain": [
       "array([-0.73510012, -0.39545724,  0.90235132, ...,  0.05934112,\n",
       "       -0.43449653, -0.49851066])"
      ]
     },
     "execution_count": 43,
     "metadata": {},
     "output_type": "execute_result"
    }
   ],
   "source": [
    "fxv"
   ]
  },
  {
   "cell_type": "code",
   "execution_count": null,
   "id": "060d9d53",
   "metadata": {},
   "outputs": [],
   "source": []
  },
  {
   "cell_type": "markdown",
   "id": "c08b8523",
   "metadata": {},
   "source": [
    "### fix theta and compute the expectation\n"
   ]
  },
  {
   "cell_type": "code",
   "execution_count": 4,
   "id": "7268fa4b",
   "metadata": {},
   "outputs": [
    {
     "name": "stdout",
     "output_type": "stream",
     "text": [
      "theta: 1.286\n"
     ]
    }
   ],
   "source": [
    "tn = np.random.random()*2\n",
    "print (f\"theta: {tn:.3f}\")"
   ]
  },
  {
   "cell_type": "markdown",
   "id": "81b84b5b",
   "metadata": {},
   "source": [
    "#### integral of eq (2)\n"
   ]
  },
  {
   "cell_type": "code",
   "execution_count": 4,
   "id": "bad624c5",
   "metadata": {},
   "outputs": [
    {
     "data": {
      "text/plain": [
       "(2.1933443418094294, 9.512456843377874e-09)"
      ]
     },
     "execution_count": 4,
     "metadata": {},
     "output_type": "execute_result"
    }
   ],
   "source": [
    "eint = ((pdf*f*sy.log(pdf).diff(t)).subs({t: tn}))\n",
    "eint_fn = sy.lambdify(x, eint, \"numpy\")\n",
    "quad(eint_fn, -np.inf, np.inf)"
   ]
  },
  {
   "cell_type": "markdown",
   "id": "e3bbc8fe",
   "metadata": {},
   "source": [
    "#### gradient of expectation by sampling of eq (2)\n"
   ]
  },
  {
   "cell_type": "code",
   "execution_count": 5,
   "id": "c75b914c",
   "metadata": {},
   "outputs": [],
   "source": [
    "N = 100"
   ]
  },
  {
   "cell_type": "code",
   "execution_count": 8,
   "id": "0a6f7c1f",
   "metadata": {},
   "outputs": [
    {
     "data": {
      "text/plain": [
       "0.6325797115397438"
      ]
     },
     "execution_count": 8,
     "metadata": {},
     "output_type": "execute_result"
    }
   ],
   "source": [
    "def compute_gradient(tn):\n",
    "    qs = stats.norm(loc=tn, scale=1).rvs(N)\n",
    "    expectation_fn = sy.lambdify(x, (f*sy.log(pdf).diff(t)).subs({t: tn}), \"numpy\")\n",
    "    return expectation_fn(qs).mean()\n",
    "\n",
    "compute_gradient(tn)"
   ]
  },
  {
   "cell_type": "markdown",
   "id": "ae9c9f9a",
   "metadata": {},
   "source": [
    "#### let's compute the expectation for different values of $\\theta$"
   ]
  },
  {
   "cell_type": "code",
   "execution_count": 9,
   "id": "ef02d178",
   "metadata": {},
   "outputs": [],
   "source": [
    "def compute_expectation(tn):\n",
    "    qs = stats.norm(loc=tn, scale=sn).rvs(N)\n",
    "    expectation_fn = sy.lambdify(x, f, \"numpy\")\n",
    "    return expectation_fn(qs).mean()\n"
   ]
  },
  {
   "cell_type": "code",
   "execution_count": 10,
   "id": "7154e609",
   "metadata": {},
   "outputs": [
    {
     "name": "stderr",
     "output_type": "stream",
     "text": [
      "100% (100 of 100) |######################| Elapsed Time: 0:00:00 Time:  0:00:00\n"
     ]
    }
   ],
   "source": [
    "tr = np.linspace(-5,5,100)\n",
    "exps = [compute_expectation(i) for i in pbar(tr)]"
   ]
  },
  {
   "cell_type": "code",
   "execution_count": 11,
   "id": "a8197b2a",
   "metadata": {},
   "outputs": [
    {
     "data": {
      "text/plain": [
       "[<matplotlib.lines.Line2D at 0x7fb9324f7280>]"
      ]
     },
     "execution_count": 11,
     "metadata": {},
     "output_type": "execute_result"
    },
    {
     "data": {
      "image/png": "[encoded data removed]",
      "text/plain": [
       "<Figure size 432x288 with 1 Axes>"
      ]
     },
     "metadata": {
      "needs_background": "light"
     },
     "output_type": "display_data"
    }
   ],
   "source": [
    "plt.plot(tr, exps)\n",
    "plt.plot(tr, fn(tr))"
   ]
  },
  {
   "cell_type": "code",
   "execution_count": null,
   "id": "30f7171c",
   "metadata": {},
   "outputs": [],
   "source": []
  },
  {
   "cell_type": "code",
   "execution_count": null,
   "id": "2e72bb7f",
   "metadata": {},
   "outputs": [],
   "source": []
  },
  {
   "cell_type": "markdown",
   "id": "d0add88c",
   "metadata": {},
   "source": [
    "#### let's do a small gradient descent to get the best $\\theta$\n",
    "\n",
    "$$\\text{arg min}_\\theta \\; \\mathbb{E}_q[f(x)]\\;\\;\\;\\;\\text{with}\\;f(x)=x^2$$\n"
   ]
  },
  {
   "cell_type": "code",
   "execution_count": 12,
   "id": "e075beb2",
   "metadata": {},
   "outputs": [
    {
     "name": "stdout",
     "output_type": "stream",
     "text": [
      "step  0: expectation for t=8.622 is 90.55475, grad is -0.73052, lr is 0.10000\n",
      "step  1: expectation for t=8.695 is 104.89118, grad is 7.31724, lr is 0.09900\n",
      "step  2: expectation for t=7.971 is 88.00208, grad is 2.60428, lr is 0.09801\n",
      "step  3: expectation for t=7.716 is 78.80411, grad is 6.75094, lr is 0.09703\n",
      "step  4: expectation for t=7.061 is 69.32051, grad is 3.44356, lr is 0.09606\n",
      "step  5: expectation for t=6.730 is 65.69940, grad is 2.82635, lr is 0.09510\n",
      "step  6: expectation for t=6.461 is 56.16534, grad is 4.48963, lr is 0.09415\n",
      "step  7: expectation for t=6.038 is 50.89574, grad is 2.91046, lr is 0.09321\n",
      "step  8: expectation for t=5.767 is 49.91219, grad is 2.81846, lr is 0.09227\n",
      "step  9: expectation for t=5.507 is 48.61326, grad is 1.67204, lr is 0.09135\n",
      "step 10: expectation for t=5.354 is 46.57619, grad is 2.51275, lr is 0.09044\n",
      "step 11: expectation for t=5.127 is 40.03314, grad is 4.65023, lr is 0.08953\n",
      "step 12: expectation for t=4.711 is 37.69529, grad is 1.33687, lr is 0.08864\n",
      "step 13: expectation for t=4.592 is 35.93059, grad is 2.21358, lr is 0.08775\n",
      "step 14: expectation for t=4.398 is 34.40929, grad is 3.44079, lr is 0.08687\n",
      "step 15: expectation for t=4.099 is 29.35837, grad is 3.06526, lr is 0.08601\n",
      "step 16: expectation for t=3.836 is 28.43668, grad is 2.16859, lr is 0.08515\n",
      "step 17: expectation for t=3.651 is 24.44787, grad is 3.32311, lr is 0.08429\n",
      "step 18: expectation for t=3.371 is 23.89623, grad is 1.98892, lr is 0.08345\n",
      "step 19: expectation for t=3.205 is 22.60187, grad is 2.36407, lr is 0.08262\n",
      "step 20: expectation for t=3.009 is 20.81170, grad is 1.64883, lr is 0.08179\n",
      "step 21: expectation for t=2.875 is 21.22987, grad is 2.26526, lr is 0.08097\n",
      "step 22: expectation for t=2.691 is 16.87863, grad is 1.52482, lr is 0.08016\n",
      "step 23: expectation for t=2.569 is 15.71816, grad is 2.65254, lr is 0.07936\n",
      "step 24: expectation for t=2.358 is 14.74939, grad is 1.11523, lr is 0.07857\n",
      "step 25: expectation for t=2.271 is 15.85260, grad is 1.63065, lr is 0.07778\n",
      "step 26: expectation for t=2.144 is 12.15116, grad is 1.10037, lr is 0.07700\n",
      "step 27: expectation for t=2.059 is 13.61912, grad is 1.68814, lr is 0.07623\n",
      "step 28: expectation for t=1.931 is 11.98981, grad is 1.34899, lr is 0.07547\n",
      "step 29: expectation for t=1.829 is 10.12440, grad is 1.03352, lr is 0.07472\n",
      "step 30: expectation for t=1.752 is 11.24727, grad is 1.07444, lr is 0.07397\n",
      "step 31: expectation for t=1.672 is 11.36129, grad is 1.12437, lr is 0.07323\n",
      "step 32: expectation for t=1.590 is 12.37014, grad is 1.74170, lr is 0.07250\n",
      "step 33: expectation for t=1.463 is 11.38906, grad is 1.25335, lr is 0.07177\n",
      "step 34: expectation for t=1.373 is 11.03116, grad is 1.01263, lr is 0.07106\n",
      "step 35: expectation for t=1.302 is 10.19389, grad is 1.54129, lr is 0.07034\n",
      "step 36: expectation for t=1.193 is 9.45486, grad is 1.10910, lr is 0.06964\n",
      "step 37: expectation for t=1.116 is 9.70792, grad is 0.67991, lr is 0.06894\n",
      "step 38: expectation for t=1.069 is 7.12380, grad is 1.12017, lr is 0.06826\n",
      "step 39: expectation for t=0.993 is 7.23501, grad is 0.95454, lr is 0.06757\n",
      "step 40: expectation for t=0.928 is 7.73387, grad is 1.10466, lr is 0.06690\n",
      "step 41: expectation for t=0.854 is 6.85644, grad is 1.00762, lr is 0.06623\n",
      "step 42: expectation for t=0.787 is 6.21214, grad is 1.47684, lr is 0.06557\n",
      "step 43: expectation for t=0.691 is 9.00042, grad is 0.47931, lr is 0.06491\n",
      "step 44: expectation for t=0.659 is 7.09104, grad is 0.63207, lr is 0.06426\n",
      "step 45: expectation for t=0.619 is 7.25260, grad is 0.93551, lr is 0.06362\n",
      "step 46: expectation for t=0.559 is 6.27032, grad is 0.57261, lr is 0.06298\n",
      "step 47: expectation for t=0.523 is 6.99999, grad is 0.97160, lr is 0.06235\n",
      "step 48: expectation for t=0.463 is 6.19693, grad is 0.68519, lr is 0.06173\n",
      "step 49: expectation for t=0.420 is 5.97565, grad is 0.53440, lr is 0.06111\n",
      "step 50: expectation for t=0.388 is 5.65940, grad is 0.71450, lr is 0.06050\n",
      "step 51: expectation for t=0.344 is 6.04902, grad is 0.54055, lr is 0.05990\n",
      "step 52: expectation for t=0.312 is 6.55653, grad is 0.66373, lr is 0.05930\n",
      "step 53: expectation for t=0.273 is 4.64951, grad is 0.75912, lr is 0.05870\n",
      "step 54: expectation for t=0.228 is 6.18582, grad is 0.65182, lr is 0.05812\n",
      "step 55: expectation for t=0.190 is 4.82249, grad is 0.49762, lr is 0.05754\n",
      "step 56: expectation for t=0.162 is 4.67287, grad is 0.38879, lr is 0.05696\n",
      "step 57: expectation for t=0.140 is 5.23361, grad is 0.53633, lr is 0.05639\n",
      "step 58: expectation for t=0.109 is 4.72044, grad is 0.43703, lr is 0.05583\n",
      "step 59: expectation for t=0.085 is 4.71882, grad is 0.65245, lr is 0.05527\n",
      "step 60: expectation for t=0.049 is 5.44215, grad is 0.33917, lr is 0.05472\n",
      "step 61: expectation for t=0.030 is 4.75612, grad is 0.62153, lr is 0.05417\n",
      "step 62: expectation for t=-0.003 is 4.87797, grad is 0.39452, lr is 0.05363\n",
      "step 63: expectation for t=-0.025 is 4.54338, grad is 0.42246, lr is 0.05309\n",
      "step 64: expectation for t=-0.047 is 6.45072, grad is 0.38486, lr is 0.05256\n",
      "step 65: expectation for t=-0.067 is 5.14153, grad is 0.51267, lr is 0.05203\n",
      "step 66: expectation for t=-0.094 is 5.10798, grad is 0.49300, lr is 0.05151\n",
      "step 67: expectation for t=-0.119 is 6.27028, grad is 0.40728, lr is 0.05100\n",
      "step 68: expectation for t=-0.140 is 4.58633, grad is 0.50058, lr is 0.05049\n",
      "step 69: expectation for t=-0.165 is 5.25501, grad is 0.20805, lr is 0.04998\n",
      "step 70: expectation for t=-0.176 is 5.41906, grad is 0.22476, lr is 0.04948\n",
      "step 71: expectation for t=-0.187 is 3.60491, grad is 0.50303, lr is 0.04899\n",
      "step 72: expectation for t=-0.211 is 6.05082, grad is 0.23372, lr is 0.04850\n",
      "step 73: expectation for t=-0.223 is 4.22057, grad is 0.29896, lr is 0.04801\n",
      "step 74: expectation for t=-0.237 is 4.33868, grad is 0.19723, lr is 0.04753\n",
      "step 75: expectation for t=-0.247 is 4.16196, grad is 0.25789, lr is 0.04706\n",
      "step 76: expectation for t=-0.259 is 3.73607, grad is 0.34196, lr is 0.04659\n",
      "step 77: expectation for t=-0.275 is 6.27225, grad is 0.35703, lr is 0.04612\n",
      "step 78: expectation for t=-0.291 is 4.32751, grad is 0.18944, lr is 0.04566\n",
      "step 79: expectation for t=-0.300 is 4.37743, grad is 0.23705, lr is 0.04520\n",
      "step 80: expectation for t=-0.310 is 4.21398, grad is 0.42453, lr is 0.04475\n",
      "step 81: expectation for t=-0.329 is 4.87428, grad is 0.37370, lr is 0.04430\n",
      "step 82: expectation for t=-0.346 is 4.14417, grad is 0.33205, lr is 0.04386\n",
      "step 83: expectation for t=-0.361 is 5.24111, grad is 0.31978, lr is 0.04342\n",
      "step 84: expectation for t=-0.374 is 3.69672, grad is 0.28941, lr is 0.04299\n",
      "step 85: expectation for t=-0.387 is 4.21607, grad is 0.37431, lr is 0.04256\n",
      "step 86: expectation for t=-0.403 is 3.90946, grad is 0.35367, lr is 0.04213\n",
      "step 87: expectation for t=-0.418 is 3.83231, grad is 0.15596, lr is 0.04171\n",
      "step 88: expectation for t=-0.424 is 4.87035, grad is 0.12159, lr is 0.04129\n",
      "step 89: expectation for t=-0.429 is 3.72157, grad is 0.37259, lr is 0.04088\n",
      "step 90: expectation for t=-0.444 is 5.08621, grad is 0.17766, lr is 0.04047\n",
      "step 91: expectation for t=-0.452 is 4.67872, grad is 0.38234, lr is 0.04007\n",
      "step 92: expectation for t=-0.467 is 4.87655, grad is 0.37460, lr is 0.03967\n",
      "step 93: expectation for t=-0.482 is 4.13324, grad is 0.05673, lr is 0.03927\n",
      "step 94: expectation for t=-0.484 is 4.07103, grad is 0.18599, lr is 0.03888\n",
      "step 95: expectation for t=-0.491 is 3.22710, grad is 0.17204, lr is 0.03849\n",
      "step 96: expectation for t=-0.498 is 4.66630, grad is -0.03570, lr is 0.03810\n",
      "step 97: expectation for t=-0.497 is 4.44908, grad is 0.28723, lr is 0.03772\n",
      "step 98: expectation for t=-0.507 is 3.93070, grad is 0.21714, lr is 0.03735\n",
      "step 99: expectation for t=-0.516 is 3.53000, grad is 0.23172, lr is 0.03697\n",
      "step 99: expectation for t=-0.524 is 4.85763, grad is 0.23172\n"
     ]
    }
   ],
   "source": [
    "gtn = np.random.random()*5+5\n",
    "learning_rate = 1e-1\n",
    "lr_decay = 1e-2\n",
    "for step in range(100):\n",
    "    \n",
    "    grad = compute_gradient(gtn)\n",
    "    print (f\"step {step:2d}: expectation for t={gtn:.3f} is {compute_expectation(gtn):.5f}, grad is {grad:.5f}, lr is {learning_rate:.5f}\")\n",
    "\n",
    "    gtn -= learning_rate * grad\n",
    "    learning_rate *= (1-lr_decay)\n",
    "    \n",
    "print (f\"step {step:2d}: expectation for t={gtn:.3f} is {compute_expectation(gtn):.5f}, grad is {grad:.5f}\")\n"
   ]
  },
  {
   "cell_type": "code",
   "execution_count": 140,
   "id": "0bd76397",
   "metadata": {},
   "outputs": [
    {
     "data": {
      "text/plain": [
       "-0.9996188400141854"
      ]
     },
     "execution_count": 140,
     "metadata": {},
     "output_type": "execute_result"
    }
   ],
   "source": [
    "np.sin(4.74)"
   ]
  },
  {
   "cell_type": "code",
   "execution_count": null,
   "id": "bb9ca7ca",
   "metadata": {},
   "outputs": [],
   "source": []
  },
  {
   "cell_type": "code",
   "execution_count": null,
   "id": "beb96d66",
   "metadata": {},
   "outputs": [],
   "source": []
  },
  {
   "cell_type": "code",
   "execution_count": null,
   "id": "1210a931",
   "metadata": {},
   "outputs": [],
   "source": []
  },
  {
   "cell_type": "code",
   "execution_count": null,
   "id": "c1577061",
   "metadata": {},
   "outputs": [],
   "source": []
  },
  {
   "cell_type": "code",
   "execution_count": 222,
   "id": "0561c7de",
   "metadata": {},
   "outputs": [
    {
     "name": "stdout",
     "output_type": "stream",
     "text": [
      "4.006873903782586\n",
      "3.9997908932376647\n"
     ]
    }
   ],
   "source": [
    "import numpy as np\n",
    "N = 1000000\n",
    "theta = 2.0\n",
    "eps = np.random.randn(N)\n",
    "x = theta + eps\n",
    "\n",
    "grad1 = lambda x: np.sum(np.square(x)*(x-theta)) / x.size\n",
    "grad2 = lambda eps: np.sum(2*(theta + eps)) / x.size\n",
    "\n",
    "print (grad1(x))\n",
    "print (grad2(eps))"
   ]
  },
  {
   "cell_type": "code",
   "execution_count": 224,
   "id": "f6cfc377",
   "metadata": {},
   "outputs": [
    {
     "name": "stdout",
     "output_type": "stream",
     "text": [
      "3.9928147665797797\n",
      "3.9972421264961464\n"
     ]
    }
   ],
   "source": [
    "x = np.random.randn(N) + theta\n",
    "eps = np.random.randn(N)\n",
    "print (grad1(x))\n",
    "print (grad2(eps))"
   ]
  },
  {
   "cell_type": "code",
   "execution_count": null,
   "id": "a17302cc",
   "metadata": {},
   "outputs": [],
   "source": []
  }
 ],
 "metadata": {
  "kernelspec": {
   "display_name": "p39",
   "language": "python",
   "name": "p39"
  },
  "language_info": {
   "codemirror_mode": {
    "name": "ipython",
    "version": 3
   },
   "file_extension": ".py",
   "mimetype": "text/x-python",
   "name": "python",
   "nbconvert_exporter": "python",
   "pygments_lexer": "ipython3",
   "version": "3.9.7"
  }
 },
 "nbformat": 4,
 "nbformat_minor": 5
}
