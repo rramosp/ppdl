{
 "cells": [
  {
   "cell_type": "markdown",
   "id": "b2b039aa",
   "metadata": {},
   "source": [
    "# Joint Distributions\n",
    "\n",
    "In this lab, we will implement a multilevel logistic regression model using the `tensorflow_probability`'s `JointDistribution` API."
   ]
  },
  {
   "cell_type": "code",
   "execution_count": 1,
   "id": "fed773b2",
   "metadata": {
    "tags": []
   },
   "outputs": [
    {
     "name": "stderr",
     "output_type": "stream",
     "text": [
      "2023-02-15 13:28:15.021355: I tensorflow/core/platform/cpu_feature_guard.cc:193] This TensorFlow binary is optimized with oneAPI Deep Neural Network Library (oneDNN) to use the following CPU instructions in performance-critical operations:  AVX2 FMA\n",
      "To enable them in other operations, rebuild TensorFlow with the appropriate compiler flags.\n",
      "2023-02-15 13:28:15.106212: W tensorflow/compiler/xla/stream_executor/platform/default/dso_loader.cc:64] Could not load dynamic library 'libcudart.so.11.0'; dlerror: libcudart.so.11.0: cannot open shared object file: No such file or directory\n",
      "2023-02-15 13:28:15.106229: I tensorflow/compiler/xla/stream_executor/cuda/cudart_stub.cc:29] Ignore above cudart dlerror if you do not have a GPU set up on your machine.\n",
      "2023-02-15 13:28:15.668431: W tensorflow/compiler/xla/stream_executor/platform/default/dso_loader.cc:64] Could not load dynamic library 'libnvinfer.so.7'; dlerror: libnvinfer.so.7: cannot open shared object file: No such file or directory\n",
      "2023-02-15 13:28:15.668490: W tensorflow/compiler/xla/stream_executor/platform/default/dso_loader.cc:64] Could not load dynamic library 'libnvinfer_plugin.so.7'; dlerror: libnvinfer_plugin.so.7: cannot open shared object file: No such file or directory\n",
      "2023-02-15 13:28:15.668497: W tensorflow/compiler/tf2tensorrt/utils/py_utils.cc:38] TF-TRT Warning: Cannot dlopen some TensorRT libraries. If you would like to use Nvidia GPU with TensorRT, please make sure the missing libraries mentioned above are installed properly.\n"
     ]
    }
   ],
   "source": [
    "import numpy as np\n",
    "import tensorflow as tf\n",
    "import tensorflow_probability as tfp\n",
    "from sklearn.datasets import make_blobs\n",
    "from sklearn.neighbors import KernelDensity\n",
    "from sklearn.metrics import classification_report\n",
    "import matplotlib.pyplot as plt\n",
    "plt.style.use(\"ggplot\")\n",
    "\n",
    "tfd = tfp.distributions"
   ]
  },
  {
   "cell_type": "code",
   "execution_count": 2,
   "id": "bd19471e",
   "metadata": {
    "tags": []
   },
   "outputs": [
    {
     "data": {
      "text/html": [
       "\n",
       "<meta name=\"google-signin-client_id\"\n",
       "      content=\"461673936472-kdjosv61up3ac1ajeuq6qqu72upilmls.apps.googleusercontent.com\"/>\n",
       "<script src=\"https://apis.google.com/js/client:platform.js?onload=google_button_start\"></script>\n",
       "    "
      ],
      "text/plain": [
       "<IPython.core.display.HTML object>"
      ]
     },
     "metadata": {},
     "output_type": "display_data"
    },
    {
     "data": {
      "text/html": [
       "<h3>See <a href='https://m5knaekxo6.execute-api.us-west-2.amazonaws.com/dev-v0001/rlxmooc/web/login' target='_blank'>my courses and progress</a></h2>"
      ],
      "text/plain": [
       "<IPython.core.display.HTML object>"
      ]
     },
     "execution_count": 2,
     "metadata": {},
     "output_type": "execute_result"
    }
   ],
   "source": [
    "## TEACHER\n",
    "import inspect\n",
    "import init; init.init(force_download=False); init.get_weblink()"
   ]
  },
  {
   "cell_type": "code",
   "execution_count": 3,
   "id": "efbd7924",
   "metadata": {
    "tags": []
   },
   "outputs": [
    {
     "data": {
      "text/html": [
       "\n",
       "\n",
       "<script>\n",
       "console.log(\"loading...\")\n",
       "function http_post(url, data, callback){\n",
       "\n",
       "    var xhttp = new XMLHttpRequest();\n",
       "\n",
       "    xhttp.onreadystatechange = function() {\n",
       "        if (this.readyState == 4) {\n",
       "            if (this.status!=200) {\n",
       "                var t = JSON.parse(this.responseText)\n",
       "                if (\"error\" in t) {\n",
       "                    window.alert(t[\"error\"])\n",
       "                } else {\n",
       "                    console.log(this.responseText)\n",
       "                    window.alert(\"Unknown error, check the javascript console\")\n",
       "                }\n",
       "            } else {\n",
       "                callback(JSON.parse(this.responseText))\n",
       "            }\n",
       "        }\n",
       "    }    \n",
       "    console.log(\"POSTING TO\", url)\n",
       "    xhttp.open(\"POST\", url, true);\n",
       "    if (typeof data == 'undefined') {\n",
       "        xhttp.send()\n",
       "    } else {\n",
       "        xhttp.setRequestHeader(\"Content-type\", \"application/json\");\n",
       "        xhttp.send( JSON.stringify(data) );    \n",
       "    }\n",
       "}\n",
       "\n",
       "function google_button_start() {\n",
       "      window.google_code = '';\n",
       "      gapi.load('auth2', function() {\n",
       "        auth2 = gapi.auth2.init({\n",
       "          client_id: window.google_client_id,\n",
       "        });\n",
       "      });\n",
       "    }\n",
       "    \n",
       "    \n",
       "function user_info_callback(user_info) {\n",
       "    window.user_info = user_info\n",
       "    window.google_token = user_info['google_token']\n",
       "    var s = \"you are \"+user_info['email'] +\" .... wait for the cell below to complete signup\"\n",
       "    s = '-----------\\n'+s+'\\n-----------'\n",
       "    var cell = Jupyter.notebook.get_cell(window.current_cell_idx)    \n",
       "    cell.clear_output()\n",
       "    cell.output_area.append_output({output_type: \"stream\", text: s, name: \"stdout\"})\n",
       "    IPython.notebook.kernel.execute(\"global google_token; google_token = '\"+window.google_token+\"'\");\n",
       "    insert_login_cell()\n",
       "    var next_cell = Jupyter.notebook.get_cell(window.current_cell_idx+1)    \n",
       "    next_cell.execute()\n",
       "}\n",
       "\n",
       "\n",
       "window.user_info_callback = user_info_callback\n",
       " \n",
       "function insert_login_cell() {\n",
       "\n",
       "    var cell_idx = window.current_cell_idx\n",
       "    var cell = Jupyter.notebook.get_cell(window.current_cell_idx+1)\n",
       "    var next_cell_content = JSON.parse(JSON.stringify(cell))['source']\n",
       "    \n",
       "    s = \"teacher = session.Session(init.endpoint).login(course_id='ppdl.v1', lab_id='L04.01.03', google_token=google_token)\"\n",
       "    if (next_cell_content!==s) {\n",
       "        if (!next_cell_content.includes(\"session.Session\")) {\n",
       "            Jupyter.notebook.insert_cell_below('code', cell_idx)\n",
       "        }\n",
       "        var cell = Jupyter.notebook.get_cell(cell_idx+1)\n",
       "        s = \"teacher = session.Session(init.endpoint).login(course_id=init.course_id, lab_id='L04.01.03', google_token=google_token)\"\n",
       "        cell.set_text(s)\n",
       "    }\n",
       "\n",
       "} \n",
       " \n",
       "function google_button_callback(code) {\n",
       "    var cell = Jupyter.notebook.get_cell(window.current_cell_idx)    \n",
       "    cell.clear_output()\n",
       "    cell.output_area.append_output({output_type: \"stream\", text: \"-----------\\nauthenticating ... please wait\\n-----------\", name: \"stdout\"})\n",
       "\n",
       "    window.google_code = code['code']  \n",
       "    \n",
       "    IPython.notebook.kernel.execute(\"global google_code; google_code = '\"+window.google_code+\"'\");\n",
       "    \n",
       "    data = {'google_code': code['code'],\n",
       "            'redirect_uri': window.location.origin}            \n",
       "                        \n",
       "            \n",
       "    r = http_post(\"https://m5knaekxo6.execute-api.us-west-2.amazonaws.com/dev-v0001/rlxmooc/api\"+\"/gu\", data=data, callback=window.user_info_callback)\n",
       "}\n",
       "    \n",
       "</script>\n",
       "\n",
       "<style>\n",
       ".hidden {\n",
       "  visibility: hidden;\n",
       "}\n",
       "\n",
       ".google_button { \n",
       "    color:black ; \n",
       "    font-size:100%;\n",
       "    background: url('https://developers-dot-devsite-v2-prod.appspot.com/identity/sign-in/g-normal.png') transparent 5px 50% no-repeat;\n",
       "    display: inline-block;\n",
       "    width: 200px;\n",
       "    height: 50px;\n",
       "    vertical-align: middle;\n",
       "    border: thin solid #888;\n",
       "    white-space: nowrap;\n",
       "    vertical-align: middle;\n",
       "}\n",
       "\n",
       ".login_button { \n",
       "    color:black ; \n",
       "    font-size:100%;\n",
       "    background: transparent;\n",
       "    display: inline-block;\n",
       "    vertical-align: middle;\n",
       "    border: thin solid #888;\n",
       "    white-space: nowrap;\n",
       "    vertical-align: middle;\n",
       "}\n",
       "</style>\n",
       "        "
      ],
      "text/plain": [
       "<IPython.core.display.HTML object>"
      ]
     },
     "metadata": {},
     "output_type": "display_data"
    },
    {
     "data": {
      "application/javascript": [
       "google_button_start()"
      ],
      "text/plain": [
       "<IPython.core.display.Javascript object>"
      ]
     },
     "metadata": {},
     "output_type": "display_data"
    },
    {
     "data": {
      "application/vnd.jupyter.widget-view+json": {
       "model_id": "a090a7ce5d3d4291930d24ff2ec48eb4",
       "version_major": 2,
       "version_minor": 0
      },
      "text/plain": [
       "HBox(children=(VBox(children=(Text(value='', description='email', layout=Layout(height='25px', width='300px'))…"
      ]
     },
     "metadata": {},
     "output_type": "display_data"
    },
    {
     "data": {
      "application/javascript": [
       "\n",
       "        var cell_element = this.element.parents('.cell');\n",
       "        window.current_cell_idx = Jupyter.notebook.get_cell_elements().index(cell_element);    \n",
       "        "
      ],
      "text/plain": [
       "<IPython.core.display.Javascript object>"
      ]
     },
     "metadata": {},
     "output_type": "display_data"
    }
   ],
   "source": [
    "## TEACHER\n",
    "from local.lib.rlxmoocapi import submit, session\n",
    "session.LoginSequence(\n",
    "    endpoint=init.endpoint,\n",
    "    course_id=init.course_id,\n",
    "    lab_id=\"L04.01.03\",\n",
    "    varname=\"teacher\"\n",
    "    );"
   ]
  },
  {
   "cell_type": "markdown",
   "id": "ed386b36",
   "metadata": {},
   "source": [
    "We'll use the following synthetic dataset:"
   ]
  },
  {
   "cell_type": "code",
   "execution_count": 4,
   "id": "2473032c",
   "metadata": {
    "tags": []
   },
   "outputs": [],
   "source": [
    "n_features = 2\n",
    "n_classes = 3\n",
    "X, y = make_blobs(\n",
    "        n_samples=500,\n",
    "        n_features=n_features,\n",
    "        centers=n_classes,\n",
    "        random_state=42\n",
    "        )"
   ]
  },
  {
   "cell_type": "markdown",
   "id": "c382e9ee",
   "metadata": {},
   "source": [
    "We can visualize the data:"
   ]
  },
  {
   "cell_type": "code",
   "execution_count": 5,
   "id": "d9044567",
   "metadata": {
    "lines_to_next_cell": 1,
    "tags": []
   },
   "outputs": [
    {
     "data": {
      "text/plain": [
       "Text(0, 0.5, '$x_2$')"
      ]
     },
     "execution_count": 5,
     "metadata": {},
     "output_type": "execute_result"
    },
    {
     "data": {
      "image/png": "[encoded data removed]",
      "text/plain": [
       "<Figure size 800x800 with 1 Axes>"
      ]
     },
     "metadata": {},
     "output_type": "display_data"
    }
   ],
   "source": [
    "## KEEPOUTPUT\n",
    "fig, ax = plt.subplots(1, 1, figsize=(8, 8))\n",
    "ax.scatter(X[:, 0], X[:, 1], c=y, s=50, cmap=\"viridis\", alpha=0.5)\n",
    "ax.set_xlabel(\"$x_1$\")\n",
    "ax.set_ylabel(\"$x_2$\")"
   ]
  },
  {
   "cell_type": "markdown",
   "id": "a1f44c7d",
   "metadata": {},
   "source": [
    "## Task 1: Logistic Regression\n",
    "---\n",
    "\n",
    "In this task, you must define a logistic regression model using the `JointDistributionNamed` API, you must implement the following model:\n",
    "\n",
    "$$\n",
    "w \\sim \\mathcal{N}([0, 0], [1, 1])\\\\\n",
    "b \\sim \\mathcal{N}(0, 1)\\\\\n",
    "\\text{logits} = \\mathbf{w}\\cdot\\mathbf{x} + b\\\\\n",
    "y \\sim \\text{categorical}(\\text{logits})\n",
    "$$\n",
    "\n",
    "The model must have the following distributions: `w`, `b`, and `y`:"
   ]
  },
  {
   "cell_type": "code",
   "execution_count": 6,
   "id": "0e7a2ce5",
   "metadata": {
    "lines_to_next_cell": 1,
    "tags": []
   },
   "outputs": [],
   "source": [
    "def prob_log_regression(x, n_features, n_classes):\n",
    "    # YOUR CODE HERE\n",
    "    model = ...\n",
    "    return model"
   ]
  },
  {
   "cell_type": "code",
   "execution_count": 7,
   "id": "5e305295",
   "metadata": {
    "lines_to_next_cell": 1,
    "tags": []
   },
   "outputs": [],
   "source": [
    "## TEACHER\n",
    "def prob_log_regression(x, n_features, n_classes):\n",
    "    model = tfd.JointDistributionNamedAutoBatched({\n",
    "        \"w\": tfd.Normal(loc=tf.zeros(shape=(n_features, n_classes)), scale=1.),\n",
    "        \"b\": tfd.Normal(loc=tf.zeros(shape=(n_classes, )), scale=1.),\n",
    "        \"y\": lambda b, w: tfd.Independent(\n",
    "            tfd.Categorical(logits=x @ w + b),\n",
    "            reinterpreted_batch_ndims=1\n",
    "            )\n",
    "        }\n",
    "    )\n",
    "    return model"
   ]
  },
  {
   "cell_type": "markdown",
   "id": "663e163b",
   "metadata": {},
   "source": [
    "You can use the model to generate samples:"
   ]
  },
  {
   "cell_type": "code",
   "execution_count": 9,
   "id": "19485fea",
   "metadata": {
    "lines_to_next_cell": 1,
    "tags": []
   },
   "outputs": [
    {
     "name": "stdout",
     "output_type": "stream",
     "text": [
      "(1, 500)\n"
     ]
    }
   ],
   "source": [
    "## KEEPOUTPUT\n",
    "model = prob_log_regression(X, n_features, n_classes)\n",
    "samples = model.sample(1)\n",
    "print(samples[\"y\"].shape)"
   ]
  },
  {
   "cell_type": "code",
   "execution_count": 10,
   "id": "abf7c866",
   "metadata": {
    "tags": []
   },
   "outputs": [],
   "source": [
    "## TEACHER\n",
    "def grader1(functions, variables, caller_userid):\n",
    "    import tensorflow as tf\n",
    "    import tensorflow_probability as tfp\n",
    "    tfd = tfp.distributions\n",
    "\n",
    "    namespace = locals()\n",
    "    for f in functions.values():\n",
    "        exec(f, namespace)\n",
    "\n",
    "    n_features = 2\n",
    "    n_classes = 3\n",
    "    n_samples = 500\n",
    "    X, y = make_blobs(\n",
    "            n_samples=n_samples,\n",
    "            n_features=n_features,\n",
    "            centers=n_classes,\n",
    "            random_state=42\n",
    "            )\n",
    "    \n",
    "    prob_log_regression = namespace[\"prob_log_regression\"]\n",
    "    model_student = prob_log_regression(X, n_features, n_classes)\n",
    "    msg = \"Validating probabilistic model...</br>\"\n",
    "    if not isinstance(model_student, tfd.JointDistribution):\n",
    "        msg += \"<b>Your model is not a joint distribution.</b></br>\"\n",
    "        return 0, msg\n",
    "\n",
    "\n",
    "    dists = model_student.sample_distributions()[0]\n",
    "    expected_dists = {\n",
    "            \"w\": {\n",
    "                \"type\": tfd.Normal,\n",
    "                \"batch_shape\": [n_features, n_classes],\n",
    "                \"event_shape\": []\n",
    "                },\n",
    "            \"b\": {\n",
    "                \"type\": tfd.Normal,\n",
    "                \"batch_shape\": [n_classes],\n",
    "                \"event_shape\": []\n",
    "                },\n",
    "            \"y\": {\n",
    "                \"type\": tfd.Independent,\n",
    "                \"batch_shape\": [],\n",
    "                \"event_shape\": [n_samples],\n",
    "                }\n",
    "            }\n",
    "    for param, values in expected_dists.items():\n",
    "        if param not in dists:\n",
    "            msg += f\"<b>Your model doesn't contain the distribution '{param}'</b></br>\"\n",
    "            return 0, msg\n",
    "        if not isinstance(dists[param], values[\"type\"]):\n",
    "            msg += f\"<b>The distribution '{param}' is incorrect.</b>\"\n",
    "            return 0, msg\n",
    "\n",
    "        if list(dists[param].batch_shape) != values[\"batch_shape\"]:\n",
    "            msg += f\"<b>The distribution '{param}' has a wrong batch_shape.</b>\"\n",
    "            return 0, msg\n",
    "\n",
    "        if list(dists[param].event_shape) != values[\"event_shape\"]:\n",
    "            msg += f\"<b>The distribution '{param}' has a wrong event_shape.</b>\"\n",
    "            return 0, msg\n",
    "\n",
    "    return 5, msg + \"<b>Success!</b>\""
   ]
  },
  {
   "cell_type": "markdown",
   "id": "5fd24172",
   "metadata": {},
   "source": [
    "Use the following cell to grade your code:"
   ]
  },
  {
   "cell_type": "code",
   "execution_count": 11,
   "id": "2c002ea0",
   "metadata": {
    "tags": []
   },
   "outputs": [
    {
     "data": {
      "text/html": [
       "<h1>grade: <font color='red'>5</font></h1><hr><h1>grader message</h1><hr/>Validating probabilistic model...</br><b>Success!</b>"
      ],
      "text/plain": [
       "<IPython.core.display.HTML object>"
      ]
     },
     "metadata": {},
     "output_type": "display_data"
    }
   ],
   "source": [
    "## TEACHER\n",
    "source_functions = [\"prob_log_regression\"]\n",
    "source_variables = []\n",
    "res = teacher.run_grader_locally(\"grader1\", source_functions, source_variables, locals())\n",
    "display(res)"
   ]
  },
  {
   "cell_type": "code",
   "execution_count": 12,
   "id": "ef96f153",
   "metadata": {
    "tags": []
   },
   "outputs": [],
   "source": [
    "teacher.set_grader(\n",
    "        teacher.course_id, \"L04.01.03\", \"T1\",\n",
    "        inspect.getsource(grader1), \"grader1\",\n",
    "        source_functions, source_variables\n",
    "        )"
   ]
  },
  {
   "cell_type": "code",
   "execution_count": null,
   "id": "4a53a67e",
   "metadata": {
    "lines_to_next_cell": 1
   },
   "outputs": [],
   "source": [
    "student.submit_task(namespace=globals(), task_id=\"T1\");"
   ]
  },
  {
   "cell_type": "markdown",
   "id": "798b6c82",
   "metadata": {},
   "source": [
    "## Task 2: Markov Chain Monte Carlo\n",
    "---\n",
    "\n",
    "Implement the `mcmc` function to train the model, you must use a Markov Chain Monte Carlo Strategy, We recommend using the `NoUTurnSampler` but feel free to experiment with the sampler."
   ]
  },
  {
   "cell_type": "code",
   "execution_count": 13,
   "id": "ce9ba929",
   "metadata": {
    "lines_to_next_cell": 1,
    "tags": []
   },
   "outputs": [],
   "source": [
    "## TEACHER\n",
    "@tf.function\n",
    "def mcmc(\n",
    "        model,\n",
    "        y,\n",
    "        n_features,\n",
    "        n_classes,\n",
    "        num_samples,\n",
    "        burning_steps,\n",
    "        step_size=1e-3\n",
    "        ):\n",
    "    def log_prob(w, b):\n",
    "        return model.log_prob(w=w, b=b, y=y)\n",
    "    kernel = tfp.mcmc.NoUTurnSampler(\n",
    "            target_log_prob_fn=log_prob,\n",
    "            step_size=step_size\n",
    "            )\n",
    "    \n",
    "    return tfp.mcmc.sample_chain(\n",
    "            num_results=num_samples,\n",
    "            num_burnin_steps=burning_steps,\n",
    "            current_state=[\n",
    "                tf.ones(shape=(n_features, n_classes)),\n",
    "                tf.ones(n_classes)\n",
    "                ],\n",
    "            kernel=kernel,\n",
    "            trace_fn=lambda _, results: results.target_log_prob\n",
    "            )"
   ]
  },
  {
   "cell_type": "code",
   "execution_count": 14,
   "id": "8fd56827",
   "metadata": {
    "tags": []
   },
   "outputs": [
    {
     "name": "stdout",
     "output_type": "stream",
     "text": [
      "WARNING:tensorflow:From /home/juselara/repositories/teaching/udea/ppml.dev/.venv/lib/python3.9/site-packages/tensorflow/python/autograph/pyct/static_analysis/liveness.py:83: Analyzer.lamba_check (from tensorflow.python.autograph.pyct.static_analysis.liveness) is deprecated and will be removed after 2023-09-23.\n",
      "Instructions for updating:\n",
      "Lambda fuctions will be no more assumed to be used in the statement where they are used, or at least in the same block. https://github.com/tensorflow/tensorflow/issues/56089\n"
     ]
    }
   ],
   "source": [
    "samples, log_probs = mcmc(\n",
    "        model=model,\n",
    "        y=y,\n",
    "        n_features=n_features,\n",
    "        n_classes=n_classes,\n",
    "        num_samples=100,\n",
    "        burning_steps=50,\n",
    "        )"
   ]
  },
  {
   "cell_type": "markdown",
   "id": "624c879b",
   "metadata": {},
   "source": [
    "Use the following cell to generate a visualization of the `log_probs`, it must look similar to:\n",
    "\n",
    "> **Note: The results may vary but the log-probs range bust be similar to the figure, and the average, must be close.**"
   ]
  },
  {
   "cell_type": "code",
   "execution_count": 15,
   "id": "20b10234",
   "metadata": {
    "tags": []
   },
   "outputs": [
    {
     "data": {
      "text/plain": [
       "Text(0.5, 1.0, 'AVG Log Prob = -14.88')"
      ]
     },
     "execution_count": 15,
     "metadata": {},
     "output_type": "execute_result"
    },
    {
     "data": {
      "image/png": "[encoded data removed]",
      "text/plain": [
       "<Figure size 1000x700 with 1 Axes>"
      ]
     },
     "metadata": {},
     "output_type": "display_data"
    }
   ],
   "source": [
    "## KEEPOUTPUT\n",
    "log_probs_viz = log_probs.numpy()\n",
    "fig, ax = plt.subplots(1, 1, figsize=(10, 7))\n",
    "ax.bar(np.arange(log_probs_viz.size), log_probs_viz, color=\"r\")\n",
    "ax.set_xlabel(\"Sample\")\n",
    "ax.set_xlabel(\"Log Prob\")\n",
    "ax.set_title(f\"AVG Log Prob = {log_probs_viz.mean():.2f}\") "
   ]
  },
  {
   "cell_type": "code",
   "execution_count": 16,
   "id": "386b0f01",
   "metadata": {
    "lines_to_next_cell": 1,
    "tags": []
   },
   "outputs": [],
   "source": [
    "def grader2(functions, variables, caller_userid):\n",
    "    import tensorflow as tf\n",
    "    import numpy as np\n",
    "    import tensorflow_probability as tfp\n",
    "\n",
    "    tf.random.set_seed(0)\n",
    "    tfd = tfp.distributions\n",
    "\n",
    "    namespace = locals()\n",
    "    for f in functions.values():\n",
    "        exec(f, namespace)\n",
    "\n",
    "    # compare descriptive stats using the same base model.\n",
    "\n",
    "    n_features = 2\n",
    "    n_classes = 2\n",
    "    n_gen_samples = 100\n",
    "    burnout = 100\n",
    "\n",
    "    X = np.array([\n",
    "        [0, 0],\n",
    "        [0, 1],\n",
    "        [1, 0],\n",
    "        [1, 1]\n",
    "        ] * 10, dtype=\"float32\")\n",
    "    y = {\n",
    "            \"and\": np.array([0, 0, 0, 1] * 10),\n",
    "            \"or\": np.array([0, 1, 1, 1] * 10),\n",
    "            }\n",
    "\n",
    "    mcmc = namespace[\"mcmc\"]\n",
    "    msg = \"Validating mcmc procedure...</br>\"\n",
    "\n",
    "    for case, y_i in y.items():\n",
    "\n",
    "        model = tfd.JointDistributionNamedAutoBatched({\n",
    "            \"w\": tfd.Normal(loc=tf.zeros(shape=(n_features, n_classes)), scale=1.),\n",
    "            \"b\": tfd.Normal(loc=tf.zeros(shape=(n_classes, )), scale=1.),\n",
    "            \"y\": lambda b, w: tfd.Independent(\n",
    "                tfd.Categorical(logits=X @ w + b),\n",
    "                reinterpreted_batch_ndims=1\n",
    "                )\n",
    "            })\n",
    "        samples, log_probs = mcmc(\n",
    "                model=model,\n",
    "                y=y_i,\n",
    "                n_features=n_features,\n",
    "                n_classes=n_classes,\n",
    "                num_samples=n_gen_samples,\n",
    "                burning_steps=burnout,\n",
    "                )\n",
    "\n",
    "        if samples[0].shape != tf.TensorShape([n_gen_samples, n_features, n_classes]):\n",
    "            msg += \"<b>Your function returns samples with wrong w shapes.</b></br>\"\n",
    "            return 0, msg\n",
    "\n",
    "        if samples[1].shape != tf.TensorShape([n_gen_samples, n_classes]):\n",
    "            msg += \"<b>Your function returns samples with wrong b shapes.</b></br>\"\n",
    "            return 0, msg\n",
    "\n",
    "        if log_probs.shape != tf.TensorShape([n_gen_samples]):\n",
    "            msg += \"<b>Your function returns log_probs with wrong shape.</b></br>\"\n",
    "            return 0, msg\n",
    "\n",
    "        w = samples[0].numpy().mean(axis=0)\n",
    "        b = samples[1].numpy().mean(axis=0)\n",
    "\n",
    "        y_pred = np.argmax(X @ w + b, axis=1)\n",
    "\n",
    "        if (y_pred == y_i).sum() / y_i.size < 0.9:\n",
    "            msg += \"<b>The mcmc function does not optimize the specified model.</b></br>\"\n",
    "            msg += str(y_pred)\n",
    "            msg += str(y_i)\n",
    "            return 0, msg\n",
    "\n",
    "    return 5, msg + \"<b>Success!</b>\""
   ]
  },
  {
   "cell_type": "code",
   "execution_count": 17,
   "id": "a6d83b5d",
   "metadata": {
    "tags": []
   },
   "outputs": [
    {
     "data": {
      "text/html": [
       "<h1>grade: <font color='red'>5</font></h1><hr><h1>grader message</h1><hr/>Validating mcmc procedure...</br><b>Success!</b>"
      ],
      "text/plain": [
       "<IPython.core.display.HTML object>"
      ]
     },
     "metadata": {},
     "output_type": "display_data"
    }
   ],
   "source": [
    "## TEACHER\n",
    "source_functions = [\"mcmc\"]\n",
    "source_variables = []\n",
    "res = teacher.run_grader_locally(\"grader2\", source_functions, source_variables, locals())\n",
    "display(res)"
   ]
  },
  {
   "cell_type": "code",
   "execution_count": 18,
   "id": "a8ee7e23",
   "metadata": {
    "tags": []
   },
   "outputs": [],
   "source": [
    "## TEACHER\n",
    "teacher.set_grader(\n",
    "        teacher.course_id, \"L04.01.03\", \"T2\",\n",
    "        inspect.getsource(grader2), \"grader2\",\n",
    "        source_functions, source_variables\n",
    "        )"
   ]
  },
  {
   "cell_type": "code",
   "execution_count": null,
   "id": "0aab4381",
   "metadata": {
    "lines_to_next_cell": 1
   },
   "outputs": [],
   "source": [
    "student.submit_task(namespace=globals(), task_id=\"T2\");"
   ]
  },
  {
   "cell_type": "markdown",
   "id": "1ce13b0e",
   "metadata": {},
   "source": [
    "## Task 3: Kernel Density Estimation\n",
    "---\n",
    "\n",
    "Compute the Maximum Aposteriori predictions of the parameters as follows:\n",
    "\n",
    "$$\n",
    "w_{map} = \\text{argmax}(\\text{kde}(w_{samples}))\\\\\n",
    "b_{map} = \\text{argmax}(\\text{kde}(w_{samples}))\\\\\n",
    "\\hat{y} = \\text{argmax}(\\text{softmax}(X, w_{map}, b_{map}))\n",
    "$$\n",
    "\n",
    "You must use `KernelDensity` for the estimation of the MAP parameters."
   ]
  },
  {
   "cell_type": "code",
   "execution_count": 19,
   "id": "81bf190f",
   "metadata": {
    "lines_to_next_cell": 1,
    "tags": []
   },
   "outputs": [],
   "source": [
    "def kde(w_samples, b_samples, x, kernel=\"gaussian\", bandwidth=0.1):\n",
    "    # YOUR CODE HERE\n",
    "    preds = ...\n",
    "    return preds"
   ]
  },
  {
   "cell_type": "code",
   "execution_count": 20,
   "id": "62ce4f23",
   "metadata": {
    "lines_to_next_cell": 1,
    "tags": []
   },
   "outputs": [],
   "source": [
    "## TEACHER\n",
    "def kde(w_samples, b_samples, x, kernel=\"gaussian\", bandwidth=0.1):\n",
    "    flat_w = w_samples.reshape(\n",
    "            (-1, np.prod(w_samples.shape[1:]))\n",
    "            )\n",
    "    w_densities = (\n",
    "            KernelDensity(kernel=kernel, bandwidth=bandwidth)\n",
    "            .fit(flat_w)\n",
    "            .score_samples(flat_w)\n",
    "            )\n",
    "    idx = np.argmax(w_densities)\n",
    "    w_map = w_samples[idx]\n",
    "\n",
    "    flat_b = b_samples.reshape(\n",
    "            (-1, np.prod(b_samples.shape[1:]))\n",
    "            )\n",
    "    b_densities = (\n",
    "            KernelDensity(kernel=kernel, bandwidth=bandwidth)\n",
    "            .fit(flat_b)\n",
    "            .score_samples(flat_b)\n",
    "            )\n",
    "    idx = np.argmax(b_densities)\n",
    "    b_map = b_samples[idx]\n",
    "\n",
    "    probs = tf.nn.softmax(x @ w_map + b_map)\n",
    "    preds = np.argmax(probs, axis=1)\n",
    "    return preds"
   ]
  },
  {
   "cell_type": "markdown",
   "id": "52f69b7c",
   "metadata": {},
   "source": [
    "Let's generate some predictions:"
   ]
  },
  {
   "cell_type": "code",
   "execution_count": 21,
   "id": "5d1bb2ed",
   "metadata": {
    "lines_to_next_cell": 1,
    "tags": []
   },
   "outputs": [
    {
     "name": "stdout",
     "output_type": "stream",
     "text": [
      "[2 1 1 0 1 1 2 1 1 2 1 0 0 0 1 1 0 2 2 0 1 0 1 2 2 1 1 2 2 0 1 0 0 0 1 1 1\n",
      " 1 2 2 1 0 0 0 0 1 1 1 1 2 2 0 2 2 1 0 0 2 1 2 2 0 1 2 1 2 1 2 0 1 1 1 1 2\n",
      " 0 2 0 1 0 0 2 0 1 0 2 2 2 2 1 0 2 1 0 1 1 2 0 0 0 2 1 0 0 2 2 0 0 2 0 2 2\n",
      " 2 2 2 2 1 0 2 1 2 0 0 1 1 2 1 0 1 2 2 2 1 1 2 1 2 2 2 1 0 2 2 1 1 2 2 2 0\n",
      " 0 0 1 2 1 1 0 2 0 2 1 1 2 2 0 0 2 0 0 1 2 2 2 0 0 2 2 0 0 1 1 1 0 2 0 0 2\n",
      " 2 0 1 0 2 2 2 2 2 0 1 0 0 2 1 0 0 2 2 1 2 1 0 0 2 2 1 2 0 0 2 0 2 0 1 1 0\n",
      " 2 0 1 0 0 2 1 1 1 1 0 2 2 2 0 1 0 1 1 1 0 0 2 2 1 0 0 1 0 0 0 0 1 0 2 0 2\n",
      " 0 0 0 2 0 1 1 1 0 1 1 0 0 1 2 0 0 0 0 2 2 0 1 0 0 2 0 1 2 1 1 2 0 0 0 2 0\n",
      " 2 1 1 0 1 2 1 1 0 1 1 1 1 0 1 2 1 1 1 2 2 1 1 0 2 1 1 2 2 2 1 2 2 2 2 2 0\n",
      " 2 0 2 0 0 2 0 1 1 0 0 1 0 1 0 1 1 1 0 1 2 2 1 2 0 1 0 1 0 1 1 2 0 1 1 0 2\n",
      " 0 2 0 1 2 0 2 1 2 2 1 2 0 1 2 2 0 1 2 1 2 1 0 0 1 2 1 0 0 0 1 2 1 0 1 1 2\n",
      " 2 1 1 2 0 1 2 0 1 0 0 1 0 0 0 2 2 1 0 1 2 0 0 1 2 1 1 2 2 1 2 0 0 2 1 2 0\n",
      " 0 2 1 2 0 0 1 2 0 1 1 1 1 1 0 1 2 1 2 1 0 0 0 1 1 0 2 2 0 0 2 2 0 2 1 1 0\n",
      " 0 2 2 0 1 2 2 1 2 2 0 2 1 0 2 0 1 2 1]\n"
     ]
    }
   ],
   "source": [
    "## KEEPOUTPUT\n",
    "preds = kde(samples[0].numpy(), samples[1].numpy(), X)\n",
    "print(preds)"
   ]
  },
  {
   "cell_type": "code",
   "execution_count": 22,
   "id": "eecc5fb7",
   "metadata": {
    "lines_to_next_cell": 1,
    "tags": []
   },
   "outputs": [],
   "source": [
    "def grader3(functions, variables, caller_userid):\n",
    "    import numpy as np\n",
    "    import tensorflow as tf\n",
    "    from sklearn.datasets import make_blobs\n",
    "    from sklearn.neighbors import KernelDensity\n",
    "\n",
    "    namespace = locals()\n",
    "    for f in functions.values():\n",
    "        exec(f, namespace)\n",
    "\n",
    "    kde_student = namespace[\"kde\"]\n",
    "\n",
    "    def kde(w_samples, b_samples, x, kernel=\"gaussian\", bandwidth=0.1):\n",
    "        flat_w = w_samples.reshape(\n",
    "                (-1, np.prod(w_samples.shape[1:]))\n",
    "                )\n",
    "        w_densities = (\n",
    "                KernelDensity(kernel=kernel, bandwidth=bandwidth)\n",
    "                .fit(flat_w)\n",
    "                .score_samples(flat_w)\n",
    "                )\n",
    "        idx = np.argmax(w_densities)\n",
    "        w_map = w_samples[idx]\n",
    "\n",
    "        flat_b = b_samples.reshape(\n",
    "                (-1, np.prod(b_samples.shape[1:]))\n",
    "                )\n",
    "        b_densities = (\n",
    "                KernelDensity(kernel=kernel, bandwidth=bandwidth)\n",
    "                .fit(flat_b)\n",
    "                .score_samples(flat_b)\n",
    "                )\n",
    "        idx = np.argmax(b_densities)\n",
    "        b_map = b_samples[idx]\n",
    "\n",
    "        probs = tf.nn.softmax(x @ w_map + b_map)\n",
    "        preds = np.argmax(probs, axis=1)\n",
    "        return preds\n",
    "\n",
    "    msg = \"Testing your kde function with 10 random trials</br>\"\n",
    "\n",
    "    for _ in range(10):\n",
    "        n_samples = np.random.randint(1, 100)\n",
    "        n_gen_samples = np.random.randint(1, 10)\n",
    "        num_features = np.random.randint(2, 10)\n",
    "        num_classes = np.random.randint(2, 10)\n",
    "\n",
    "        samples_w = np.random.normal(size=(n_gen_samples, num_features, num_classes))\n",
    "        samples_b = np.random.normal(size=(n_gen_samples, num_classes))\n",
    "        x, _ = make_blobs(n_samples, num_features, centers=num_classes)\n",
    "\n",
    "        preds_student = kde_student(samples_w, samples_b, x)\n",
    "        preds_teacher = kde(samples_w, samples_b, x)\n",
    "\n",
    "        if not np.allclose(preds_student, preds_teacher):\n",
    "            msg += \"The MAP predictions do not match the expected results.\"\n",
    "            return 0, msg\n",
    "\n",
    "    return 5, msg + \"<b>Success!</b>\""
   ]
  },
  {
   "cell_type": "code",
   "execution_count": 23,
   "id": "7f231fd9",
   "metadata": {
    "tags": []
   },
   "outputs": [
    {
     "data": {
      "text/html": [
       "<h1>grade: <font color='red'>5</font></h1><hr><h1>grader message</h1><hr/>Testing your kde function with 10 random trials</br><b>Success!</b>"
      ],
      "text/plain": [
       "<IPython.core.display.HTML object>"
      ]
     },
     "metadata": {},
     "output_type": "display_data"
    }
   ],
   "source": [
    "## TEACHER\n",
    "source_functions = [\"kde\"]\n",
    "source_variables = []\n",
    "res = teacher.run_grader_locally(\"grader3\", source_functions, source_variables, locals())\n",
    "display(res)"
   ]
  },
  {
   "cell_type": "code",
   "execution_count": 24,
   "id": "e91836cf",
   "metadata": {
    "tags": []
   },
   "outputs": [],
   "source": [
    "## TEACHER\n",
    "teacher.set_grader(\n",
    "        teacher.course_id, \"L04.01.03\", \"T3\",\n",
    "        inspect.getsource(grader3), \"grader3\",\n",
    "        source_functions, source_variables\n",
    "        )"
   ]
  },
  {
   "cell_type": "code",
   "execution_count": null,
   "id": "51dde140",
   "metadata": {},
   "outputs": [],
   "source": [
    "student.submit_task(namespace=globals(), task_id=\"T3\");"
   ]
  },
  {
   "cell_type": "markdown",
   "id": "f24d3c5d",
   "metadata": {},
   "source": [
    "Let's evaluate this model:"
   ]
  },
  {
   "cell_type": "code",
   "execution_count": 25,
   "id": "e4259dcb",
   "metadata": {
    "tags": []
   },
   "outputs": [
    {
     "name": "stdout",
     "output_type": "stream",
     "text": [
      "              precision    recall  f1-score   support\n",
      "\n",
      "           0       1.00      1.00      1.00       167\n",
      "           1       1.00      1.00      1.00       167\n",
      "           2       1.00      1.00      1.00       166\n",
      "\n",
      "    accuracy                           1.00       500\n",
      "   macro avg       1.00      1.00      1.00       500\n",
      "weighted avg       1.00      1.00      1.00       500\n",
      "\n"
     ]
    }
   ],
   "source": [
    "## KEEPOUTPUT\n",
    "print(classification_report(y, preds))"
   ]
  }
 ],
 "metadata": {
  "jupytext": {
   "cell_metadata_filter": "-all",
   "main_language": "python",
   "notebook_metadata_filter": "-all"
  },
  "kernelspec": {
   "display_name": "Python 3 (ipykernel)",
   "language": "python",
   "name": "python3"
  },
  "language_info": {
   "codemirror_mode": {
    "name": "ipython",
    "version": 3
   },
   "file_extension": ".py",
   "mimetype": "text/x-python",
   "name": "python",
   "nbconvert_exporter": "python",
   "pygments_lexer": "ipython3",
   "version": "3.9.16"
  }
 },
 "nbformat": 4,
 "nbformat_minor": 5
}
