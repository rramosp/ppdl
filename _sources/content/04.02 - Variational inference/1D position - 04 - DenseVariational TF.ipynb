{
 "cells": [
  {
   "cell_type": "code",
   "execution_count": 131,
   "id": "4b9fb942",
   "metadata": {},
   "outputs": [],
   "source": [
    "import numpy as np\n",
    "import matplotlib.pyplot as plt\n",
    "from scipy import stats\n",
    "from scipy.integrate import quad\n",
    "from progressbar import progressbar as pbar\n",
    "from rlxutils import subplots, copy_func\n",
    "\n",
    "import tensorflow as tf\n",
    "import tensorflow_probability as tfp\n",
    "from tensorflow.keras.models import Sequential\n",
    "from tensorflow.keras.layers import Dense\n",
    "from tensorflow.keras.metrics import MeanSquaredError\n",
    "from tensorflow.keras.optimizers import RMSprop\n",
    "tfd = tfp.distributions\n",
    "tfb = tfp.bijectors\n",
    "tfk = tf.keras \n",
    "\n",
    "%matplotlib inline"
   ]
  },
  {
   "cell_type": "code",
   "execution_count": 523,
   "id": "61e8b2f2",
   "metadata": {},
   "outputs": [
    {
     "data": {
      "text/plain": [
       "<module 'dense_variational_v2' from '/home/rlx/Dropbox/teaching/ppdl.dev/content/04.02 - Variational Inference/dense_variational_v2.py'>"
      ]
     },
     "execution_count": 523,
     "metadata": {},
     "output_type": "execute_result"
    }
   ],
   "source": [
    "from importlib import reload\n",
    "import dense_variational_v2 as dvar\n",
    "reload(dvar)"
   ]
  },
  {
   "cell_type": "markdown",
   "id": "a6f72a64",
   "metadata": {},
   "source": [
    "https://rpubs.com/bacti/tensorflow-probabilistic"
   ]
  },
  {
   "cell_type": "code",
   "execution_count": 3,
   "id": "7352fa64",
   "metadata": {},
   "outputs": [],
   "source": [
    "import os\n",
    "os.environ[\"CUDA_VISIBLE_DEVICES\"] = \"-1\""
   ]
  },
  {
   "cell_type": "code",
   "execution_count": 4,
   "id": "e1a7c486",
   "metadata": {},
   "outputs": [],
   "source": [
    "def prior(kernel_size, bias_size=0, dtype=None):\n",
    "    n = kernel_size + bias_size\n",
    "    return tf.keras.Sequential([\n",
    "        tfp.layers.VariableLayer(n, dtype=dtype, trainable=False),\n",
    "        tfp.layers.DistributionLambda(lambda t: tfd.Normal(loc=t, scale=1))\n",
    "    ])\n"
   ]
  },
  {
   "cell_type": "code",
   "execution_count": 443,
   "id": "8c416e9e",
   "metadata": {},
   "outputs": [],
   "source": [
    "# kernel_size: the number of parameters in the dense weight matrix\n",
    "def prior(kernel_size, bias_size, dtype=None):\n",
    "    n = kernel_size + bias_size\n",
    "    return lambda t: tdf.Independent(tfd.Normal(loc=tf.zeros(n, dtype=dtype),\n",
    "                                                scale=1),\n",
    "                                     reinterpreted_batch_ndims=1)\n",
    "\n",
    "def posterior(kernel_size, bias_size, dtype=None):\n",
    "    n = kernel_size + bias_size\n",
    "    return Sequential([\n",
    "        tfp.layers.VariableLayer(tfp.layers.IndependentNormal.params_size(n), dtype=dtype),\n",
    "        tfp.layers.IndependentNormal(n)\n",
    "    ])"
   ]
  },
  {
   "cell_type": "code",
   "execution_count": 630,
   "id": "c12e650c",
   "metadata": {},
   "outputs": [],
   "source": [
    "def make_prior(kernel_size, bias_size, dtype=tf.float32):\n",
    "    n = kernel_size + bias_size\n",
    "    print (\"make prior\", kernel_size, bias_size)\n",
    "    m = Sequential([\n",
    "            tfp.layers.DistributionLambda(lambda t: tfd.Normal(loc=-10*tf.ones(n, dtype=dtype), scale=1))\n",
    "        ])\n",
    "    return m\n",
    "\n",
    "def make_posterior(kernel_size, bias_size, dtype=tf.float32):\n",
    "    n = kernel_size + bias_size\n",
    "    print (\"make posterior\", kernel_size, bias_size)\n",
    "    m = Sequential([\n",
    "            tfp.layers.VariableLayer(n),\n",
    "            tfp.layers.DistributionLambda(lambda t: tfd.Normal(loc=t, scale=1), \n",
    "                                          convert_to_tensor_fn=tfp.distributions.Distribution.sample)\n",
    "        ])\n",
    "    return m\n"
   ]
  },
  {
   "cell_type": "code",
   "execution_count": 657,
   "id": "943b50ba",
   "metadata": {},
   "outputs": [
    {
     "name": "stdout",
     "output_type": "stream",
     "text": [
      "make posterior 1 1\n",
      "make prior 1 1\n",
      "-- CALLED with inputs Tensor(\"Placeholder:0\", shape=(None, 1), dtype=float32)\n",
      "-- POSTERIOR params Tensor(\"x_dense_variational_11/sequential/variable_layer/ReadVariableOp:0\", shape=(2,), dtype=float32) 1\n",
      "-- PRIOR     params Tensor(\"x_dense_variational_11/sequential_1/distribution_lambda_1/mul:0\", shape=(2,), dtype=float32) 1\n",
      "-- KERNEL Tensor(\"x_dense_variational_11/Reshape:0\", shape=(1, 1), dtype=float32)\n",
      "Model: \"sequential_112\"\n",
      "_________________________________________________________________\n",
      " Layer (type)                Output Shape              Param #   \n",
      "=================================================================\n",
      " x_dense_variational_11 (XDe  (None, 1)                2         \n",
      " nseVariational)                                                 \n",
      "                                                                 \n",
      "=================================================================\n",
      "Total params: 2\n",
      "Trainable params: 2\n",
      "Non-trainable params: 0\n",
      "_________________________________________________________________\n"
     ]
    }
   ],
   "source": [
    "reload(dvar)\n",
    "model = Sequential([\n",
    "    dvar.XDenseVariational(input_shape=(1, ), units=1, \n",
    "                          make_prior_fn=make_prior, make_posterior_fn=make_posterior, \n",
    "                          kl_weight=1, kl_use_exact=False),\n",
    "])\n",
    "\n",
    "model.compile(loss=MeanSquaredError(), optimizer=RMSprop(learning_rate=0.005))\n",
    "model.summary()"
   ]
  },
  {
   "cell_type": "code",
   "execution_count": 658,
   "id": "ff77b8cb",
   "metadata": {},
   "outputs": [
    {
     "name": "stdout",
     "output_type": "stream",
     "text": [
      "make posterior 1 1\n",
      "make prior 1 1\n"
     ]
    }
   ],
   "source": [
    "posterior = make_posterior(1,1)\n",
    "prior = make_prior(1,1)"
   ]
  },
  {
   "cell_type": "code",
   "execution_count": 659,
   "id": "2677f6b0",
   "metadata": {},
   "outputs": [],
   "source": [
    "model.layers[0].set_weights(np.r_[[[1.,0.]]])"
   ]
  },
  {
   "cell_type": "code",
   "execution_count": 660,
   "id": "86b1a7aa",
   "metadata": {},
   "outputs": [],
   "source": [
    "x = np.r_[0.,0.,1.,2.,2.]"
   ]
  },
  {
   "cell_type": "code",
   "execution_count": 661,
   "id": "840cca8e",
   "metadata": {},
   "outputs": [
    {
     "data": {
      "text/plain": [
       "array([0., 0.], dtype=float32)"
      ]
     },
     "execution_count": 661,
     "metadata": {},
     "output_type": "execute_result"
    }
   ],
   "source": [
    "p = posterior(x)\n",
    "p.parameters['loc'].numpy()"
   ]
  },
  {
   "cell_type": "code",
   "execution_count": 662,
   "id": "3f3b64e0",
   "metadata": {},
   "outputs": [
    {
     "data": {
      "text/plain": [
       "<tf.Tensor: shape=(2,), dtype=float32, numpy=array([ 0.703736, -2.000312], dtype=float32)>"
      ]
     },
     "execution_count": 662,
     "metadata": {},
     "output_type": "execute_result"
    }
   ],
   "source": [
    "tf.convert_to_tensor(posterior(x))"
   ]
  },
  {
   "cell_type": "code",
   "execution_count": null,
   "id": "a76be2f1",
   "metadata": {},
   "outputs": [],
   "source": []
  },
  {
   "cell_type": "code",
   "execution_count": 663,
   "id": "510c0c73",
   "metadata": {},
   "outputs": [
    {
     "name": "stdout",
     "output_type": "stream",
     "text": [
      "-- CALLED with inputs tf.Tensor(\n",
      "[[0.]\n",
      " [0.]\n",
      " [1.]\n",
      " [2.]\n",
      " [2.]], shape=(5, 1), dtype=float32)\n",
      "-- POSTERIOR params tf.Tensor([1. 0.], shape=(2,), dtype=float32) 1\n",
      "-- PRIOR     params tf.Tensor([-10. -10.], shape=(2,), dtype=float32) 1\n",
      "-- KERNEL tf.Tensor([[1.4715037]], shape=(1, 1), dtype=float32)\n"
     ]
    },
    {
     "data": {
      "text/plain": [
       "<tf.Tensor: shape=(5, 1), dtype=float32, numpy=\n",
       "array([[-0.34474808],\n",
       "       [-0.34474808],\n",
       "       [ 1.1267557 ],\n",
       "       [ 2.5982594 ],\n",
       "       [ 2.5982594 ]], dtype=float32)>"
      ]
     },
     "execution_count": 663,
     "metadata": {},
     "output_type": "execute_result"
    }
   ],
   "source": [
    "x = np.r_[0.,0.,1.,2.,2.].reshape(-1,1)\n",
    "model(x)"
   ]
  },
  {
   "cell_type": "code",
   "execution_count": 664,
   "id": "af9fb6cd",
   "metadata": {},
   "outputs": [
    {
     "name": "stdout",
     "output_type": "stream",
     "text": [
      "-- CALLED with inputs Tensor(\"IteratorGetNext:0\", shape=(None, 1), dtype=float32)\n",
      "-- POSTERIOR params Tensor(\"sequential_112/x_dense_variational_11/sequential/variable_layer/ReadVariableOp:0\", shape=(2,), dtype=float32) 1\n",
      "-- PRIOR     params Tensor(\"sequential_112/x_dense_variational_11/sequential_1/distribution_lambda_1/mul:0\", shape=(2,), dtype=float32) 1\n",
      "-- KERNEL Tensor(\"sequential_112/x_dense_variational_11/Reshape:0\", shape=(1, 1), dtype=float32)\n"
     ]
    },
    {
     "data": {
      "text/plain": [
       "array([[-0.05460121],\n",
       "       [-0.05460121],\n",
       "       [ 0.51036006],\n",
       "       [ 1.0753213 ],\n",
       "       [ 1.0753213 ]], dtype=float32)"
      ]
     },
     "execution_count": 664,
     "metadata": {},
     "output_type": "execute_result"
    }
   ],
   "source": [
    "model.predict(x)"
   ]
  },
  {
   "cell_type": "code",
   "execution_count": 665,
   "id": "fa4bdb80",
   "metadata": {},
   "outputs": [
    {
     "ename": "TypeError",
     "evalue": "'_TensorCoercible' object is not callable",
     "output_type": "error",
     "traceback": [
      "\u001b[0;31m---------------------------------------------------------------------------\u001b[0m",
      "\u001b[0;31mTypeError\u001b[0m                                 Traceback (most recent call last)",
      "\u001b[0;32m/tmp/ipykernel_167046/4118361874.py\u001b[0m in \u001b[0;36m<module>\u001b[0;34m\u001b[0m\n\u001b[0;32m----> 1\u001b[0;31m \u001b[0mprior\u001b[0m\u001b[0;34m(\u001b[0m\u001b[0;36m1\u001b[0m\u001b[0;34m,\u001b[0m\u001b[0;36m1\u001b[0m\u001b[0;34m)\u001b[0m\u001b[0;34m(\u001b[0m\u001b[0mx\u001b[0m\u001b[0;34m)\u001b[0m\u001b[0;34m\u001b[0m\u001b[0;34m\u001b[0m\u001b[0m\n\u001b[0m",
      "\u001b[0;31mTypeError\u001b[0m: '_TensorCoercible' object is not callable"
     ]
    }
   ],
   "source": [
    "prior(1,1)(x)"
   ]
  },
  {
   "cell_type": "code",
   "execution_count": 666,
   "id": "1e399391",
   "metadata": {},
   "outputs": [
    {
     "name": "stdout",
     "output_type": "stream",
     "text": [
      "-- CALLED with inputs Tensor(\"sequential_112/ExpandDims:0\", shape=(None, 1), dtype=float32)\n",
      "-- POSTERIOR params Tensor(\"sequential_112/x_dense_variational_11/sequential/variable_layer/ReadVariableOp:0\", shape=(2,), dtype=float32) 1\n",
      "-- PRIOR     params Tensor(\"sequential_112/x_dense_variational_11/sequential_1/distribution_lambda_1/mul:0\", shape=(2,), dtype=float32) 1\n",
      "-- KERNEL Tensor(\"sequential_112/x_dense_variational_11/Reshape:0\", shape=(1, 1), dtype=float32)\n",
      "-- CALLED with inputs tf.Tensor(\n",
      "[[ 0.]\n",
      " [ 0.]\n",
      " [ 0.]\n",
      " ...\n",
      " [10.]\n",
      " [10.]\n",
      " [10.]], shape=(90000, 1), dtype=float32)\n",
      "-- POSTERIOR params tf.Tensor([1. 0.], shape=(2,), dtype=float32) 1\n",
      "-- PRIOR     params tf.Tensor([-10. -10.], shape=(2,), dtype=float32) 1\n",
      "-- KERNEL tf.Tensor([[1.078308]], shape=(1, 1), dtype=float32)\n"
     ]
    }
   ],
   "source": [
    "n = 90000\n",
    "x = 5*np.ones(n)\n",
    "x[:n//3] = 0\n",
    "x[-n//3:] = 10\n",
    "s = model.predict(x)\n",
    "ss = model(x).numpy()[:,0]"
   ]
  },
  {
   "cell_type": "code",
   "execution_count": 641,
   "id": "b9d155e9",
   "metadata": {},
   "outputs": [
    {
     "data": {
      "text/plain": [
       "array([ 1.1411604,  8.561324 , 15.981488 ], dtype=float32)"
      ]
     },
     "execution_count": 641,
     "metadata": {},
     "output_type": "execute_result"
    }
   ],
   "source": [
    "np.unique(ss)"
   ]
  },
  {
   "cell_type": "code",
   "execution_count": 642,
   "id": "5d92563a",
   "metadata": {},
   "outputs": [
    {
     "data": {
      "text/plain": [
       "[<matplotlib.lines.Line2D at 0x7fcfec917400>]"
      ]
     },
     "execution_count": 642,
     "metadata": {},
     "output_type": "execute_result"
    },
    {
     "data": {
      "image/png": "[encoded data removed]",
      "text/plain": [
       "<Figure size 720x216 with 1 Axes>"
      ]
     },
     "metadata": {
      "needs_background": "light"
     },
     "output_type": "display_data"
    }
   ],
   "source": [
    "plt.figure(figsize=(10,3))\n",
    "plt.plot(ss, color=\"black\")\n",
    "plt.plot(s, alpha=.5)\n"
   ]
  },
  {
   "cell_type": "code",
   "execution_count": 643,
   "id": "af2628c2",
   "metadata": {},
   "outputs": [
    {
     "data": {
      "text/plain": [
       "array([ 1.1411604,  1.1411604,  1.1411604, ..., 15.981488 , 15.981488 ,\n",
       "       15.981488 ], dtype=float32)"
      ]
     },
     "execution_count": 643,
     "metadata": {},
     "output_type": "execute_result"
    }
   ],
   "source": [
    "ss"
   ]
  },
  {
   "cell_type": "code",
   "execution_count": null,
   "id": "7764bb5f",
   "metadata": {},
   "outputs": [],
   "source": []
  },
  {
   "cell_type": "code",
   "execution_count": null,
   "id": "27c406ce",
   "metadata": {},
   "outputs": [],
   "source": []
  },
  {
   "cell_type": "code",
   "execution_count": 598,
   "id": "8f25da77",
   "metadata": {},
   "outputs": [
    {
     "data": {
      "image/png": "[encoded data removed]",
      "text/plain": [
       "<Figure size 432x288 with 1 Axes>"
      ]
     },
     "metadata": {
      "needs_background": "light"
     },
     "output_type": "display_data"
    }
   ],
   "source": [
    "plt.hist(s[:50000], bins=30, alpha=.5);\n",
    "plt.hist(s[50000:100000], bins=30, alpha=.5);\n",
    "plt.hist(s[-50000:], bins=30, alpha=.5);"
   ]
  },
  {
   "cell_type": "code",
   "execution_count": 461,
   "id": "ec43bd6c",
   "metadata": {},
   "outputs": [
    {
     "name": "stdout",
     "output_type": "stream",
     "text": [
      "4.8716063 5.783361\n",
      "18.094084 9.791212\n",
      "16.557356 9.563629\n"
     ]
    }
   ],
   "source": [
    "for ss in (s[:50000], s[50000:100000], s[-50000:]):\n",
    "    print (ss.mean(), ss.std())"
   ]
  },
  {
   "cell_type": "code",
   "execution_count": 462,
   "id": "d221c8cb",
   "metadata": {},
   "outputs": [
    {
     "name": "stdout",
     "output_type": "stream",
     "text": [
      "4.8716063 5.783361\n",
      "18.094084 9.791212\n",
      "16.557356 9.563629\n"
     ]
    }
   ],
   "source": [
    "for ss in (s[:50000], s[50000:100000], s[-50000:]):\n",
    "    print (ss.mean(), ss.std())"
   ]
  },
  {
   "cell_type": "code",
   "execution_count": 296,
   "id": "b0c9e513",
   "metadata": {},
   "outputs": [
    {
     "data": {
      "text/plain": [
       "[<tf.Variable 'dense_variational_24/constant:0' shape=(2,) dtype=float32, numpy=array([0., 0.], dtype=float32)>]"
      ]
     },
     "execution_count": 296,
     "metadata": {},
     "output_type": "execute_result"
    }
   ],
   "source": [
    "model.layers[0].weights"
   ]
  },
  {
   "cell_type": "code",
   "execution_count": 298,
   "id": "ba15e732",
   "metadata": {},
   "outputs": [
    {
     "data": {
      "text/plain": [
       "array([ 0.,  0.,  0., ..., 10., 10., 10.])"
      ]
     },
     "execution_count": 298,
     "metadata": {},
     "output_type": "execute_result"
    }
   ],
   "source": [
    "x"
   ]
  },
  {
   "cell_type": "code",
   "execution_count": null,
   "id": "56d081ad",
   "metadata": {},
   "outputs": [],
   "source": [
    "x = 5*np.ones(150000)\n",
    "x[:50000] = 0\n",
    "x[-50000:] = 10\n",
    "s = model.predict(x)"
   ]
  },
  {
   "cell_type": "code",
   "execution_count": null,
   "id": "84343eb7",
   "metadata": {},
   "outputs": [],
   "source": []
  }
 ],
 "metadata": {
  "kernelspec": {
   "display_name": "p39",
   "language": "python",
   "name": "p39"
  },
  "language_info": {
   "codemirror_mode": {
    "name": "ipython",
    "version": 3
   },
   "file_extension": ".py",
   "mimetype": "text/x-python",
   "name": "python",
   "nbconvert_exporter": "python",
   "pygments_lexer": "ipython3",
   "version": "3.9.7"
  }
 },
 "nbformat": 4,
 "nbformat_minor": 5
}
