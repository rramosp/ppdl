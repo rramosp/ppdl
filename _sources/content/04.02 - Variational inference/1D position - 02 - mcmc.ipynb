{
 "cells": [
  {
   "cell_type": "code",
   "execution_count": 1,
   "id": "3282e11e",
   "metadata": {},
   "outputs": [],
   "source": [
    "import numpy as np\n",
    "import matplotlib.pyplot as plt\n",
    "from scipy import stats\n",
    "from scipy.integrate import quad\n",
    "from progressbar import progressbar as pbar\n",
    "from rlxutils import subplots, copy_func\n",
    "\n",
    "import tensorflow as tf\n",
    "import tensorflow_probability as tfp\n",
    "tfd = tfp.distributions\n",
    "tfb = tfp.bijectors\n",
    "\n",
    "%matplotlib inline"
   ]
  },
  {
   "cell_type": "code",
   "execution_count": null,
   "id": "31d7f2eb",
   "metadata": {},
   "outputs": [],
   "source": []
  },
  {
   "cell_type": "code",
   "execution_count": 2,
   "id": "127edfa7",
   "metadata": {},
   "outputs": [],
   "source": [
    "# real (and unknown) parameter\n",
    "real_mu = 0.8\n",
    "\n",
    "# possible range of values for mu\n",
    "mu_support = np.r_[-10,10]"
   ]
  },
  {
   "cell_type": "markdown",
   "id": "33ca7056",
   "metadata": {},
   "source": [
    "# An observation"
   ]
  },
  {
   "cell_type": "code",
   "execution_count": 3,
   "id": "79ad0e7a",
   "metadata": {},
   "outputs": [],
   "source": [
    "#x = Model(real_mu).rvs(1)[0]\n",
    "# a very extreme (low probability) observation\n",
    "x = 2"
   ]
  },
  {
   "cell_type": "markdown",
   "id": "96e8f6c4",
   "metadata": {},
   "source": [
    "# MCMC with Tensorflow\n",
    "\n",
    "MCMC allows us to sample the posterior **without** computing the normalization constant.\n",
    "\n",
    "observe:\n",
    "\n",
    "- the `log_likelihood` function below, implementing our model.\n",
    "- the `log_prior` uniform uninformative prior.\n",
    "- the `unnormalized_log_posterior` aggregation function below is the only input to the Hamiltonian Montecarlo sampler.\n",
    "\n",
    "\n"
   ]
  },
  {
   "cell_type": "code",
   "execution_count": 4,
   "id": "aedfb60e",
   "metadata": {},
   "outputs": [],
   "source": [
    "log_likelihood = lambda mu: tfd.Normal(loc=mu, scale=1).log_prob(x)\n",
    "log_prior      = lambda mu: tfd.Normal(loc=-2, scale=3).log_prob(mu)"
   ]
  },
  {
   "cell_type": "code",
   "execution_count": null,
   "id": "566050ab",
   "metadata": {},
   "outputs": [],
   "source": []
  },
  {
   "cell_type": "code",
   "execution_count": 11,
   "id": "1c9b330e",
   "metadata": {},
   "outputs": [],
   "source": [
    "# wrap the mcmc sampling call in a @tf.function to speed it up\n",
    "@tf.function(autograph=False)\n",
    "def graph_sample_chain(*args, **kwargs):\n",
    "    return tfp.mcmc.sample_chain(*args, **kwargs)\n",
    "\n",
    "def sample(x):\n",
    "    num_burnin_steps = 5000\n",
    "    num_results = 20000\n",
    "        \n",
    "    unnormalized_log_posterior = lambda mu: log_likelihood(mu) + log_prior(mu)    \n",
    "\n",
    "    initial_chain_state = [\n",
    "         tf.ones([], dtype=tf.float32, name=\"init_mu\"),\n",
    "    ]\n",
    "\n",
    "    step_size = 1\n",
    "\n",
    "    kernel = tfp.mcmc.HamiltonianMonteCarlo(\n",
    "                target_log_prob_fn=unnormalized_log_posterior,\n",
    "                num_leapfrog_steps=2,\n",
    "                step_size=step_size,\n",
    "                state_gradients_are_stopped=True\n",
    "    )\n",
    "    \n",
    "    [\n",
    "        posterior_mu\n",
    "    ], kernel_results = graph_sample_chain(\n",
    "                num_results=num_results,\n",
    "                num_burnin_steps=num_burnin_steps,\n",
    "                current_state=initial_chain_state,\n",
    "                kernel = kernel\n",
    "        )\n",
    "\n",
    "    return posterior_mu"
   ]
  },
  {
   "cell_type": "code",
   "execution_count": 12,
   "id": "9a84fa8c",
   "metadata": {},
   "outputs": [
    {
     "name": "stderr",
     "output_type": "stream",
     "text": [
      "/opt/anaconda/envs/p39/lib/python3.9/site-packages/tensorflow_probability/python/mcmc/sample.py:339: UserWarning: Tracing all kernel results by default is deprecated. Set the `trace_fn` argument to None (the future default value) or an explicit callback that traces the values you are interested in.\n",
      "  warnings.warn('Tracing all kernel results by default is deprecated. Set '\n"
     ]
    }
   ],
   "source": [
    "posterior_mu = sample(x).numpy()"
   ]
  },
  {
   "cell_type": "markdown",
   "id": "d3404a98",
   "metadata": {},
   "source": [
    "observe that, as we are sampling, we do not have an analytical expression for the PDF"
   ]
  },
  {
   "cell_type": "code",
   "execution_count": 13,
   "id": "3a81714b",
   "metadata": {},
   "outputs": [
    {
     "data": {
      "image/png": "[encoded data removed]",
      "text/plain": [
       "<Figure size 432x216 with 1 Axes>"
      ]
     },
     "metadata": {
      "needs_background": "light"
     },
     "output_type": "display_data"
    }
   ],
   "source": [
    "for ax,i in subplots(1, usizex=6):\n",
    "    plt.hist(posterior_mu, density=True, bins=50, alpha=.5);\n",
    "    plt.axvline(real_mu, color=\"black\", label=r\"real (unknown) $\\mu$\", alpha=.5, lw=2)\n",
    "    plt.axvline(x, color=\"black\", label=r\"measurement\", alpha=.5, ls=\"--\")\n",
    "    plt.title(\"mcmc samples histogram\")\n",
    "    plt.grid(); plt.legend();\n",
    "\n",
    "    plt.xlim(*mu_support)"
   ]
  },
  {
   "cell_type": "code",
   "execution_count": 14,
   "id": "e973b50d",
   "metadata": {},
   "outputs": [
    {
     "data": {
      "text/plain": [
       "(1.593746, 0.9423391)"
      ]
     },
     "execution_count": 14,
     "metadata": {},
     "output_type": "execute_result"
    }
   ],
   "source": [
    "posterior_mu.mean(), posterior_mu.std()"
   ]
  },
  {
   "cell_type": "markdown",
   "id": "2fc008fb",
   "metadata": {},
   "source": []
  }
 ],
 "metadata": {
  "kernelspec": {
   "display_name": "p39",
   "language": "python",
   "name": "p39"
  },
  "language_info": {
   "codemirror_mode": {
    "name": "ipython",
    "version": 3
   },
   "file_extension": ".py",
   "mimetype": "text/x-python",
   "name": "python",
   "nbconvert_exporter": "python",
   "pygments_lexer": "ipython3",
   "version": "3.9.7"
  }
 },
 "nbformat": 4,
 "nbformat_minor": 5
}
