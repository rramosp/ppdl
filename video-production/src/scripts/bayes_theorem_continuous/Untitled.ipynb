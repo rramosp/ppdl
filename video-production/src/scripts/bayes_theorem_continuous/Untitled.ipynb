{
 "cells": [
  {
   "cell_type": "code",
   "execution_count": 16,
   "id": "9358706b",
   "metadata": {},
   "outputs": [],
   "source": [
    "import sympy as sy\n",
    "import numpy as np\n",
    "from scipy import stats"
   ]
  },
  {
   "cell_type": "code",
   "execution_count": 11,
   "id": "5e8edf8c",
   "metadata": {},
   "outputs": [],
   "source": [
    "def gaussian(x, mu, sigma):\n",
    "    \"\"\"\n",
    "    returns a sympy expression with the Gaussian distribution PDF\n",
    "    \n",
    "    x: sympy symbol for the PDF argument\n",
    "    mu, sigma:  sympy symbols for the parameters of the distribution\n",
    "    \"\"\"\n",
    "    \n",
    "    return sy.exp(-0.5*((x-mu)/sigma)**2)/(sigma*sy.sqrt(2*sy.pi))"
   ]
  },
  {
   "cell_type": "code",
   "execution_count": 2,
   "id": "af52972d",
   "metadata": {},
   "outputs": [
    {
     "ename": "ModuleNotFoundError",
     "evalue": "No module named 'ppdl'",
     "output_type": "error",
     "traceback": [
      "\u001b[0;31m---------------------------------------------------------------------------\u001b[0m",
      "\u001b[0;31mModuleNotFoundError\u001b[0m                       Traceback (most recent call last)",
      "\u001b[0;32m/tmp/ipykernel_37721/3473792575.py\u001b[0m in \u001b[0;36m<module>\u001b[0;34m\u001b[0m\n\u001b[1;32m      2\u001b[0m \u001b[0;32mimport\u001b[0m \u001b[0mnumpy\u001b[0m \u001b[0;32mas\u001b[0m \u001b[0mnp\u001b[0m\u001b[0;34m\u001b[0m\u001b[0;34m\u001b[0m\u001b[0m\n\u001b[1;32m      3\u001b[0m \u001b[0;32mfrom\u001b[0m \u001b[0mscipy\u001b[0m \u001b[0;32mimport\u001b[0m \u001b[0mstats\u001b[0m\u001b[0;34m\u001b[0m\u001b[0;34m\u001b[0m\u001b[0m\n\u001b[0;32m----> 4\u001b[0;31m \u001b[0;32mimport\u001b[0m \u001b[0mppdl\u001b[0m\u001b[0;34m\u001b[0m\u001b[0;34m\u001b[0m\u001b[0m\n\u001b[0m",
      "\u001b[0;31mModuleNotFoundError\u001b[0m: No module named 'ppdl'"
     ]
    }
   ],
   "source": [
    "import sympy as sy\n",
    "import numpy as np\n",
    "from scipy import stats\n",
    "import ppdl"
   ]
  },
  {
   "cell_type": "code",
   "execution_count": 2,
   "id": "875c33af",
   "metadata": {},
   "outputs": [],
   "source": [
    "x, m, s = sy.symbols(\"x \\mu \\sigma\")"
   ]
  },
  {
   "cell_type": "code",
   "execution_count": 3,
   "id": "a1c61f2f",
   "metadata": {},
   "outputs": [],
   "source": [
    "g = ppdl.gaussian(x, m, s)\n",
    "gn = sy.lambdify([x,m,s], g, \"numpy\")"
   ]
  },
  {
   "cell_type": "code",
   "execution_count": 9,
   "id": "d2aadd57",
   "metadata": {},
   "outputs": [],
   "source": [
    "for _ in range(1000):\n",
    "    xv,mv,sv = np.random.random(3)*3+1\n",
    "    if not np.allclose(gn(xv,mv,sv), stats.norm(mv,sv).pdf(xv), 1e-10):\n",
    "        print (\"err\")\n",
    "        break\n"
   ]
  },
  {
   "cell_type": "code",
   "execution_count": 23,
   "id": "fb7a5f84",
   "metadata": {},
   "outputs": [
    {
     "data": {
      "text/plain": [
       "0.10496481913002813"
      ]
     },
     "execution_count": 23,
     "metadata": {},
     "output_type": "execute_result"
    }
   ],
   "source": [
    "gn(xv,mv,sv)"
   ]
  },
  {
   "cell_type": "code",
   "execution_count": 24,
   "id": "88dd7106",
   "metadata": {},
   "outputs": [
    {
     "data": {
      "text/plain": [
       "0.10496481913002811"
      ]
     },
     "execution_count": 24,
     "metadata": {},
     "output_type": "execute_result"
    }
   ],
   "source": [
    "stats.norm(mv,sv).pdf(xv)"
   ]
  },
  {
   "cell_type": "code",
   "execution_count": null,
   "id": "91d0af36",
   "metadata": {},
   "outputs": [],
   "source": []
  }
 ],
 "metadata": {
  "kernelspec": {
   "display_name": "p39",
   "language": "python",
   "name": "p39"
  },
  "language_info": {
   "codemirror_mode": {
    "name": "ipython",
    "version": 3
   },
   "file_extension": ".py",
   "mimetype": "text/x-python",
   "name": "python",
   "nbconvert_exporter": "python",
   "pygments_lexer": "ipython3",
   "version": "3.9.7"
  }
 },
 "nbformat": 4,
 "nbformat_minor": 5
}
