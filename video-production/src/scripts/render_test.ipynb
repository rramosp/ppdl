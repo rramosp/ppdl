{
 "cells": [
  {
   "cell_type": "code",
   "execution_count": 1,
   "id": "af31db60",
   "metadata": {},
   "outputs": [],
   "source": [
    "import sys\n",
    "sys.path.insert(0, \"..\")"
   ]
  },
  {
   "cell_type": "code",
   "execution_count": 2,
   "id": "cbff81e6",
   "metadata": {},
   "outputs": [
    {
     "data": {
      "text/html": [
       "<pre style=\"white-space:pre;overflow-x:auto;line-height:normal;font-family:Menlo,'DejaVu Sans Mono',consolas,'Courier New',monospace\">Manim Community <span style=\"color: #008000; text-decoration-color: #008000\">v0.13.1</span>\n",
       "\n",
       "</pre>\n"
      ],
      "text/plain": [
       "Manim Community \u001b[32mv0.\u001b[0m\u001b[32m13.1\u001b[0m\n",
       "\n"
      ]
     },
     "metadata": {},
     "output_type": "display_data"
    }
   ],
   "source": [
    "from common.objects import *"
   ]
  },
  {
   "cell_type": "code",
   "execution_count": 3,
   "id": "54e30e0a",
   "metadata": {},
   "outputs": [],
   "source": [
    "import inspect"
   ]
  },
  {
   "cell_type": "code",
   "execution_count": 6,
   "id": "216ce14c",
   "metadata": {},
   "outputs": [],
   "source": [
    "t = Text(\"hola\")"
   ]
  },
  {
   "cell_type": "code",
   "execution_count": 48,
   "id": "a18f738d",
   "metadata": {},
   "outputs": [],
   "source": [
    "class Main(Scene):\n",
    "    def construct(self):\n",
    "        video_name = r\"\"\"\n",
    "        why probabilistic programming?\n",
    "        \"\"\"\n",
    "        t1 = Text(\"hola\", color=GRAY).to_edge(UP)\n",
    "        t2 = Text(\"adios\", color=GRAY).next_to(t1, DOWN)\n",
    "        self.add(t2)\n",
    "        self.play(Write(t1))\n",
    "        \n",
    "        c1 = Circle(0.3)\n",
    "        c2 = Circle(0.4).next_to(c1, RIGHT)\n",
    "        l = Line(c1.get_boundary_point(RIGHT), c2.get_boundary_point(LEFT))\n",
    "        self.add(c1,c2,l)\n",
    "        self.wait(5)\n",
    "        self.c1 = c1"
   ]
  },
  {
   "cell_type": "code",
   "execution_count": 49,
   "id": "c8835ee5",
   "metadata": {},
   "outputs": [],
   "source": [
    "m = Main()"
   ]
  },
  {
   "cell_type": "code",
   "execution_count": 50,
   "id": "1b30dcf0",
   "metadata": {},
   "outputs": [
    {
     "name": "stderr",
     "output_type": "stream",
     "text": [
      "                                                                                                          \r"
     ]
    },
    {
     "data": {
      "text/html": [
       "<pre style=\"white-space:pre;overflow-x:auto;line-height:normal;font-family:Menlo,'DejaVu Sans Mono',consolas,'Courier New',monospace\"><span style=\"color: #7fbfbf; text-decoration-color: #7fbfbf\">[12/21/21 11:34:15] </span><span style=\"color: #008000; text-decoration-color: #008000\">INFO    </span> Animation <span style=\"color: #008000; text-decoration-color: #008000\">0</span> : Partial movie file        <a href=\"file:///opt/anaconda/envs/p39/lib/python3.9/site-packages/manim/scene/scene_file_writer.py\"><span style=\"color: #7f7f7f; text-decoration-color: #7f7f7f\">scene_file_writer.py</span></a><span style=\"color: #7f7f7f; text-decoration-color: #7f7f7f\">:</span><a href=\"file:///opt/anaconda/envs/p39/lib/python3.9/site-packages/manim/scene/scene_file_writer.py#514\"><span style=\"color: #7f7f7f; text-decoration-color: #7f7f7f\">514</span></a>\n",
       "                             written in <span style=\"color: #008000; text-decoration-color: #008000\">'/home/rlx/Dropbox/teaching/</span>                         \n",
       "                             <span style=\"color: #008000; text-decoration-color: #008000\">probabilistic-programming/manim/src/vid</span>                         \n",
       "                             <span style=\"color: #008000; text-decoration-color: #008000\">eos/media/videos/1080p60/partial_movie_</span>                         \n",
       "                             <span style=\"color: #008000; text-decoration-color: #008000\">files/Main/3315472194_2222249156_701039</span>                         \n",
       "                             <span style=\"color: #008000; text-decoration-color: #008000\">972.mp4'</span>                                                        \n",
       "</pre>\n"
      ],
      "text/plain": [
       "\u001b[2;36m[12/21/21 11:34:15]\u001b[0m\u001b[2;36m \u001b[0m\u001b[32mINFO    \u001b[0m Animation \u001b[32m0\u001b[0m : Partial movie file        \u001b]8;id=163312;file:///opt/anaconda/envs/p39/lib/python3.9/site-packages/manim/scene/scene_file_writer.py\u001b\\\u001b[2mscene_file_writer.py\u001b[0m\u001b]8;;\u001b\\\u001b[2m:\u001b[0m\u001b]8;id=945569;file:///opt/anaconda/envs/p39/lib/python3.9/site-packages/manim/scene/scene_file_writer.py#514\u001b\\\u001b[2m514\u001b[0m\u001b]8;;\u001b\\\n",
       "                             written in \u001b[32m'/home/rlx/Dropbox/teaching/\u001b[0m                         \n",
       "                             \u001b[32mprobabilistic-programming/manim/src/vid\u001b[0m                         \n",
       "                             \u001b[32meos/media/videos/1080p60/partial_movie_\u001b[0m                         \n",
       "                             \u001b[32mfiles/Main/3315472194_2222249156_701039\u001b[0m                         \n",
       "                             \u001b[32m972.mp4'\u001b[0m                                                        \n"
      ]
     },
     "metadata": {},
     "output_type": "display_data"
    },
    {
     "data": {
      "text/html": [
       "<pre style=\"white-space:pre;overflow-x:auto;line-height:normal;font-family:Menlo,'DejaVu Sans Mono',consolas,'Courier New',monospace\"><span style=\"color: #7fbfbf; text-decoration-color: #7fbfbf\">[12/21/21 11:34:19] </span><span style=\"color: #008000; text-decoration-color: #008000\">INFO    </span> Animation <span style=\"color: #008000; text-decoration-color: #008000\">1</span> : Partial movie file        <a href=\"file:///opt/anaconda/envs/p39/lib/python3.9/site-packages/manim/scene/scene_file_writer.py\"><span style=\"color: #7f7f7f; text-decoration-color: #7f7f7f\">scene_file_writer.py</span></a><span style=\"color: #7f7f7f; text-decoration-color: #7f7f7f\">:</span><a href=\"file:///opt/anaconda/envs/p39/lib/python3.9/site-packages/manim/scene/scene_file_writer.py#514\"><span style=\"color: #7f7f7f; text-decoration-color: #7f7f7f\">514</span></a>\n",
       "                             written in <span style=\"color: #008000; text-decoration-color: #008000\">'/home/rlx/Dropbox/teaching/</span>                         \n",
       "                             <span style=\"color: #008000; text-decoration-color: #008000\">probabilistic-programming/manim/src/vid</span>                         \n",
       "                             <span style=\"color: #008000; text-decoration-color: #008000\">eos/media/videos/1080p60/partial_movie_</span>                         \n",
       "                             <span style=\"color: #008000; text-decoration-color: #008000\">files/Main/2277330559_1427617254_257546</span>                         \n",
       "                             <span style=\"color: #008000; text-decoration-color: #008000\">4606.mp4'</span>                                                       \n",
       "</pre>\n"
      ],
      "text/plain": [
       "\u001b[2;36m[12/21/21 11:34:19]\u001b[0m\u001b[2;36m \u001b[0m\u001b[32mINFO    \u001b[0m Animation \u001b[32m1\u001b[0m : Partial movie file        \u001b]8;id=768671;file:///opt/anaconda/envs/p39/lib/python3.9/site-packages/manim/scene/scene_file_writer.py\u001b\\\u001b[2mscene_file_writer.py\u001b[0m\u001b]8;;\u001b\\\u001b[2m:\u001b[0m\u001b]8;id=776291;file:///opt/anaconda/envs/p39/lib/python3.9/site-packages/manim/scene/scene_file_writer.py#514\u001b\\\u001b[2m514\u001b[0m\u001b]8;;\u001b\\\n",
       "                             written in \u001b[32m'/home/rlx/Dropbox/teaching/\u001b[0m                         \n",
       "                             \u001b[32mprobabilistic-programming/manim/src/vid\u001b[0m                         \n",
       "                             \u001b[32meos/media/videos/1080p60/partial_movie_\u001b[0m                         \n",
       "                             \u001b[32mfiles/Main/2277330559_1427617254_257546\u001b[0m                         \n",
       "                             \u001b[32m4606.mp4'\u001b[0m                                                       \n"
      ]
     },
     "metadata": {},
     "output_type": "display_data"
    }
   ],
   "source": [
    "m.construct()"
   ]
  },
  {
   "cell_type": "code",
   "execution_count": 65,
   "id": "b69e5079",
   "metadata": {},
   "outputs": [
    {
     "data": {
      "text/plain": [
       "array([-3.0000000e-01,  3.6739404e-17,  0.0000000e+00])"
      ]
     },
     "execution_count": 65,
     "metadata": {},
     "output_type": "execute_result"
    }
   ],
   "source": [
    "m.c1.get_boundary_point(LEFT)"
   ]
  },
  {
   "cell_type": "code",
   "execution_count": null,
   "id": "b7c11388",
   "metadata": {},
   "outputs": [],
   "source": [
    "m.c1.get_boundary_point(RIGHT)"
   ]
  },
  {
   "cell_type": "code",
   "execution_count": 92,
   "id": "25f44d5b",
   "metadata": {},
   "outputs": [
    {
     "data": {
      "text/plain": [
       "array([-0.3,  0.3,  0. ])"
      ]
     },
     "execution_count": 92,
     "metadata": {},
     "output_type": "execute_result"
    }
   ],
   "source": [
    "m.c1.get_corner(UL)"
   ]
  },
  {
   "cell_type": "code",
   "execution_count": 70,
   "id": "b8836877",
   "metadata": {},
   "outputs": [
    {
     "data": {
      "text/plain": [
       "array([0., 0., 0.])"
      ]
     },
     "execution_count": 70,
     "metadata": {},
     "output_type": "execute_result"
    }
   ],
   "source": [
    "m.c1.get_center()"
   ]
  },
  {
   "cell_type": "code",
   "execution_count": 68,
   "id": "3b4739b3",
   "metadata": {},
   "outputs": [
    {
     "data": {
      "text/plain": [
       "array([ 0., -1.,  0.])"
      ]
     },
     "execution_count": 68,
     "metadata": {},
     "output_type": "execute_result"
    }
   ],
   "source": [
    "DOWN"
   ]
  },
  {
   "cell_type": "code",
   "execution_count": 81,
   "id": "bf42a19f",
   "metadata": {},
   "outputs": [],
   "source": [
    "from time import sleep"
   ]
  },
  {
   "cell_type": "code",
   "execution_count": 55,
   "id": "ace2c317",
   "metadata": {},
   "outputs": [],
   "source": [
    "g = VGroup(Circle(1), Text(\"hoal\"))"
   ]
  },
  {
   "cell_type": "code",
   "execution_count": 57,
   "id": "b72ec3fb",
   "metadata": {},
   "outputs": [
    {
     "data": {
      "text/plain": [
       "Text('hoal')"
      ]
     },
     "execution_count": 57,
     "metadata": {},
     "output_type": "execute_result"
    }
   ],
   "source": [
    "g[1]"
   ]
  },
  {
   "cell_type": "code",
   "execution_count": 58,
   "id": "87e48c03",
   "metadata": {},
   "outputs": [
    {
     "data": {
      "text/plain": [
       "2"
      ]
     },
     "execution_count": 58,
     "metadata": {},
     "output_type": "execute_result"
    }
   ],
   "source": [
    "len(g)"
   ]
  },
  {
   "cell_type": "code",
   "execution_count": null,
   "id": "5d9b1df7",
   "metadata": {},
   "outputs": [],
   "source": []
  },
  {
   "cell_type": "code",
   "execution_count": 60,
   "id": "f9b811f5",
   "metadata": {},
   "outputs": [],
   "source": [
    "import numpy as np\n",
    "import matplotlib.pyplot as plt\n",
    "%matplotlib inline"
   ]
  },
  {
   "cell_type": "code",
   "execution_count": 62,
   "id": "ff07514a",
   "metadata": {},
   "outputs": [
    {
     "data": {
      "text/plain": [
       "[<matplotlib.lines.Line2D at 0x7fc47cbf7760>]"
      ]
     },
     "execution_count": 62,
     "metadata": {},
     "output_type": "execute_result"
    },
    {
     "data": {
      "image/png": "[encoded data removed]",
      "text/plain": [
       "<Figure size 432x288 with 1 Axes>"
      ]
     },
     "metadata": {
      "needs_background": "light"
     },
     "output_type": "display_data"
    }
   ],
   "source": [
    "x = np.linspace(-3,3,100)\n",
    "y = np.exp(-x**2)\n",
    "plt.plot(x,y)"
   ]
  },
  {
   "cell_type": "code",
   "execution_count": 103,
   "id": "b9277fad",
   "metadata": {},
   "outputs": [
    {
     "data": {
      "text/plain": [
       "[<matplotlib.lines.Line2D at 0x7fc477f69520>]"
      ]
     },
     "execution_count": 103,
     "metadata": {},
     "output_type": "execute_result"
    },
    {
     "data": {
      "image/png": "[encoded data removed]",
      "text/plain": [
       "<Figure size 432x288 with 1 Axes>"
      ]
     },
     "metadata": {
      "needs_background": "light"
     },
     "output_type": "display_data"
    }
   ],
   "source": [
    "x = np.linspace(-3,3,100)\n",
    "y = np.exp(-10*x**2)\n",
    "plt.plot(x,y)"
   ]
  },
  {
   "cell_type": "code",
   "execution_count": 102,
   "id": "c04cff56",
   "metadata": {},
   "outputs": [
    {
     "data": {
      "text/plain": [
       "[<matplotlib.lines.Line2D at 0x7fc478000670>]"
      ]
     },
     "execution_count": 102,
     "metadata": {},
     "output_type": "execute_result"
    },
    {
     "data": {
      "image/png": "[encoded data removed]",
      "text/plain": [
       "<Figure size 432x288 with 1 Axes>"
      ]
     },
     "metadata": {
      "needs_background": "light"
     },
     "output_type": "display_data"
    }
   ],
   "source": [
    "x = np.linspace(-3,3,100)\n",
    "y = np.exp(-4*(x-1)**2) + .8*np.exp(-5*(x)**2)\n",
    "plt.plot(x,y)"
   ]
  },
  {
   "cell_type": "code",
   "execution_count": 80,
   "id": "585e0f83",
   "metadata": {},
   "outputs": [
    {
     "data": {
      "text/plain": [
       "[<matplotlib.lines.Line2D at 0x7fc47c7b6910>]"
      ]
     },
     "execution_count": 80,
     "metadata": {},
     "output_type": "execute_result"
    },
    {
     "data": {
      "image/png": "[encoded data removed]",
      "text/plain": [
       "<Figure size 432x288 with 1 Axes>"
      ]
     },
     "metadata": {
      "needs_background": "light"
     },
     "output_type": "display_data"
    }
   ],
   "source": [
    "x = np.linspace(-3,3,100)\n",
    "y = np.exp(-2*(x-1)**2)\n",
    "plt.plot(x,y)"
   ]
  },
  {
   "cell_type": "code",
   "execution_count": null,
   "id": "aabb6fdc",
   "metadata": {},
   "outputs": [],
   "source": []
  }
 ],
 "metadata": {
  "kernelspec": {
   "display_name": "p39",
   "language": "python",
   "name": "p39"
  },
  "language_info": {
   "codemirror_mode": {
    "name": "ipython",
    "version": 3
   },
   "file_extension": ".py",
   "mimetype": "text/x-python",
   "name": "python",
   "nbconvert_exporter": "python",
   "pygments_lexer": "ipython3",
   "version": "3.9.7"
  }
 },
 "nbformat": 4,
 "nbformat_minor": 5
}
