{
 "cells": [
  {
   "cell_type": "code",
   "execution_count": 2,
   "id": "a009aafe",
   "metadata": {},
   "outputs": [],
   "source": [
    "import numpy as np\n",
    "import pandas as pd\n",
    "import itertools"
   ]
  },
  {
   "cell_type": "code",
   "execution_count": 4,
   "id": "fe1ac80a",
   "metadata": {},
   "outputs": [
    {
     "data": {
      "text/plain": [
       "7     6\n",
       "6     5\n",
       "8     5\n",
       "5     4\n",
       "9     4\n",
       "4     3\n",
       "10    3\n",
       "3     2\n",
       "11    2\n",
       "2     1\n",
       "12    1\n",
       "dtype: int64"
      ]
     },
     "execution_count": 4,
     "metadata": {},
     "output_type": "execute_result"
    }
   ],
   "source": [
    "pd.Series([i+j for i,j in itertools.product(range(1,7), range(1,7))]).value_counts()"
   ]
  },
  {
   "cell_type": "code",
   "execution_count": 5,
   "id": "6c5629db",
   "metadata": {},
   "outputs": [
    {
     "data": {
      "text/plain": [
       "[(1, 6), (2, 5), (3, 4), (4, 3), (5, 2), (6, 1)]"
      ]
     },
     "execution_count": 5,
     "metadata": {},
     "output_type": "execute_result"
    }
   ],
   "source": [
    "[(i,j) for i,j in itertools.product(range(1,7), range(1,7)) if i+j==7]"
   ]
  },
  {
   "cell_type": "code",
   "execution_count": 1,
   "id": "54429ff1",
   "metadata": {},
   "outputs": [
    {
     "data": {
      "text/html": [
       "<pre style=\"white-space:pre;overflow-x:auto;line-height:normal;font-family:Menlo,'DejaVu Sans Mono',consolas,'Courier New',monospace\">Manim Community <span style=\"color: #008000; text-decoration-color: #008000\">v0.13.1</span>\n",
       "\n",
       "</pre>\n"
      ],
      "text/plain": [
       "Manim Community \u001b[32mv0.\u001b[0m\u001b[32m13.1\u001b[0m\n",
       "\n"
      ]
     },
     "metadata": {},
     "output_type": "display_data"
    }
   ],
   "source": [
    "from manim import *"
   ]
  },
  {
   "cell_type": "code",
   "execution_count": 2,
   "id": "001216ff",
   "metadata": {},
   "outputs": [],
   "source": [
    "g = VGroup(Text(\"hola\"), Text(\"adios\"))"
   ]
  },
  {
   "cell_type": "code",
   "execution_count": 4,
   "id": "1c78ab41",
   "metadata": {},
   "outputs": [
    {
     "name": "stdout",
     "output_type": "stream",
     "text": [
      "Text('hola')\n",
      "Text('adios')\n"
     ]
    }
   ],
   "source": [
    "for i in g:\n",
    "    print (i)"
   ]
  },
  {
   "cell_type": "code",
   "execution_count": 5,
   "id": "25703e2d",
   "metadata": {},
   "outputs": [],
   "source": [
    "import pandas as pd"
   ]
  },
  {
   "cell_type": "code",
   "execution_count": 11,
   "id": "5454d215",
   "metadata": {},
   "outputs": [
    {
     "data": {
      "text/plain": [
       "Timedelta('0 days 00:02:03')"
      ]
     },
     "execution_count": 11,
     "metadata": {},
     "output_type": "execute_result"
    }
   ],
   "source": [
    "k = pd.Timedelta(\"2min 3sec\").seconds\n",
    "k"
   ]
  },
  {
   "cell_type": "code",
   "execution_count": 12,
   "id": "690974a7",
   "metadata": {},
   "outputs": [
    {
     "data": {
      "text/plain": [
       "123"
      ]
     },
     "execution_count": 12,
     "metadata": {},
     "output_type": "execute_result"
    }
   ],
   "source": [
    "k.seconds"
   ]
  },
  {
   "cell_type": "code",
   "execution_count": 19,
   "id": "220e206d",
   "metadata": {
    "scrolled": true
   },
   "outputs": [],
   "source": [
    "dirs = [\"/opt\", \"/home/rlx/Dropbox/teaching/probabilistic-programming/manim/src\"]\n",
    "import os\n",
    "import itertools\n",
    "def find_imgfile(file):\n",
    "    fnames = [file] + [f\"{file}.{ext}\" for ext in ['png', 'jpg', 'gif', 'jpeg']]\n",
    "    for d,f in itertools.product(dirs, fnames):\n",
    "        fullname = f\"{d}/imgs/{f}\"\n",
    "        if os.path.isfile(fullname):\n",
    "            return fullname\n",
    "    \n",
    "    raise ValueError(f\"file {fullname} not found\")\n",
    "    "
   ]
  },
  {
   "cell_type": "code",
   "execution_count": 20,
   "id": "5f31900d",
   "metadata": {},
   "outputs": [
    {
     "data": {
      "text/plain": [
       "'/home/rlx/Dropbox/teaching/probabilistic-programming/manim/src/imgs/sun.png'"
      ]
     },
     "execution_count": 20,
     "metadata": {},
     "output_type": "execute_result"
    }
   ],
   "source": [
    "find_imgfile(\"sun\")"
   ]
  },
  {
   "cell_type": "code",
   "execution_count": 16,
   "id": "1173b603",
   "metadata": {},
   "outputs": [
    {
     "data": {
      "text/plain": [
       "['sun.png', 'sun.jpg', 'sun.gif', 'sun.jpeg']"
      ]
     },
     "execution_count": 16,
     "metadata": {},
     "output_type": "execute_result"
    }
   ],
   "source": [
    "file = \"sun\"\n",
    "[f\"{file}.{ext}\" for ext in ['png', 'jpg', 'gif', 'jpeg']]"
   ]
  },
  {
   "cell_type": "code",
   "execution_count": null,
   "id": "3c5a2976",
   "metadata": {},
   "outputs": [],
   "source": []
  }
 ],
 "metadata": {
  "kernelspec": {
   "display_name": "p39",
   "language": "python",
   "name": "p39"
  },
  "language_info": {
   "codemirror_mode": {
    "name": "ipython",
    "version": 3
   },
   "file_extension": ".py",
   "mimetype": "text/x-python",
   "name": "python",
   "nbconvert_exporter": "python",
   "pygments_lexer": "ipython3",
   "version": "3.9.7"
  }
 },
 "nbformat": 4,
 "nbformat_minor": 5
}
