{
 "cells": [
  {
   "cell_type": "markdown",
   "id": "4ba36c44",
   "metadata": {},
   "source": [
    "from https://keras.io/examples/generative/vae/"
   ]
  },
  {
   "cell_type": "code",
   "execution_count": 1,
   "id": "0485f212",
   "metadata": {},
   "outputs": [
    {
     "name": "stderr",
     "output_type": "stream",
     "text": [
      "2022-01-16 16:26:26.639065: W tensorflow/stream_executor/platform/default/dso_loader.cc:64] Could not load dynamic library 'libcudart.so.11.0'; dlerror: libcudart.so.11.0: cannot open shared object file: No such file or directory\n",
      "2022-01-16 16:26:26.639103: I tensorflow/stream_executor/cuda/cudart_stub.cc:29] Ignore above cudart dlerror if you do not have a GPU set up on your machine.\n"
     ]
    },
    {
     "data": {
      "text/html": [
       "<style>.container { width:100% !important; }</style>"
      ],
      "text/plain": [
       "<IPython.core.display.HTML object>"
      ]
     },
     "metadata": {},
     "output_type": "display_data"
    }
   ],
   "source": [
    "import numpy as np\n",
    "import tensorflow as tf\n",
    "from tensorflow import keras\n",
    "from tensorflow.keras import layers\n",
    "from progressbar import progressbar as pbar\n",
    "import matplotlib.pyplot as plt\n",
    "from rlxutils import subplots\n",
    "%matplotlib inline\n",
    "from IPython.core.display import display, HTML\n",
    "display(HTML(\"<style>.container { width:100% !important; }</style>\"))"
   ]
  },
  {
   "cell_type": "code",
   "execution_count": 2,
   "id": "74eb7810",
   "metadata": {},
   "outputs": [],
   "source": [
    "import os\n",
    "os.environ[\"CUDA_VISIBLE_DEVICES\"] = \"-1\""
   ]
  },
  {
   "cell_type": "code",
   "execution_count": 3,
   "id": "d52d022d",
   "metadata": {},
   "outputs": [
    {
     "name": "stderr",
     "output_type": "stream",
     "text": [
      "2022-01-16 16:26:42.157140: W tensorflow/stream_executor/platform/default/dso_loader.cc:64] Could not load dynamic library 'libcuda.so.1'; dlerror: libcuda.so.1: cannot open shared object file: No such file or directory\n",
      "2022-01-16 16:26:42.157181: W tensorflow/stream_executor/cuda/cuda_driver.cc:269] failed call to cuInit: UNKNOWN ERROR (303)\n",
      "2022-01-16 16:26:42.157209: I tensorflow/stream_executor/cuda/cuda_diagnostics.cc:156] kernel driver does not appear to be running on this host (rlxyoga): /proc/driver/nvidia/version does not exist\n"
     ]
    }
   ],
   "source": [
    "physical_devices = tf.config.list_physical_devices('GPU')\n",
    "try:\n",
    "  tf.config.experimental.set_memory_growth(physical_devices[0], True)\n",
    "except:\n",
    "  # Invalid device or cannot modify virtual devices once initialized.\n",
    "  pass"
   ]
  },
  {
   "cell_type": "code",
   "execution_count": 4,
   "id": "5cc31943",
   "metadata": {},
   "outputs": [],
   "source": [
    "(x_train, _), (x_test, _) = keras.datasets.mnist.load_data()\n",
    "mnist_digits = np.concatenate([x_train, x_test], axis=0)\n",
    "mnist_digits = np.expand_dims(mnist_digits, -1).astype(\"float32\") / 255\n"
   ]
  },
  {
   "cell_type": "markdown",
   "id": "97c10da1",
   "metadata": {},
   "source": [
    "# AE and VAE implementations sharing the same architecture\n",
    "\n",
    "VAE has an extra layer to predict latent distribution std"
   ]
  },
  {
   "cell_type": "code",
   "execution_count": 157,
   "id": "5c66e920",
   "metadata": {},
   "outputs": [],
   "source": [
    "class Encoder(keras.Model):\n",
    "    \n",
    "    def __init__(self, latent_dim=2):\n",
    "        super().__init__()\n",
    "        self.conv1_layer = layers.Conv2D(32, 3, activation=\"relu\", strides=2, padding=\"same\", name=\"conv1\")\n",
    "        self.conv2_layer = layers.Conv2D(64, 3, activation=\"relu\", strides=2, padding=\"same\", name=\"conv2\")\n",
    "        self.dense_layer = layers.Dense(16, activation=\"relu\", name=\"dense1\")\n",
    "\n",
    "        self.output_layer = layers.Dense(latent_dim, name=\"output\")\n",
    "\n",
    "    def call_stage(self, x):\n",
    "        x = self.conv1_layer(x)\n",
    "        x = self.conv2_layer(x)\n",
    "        x = layers.Flatten()(x)\n",
    "        x = self.dense_layer(x)\n",
    "        return x\n",
    "    \n",
    "    def call(self, x):\n",
    "        x = self.call_stage(x)\n",
    "        x = self.output_layer(x)\n",
    "        return x\n",
    "\n",
    "class Sampling(layers.Layer):\n",
    "    \"\"\"Uses (z_mean, z_log_var) to sample z, the vector encoding a digit.\"\"\"\n",
    "\n",
    "    def call(self, inputs):\n",
    "        z_mean, z_log_var = inputs\n",
    "        batch = tf.shape(z_mean)[0]\n",
    "        dim = tf.shape(z_mean)[1]\n",
    "        epsilon = tf.keras.backend.random_normal(shape=(batch, dim))\n",
    "        return z_mean + tf.exp(0.5 * z_log_var) * epsilon\n",
    "    \n",
    "class VAE_Encoder(Encoder):\n",
    "    \n",
    "    def __init__(self, latent_dim=2):\n",
    "        super().__init__(latent_dim=latent_dim)\n",
    "        \n",
    "        self.z_mean_layer    = self.output_layer\n",
    "        self.z_log_var_layer = layers.Dense(latent_dim, name=\"z_log_var\")\n",
    "        self.z_sampling_layer = Sampling(name=\"sampling\")\n",
    "\n",
    "    def call(self, x):\n",
    "        x = self.call_stage(x)\n",
    "        z_mean    = self.z_mean_layer(x)\n",
    "        z_log_var = self.z_log_var_layer(x)\n",
    "        z_sample  = self.z_sampling_layer([z_mean, z_log_var])\n",
    "        \n",
    "        return [z_mean, z_log_var, z_sample]\n",
    "    \n",
    "class Decoder(keras.Model):\n",
    "    \n",
    "    def __init__(self, latent_dim=2):\n",
    "        super().__init__()\n",
    "        self.dense_layer = layers.Dense(7 * 7 * 64, activation=\"relu\", name=\"dense\")\n",
    "        self.convt1_layer = layers.Conv2DTranspose(64, 3, activation=\"relu\", strides=2, padding=\"same\", name=\"convt1\")\n",
    "        self.convt2_layer = layers.Conv2DTranspose(32, 3, activation=\"relu\", strides=2, padding=\"same\", name=\"convt2\")\n",
    "        self.convt_output_layer = layers.Conv2DTranspose(1, 3, activation=\"sigmoid\", padding=\"same\", name=\"convt_output\")\n",
    "        \n",
    "    def call(self, x):\n",
    "        x = self.dense_layer(x)\n",
    "        x = layers.Reshape((7, 7, 64))(x)\n",
    "        x = self.convt1_layer(x)\n",
    "        x = self.convt2_layer(x)\n",
    "        x = self.convt_output_layer(x)\n",
    "        return x"
   ]
  },
  {
   "cell_type": "code",
   "execution_count": 158,
   "id": "0e2596f7",
   "metadata": {},
   "outputs": [],
   "source": [
    "class VAE(keras.Model):\n",
    "    def __init__(self, latent_dim=2, **kwargs):\n",
    "        super().__init__(**kwargs)\n",
    "        self.encoder = VAE_Encoder(latent_dim=latent_dim)\n",
    "        self.decoder = Decoder()\n",
    "        self.total_loss_tracker = keras.metrics.Mean(name=\"total_loss\")\n",
    "        self.reconstruction_loss_tracker = keras.metrics.Mean(\n",
    "            name=\"reconstruction_loss\"\n",
    "        )\n",
    "        self.kl_loss_tracker = keras.metrics.Mean(name=\"kl_loss\")\n",
    "\n",
    "    def call(self, x):\n",
    "        z_mean, z_log_var, z = self.encoder(x)\n",
    "        return self.decoder(z)\n",
    "        \n",
    "    @property\n",
    "    def metrics(self):\n",
    "        return [\n",
    "            self.total_loss_tracker,\n",
    "            self.reconstruction_loss_tracker,\n",
    "            self.kl_loss_tracker,\n",
    "        ]\n",
    "\n",
    "    def train_step(self, data):\n",
    "        with tf.GradientTape() as tape:\n",
    "            z_mean, z_log_var, z = self.encoder(data)\n",
    "            reconstruction = self.decoder(z)\n",
    "            reconstruction_loss = tf.reduce_mean(\n",
    "                tf.reduce_sum(\n",
    "                    keras.losses.binary_crossentropy(data, reconstruction), axis=(1, 2)\n",
    "                )\n",
    "            )\n",
    "            kl_loss = -0.5 * (1 + z_log_var - tf.square(z_mean) - tf.exp(z_log_var))\n",
    "            kl_loss = tf.reduce_mean(tf.reduce_sum(kl_loss, axis=1))\n",
    "            total_loss = reconstruction_loss + kl_loss\n",
    "        grads = tape.gradient(total_loss, self.trainable_weights)\n",
    "        self.optimizer.apply_gradients(zip(grads, self.trainable_weights))\n",
    "        self.total_loss_tracker.update_state(total_loss)\n",
    "        self.reconstruction_loss_tracker.update_state(reconstruction_loss)\n",
    "        self.kl_loss_tracker.update_state(kl_loss)\n",
    "        return {\n",
    "            \"loss\": self.total_loss_tracker.result(),\n",
    "            \"reconstruction_loss\": self.reconstruction_loss_tracker.result(),\n",
    "            \"kl_loss\": self.kl_loss_tracker.result(),\n",
    "        }"
   ]
  },
  {
   "cell_type": "code",
   "execution_count": 159,
   "id": "30d45f48",
   "metadata": {},
   "outputs": [],
   "source": [
    "class AE(keras.Model):\n",
    "    def __init__(self, latent_dim=2, **kwargs):\n",
    "        super().__init__(**kwargs)\n",
    "        self.encoder = Encoder(latent_dim=latent_dim)\n",
    "        self.decoder = Decoder()\n",
    "        self.reconstruction_loss_tracker = keras.metrics.Mean(\n",
    "            name=\"reconstruction_loss\"\n",
    "        )\n",
    "        self.reconstruction_loss_history = []\n",
    "\n",
    "    def call(self, x):\n",
    "        return self.decoder(self.encoder(x))\n",
    "        \n",
    "    @property\n",
    "    def metrics(self):\n",
    "        return [self.reconstruction_loss_tracker]\n",
    "\n",
    "    def train_step(self, data):\n",
    "        with tf.GradientTape() as tape:\n",
    "            reconstruction = self(data)\n",
    "            reconstruction_loss = tf.reduce_mean(\n",
    "                tf.reduce_sum(\n",
    "                    keras.losses.binary_crossentropy(data, reconstruction), axis=(1, 2)\n",
    "                )\n",
    "            )\n",
    "        grads = tape.gradient(reconstruction_loss, self.trainable_weights)\n",
    "        self.optimizer.apply_gradients(zip(grads, self.trainable_weights))\n",
    "        self.reconstruction_loss_tracker.update_state(reconstruction_loss)\n",
    "        self.reconstruction_loss_history.append(self.reconstruction_loss_tracker.result())\n",
    "        return {\n",
    "            \"loss\": self.reconstruction_loss_tracker.result()\n",
    "        }"
   ]
  },
  {
   "cell_type": "markdown",
   "id": "fb0d27f5",
   "metadata": {},
   "source": [
    "## train both VAE and AE"
   ]
  },
  {
   "cell_type": "code",
   "execution_count": 160,
   "id": "f56b10c2",
   "metadata": {},
   "outputs": [],
   "source": [
    "from collections import defaultdict"
   ]
  },
  {
   "cell_type": "code",
   "execution_count": 161,
   "id": "2f991a6b",
   "metadata": {},
   "outputs": [],
   "source": [
    "class LogHistoryCallback(keras.callbacks.Callback):\n",
    "    def __init__(self):\n",
    "        self.history = defaultdict(lambda: [])\n",
    "        \n",
    "    def on_train_batch_end(self, batch, logs=None):\n",
    "        for k,v in logs.items():\n",
    "            self.history[k].append(v)        "
   ]
  },
  {
   "cell_type": "code",
   "execution_count": 162,
   "id": "1c965a8e",
   "metadata": {},
   "outputs": [],
   "source": [
    "latent_dim = 2"
   ]
  },
  {
   "cell_type": "code",
   "execution_count": 163,
   "id": "71f07a9a",
   "metadata": {
    "scrolled": false
   },
   "outputs": [
    {
     "name": "stdout",
     "output_type": "stream",
     "text": [
      "Epoch 1/2\n",
      "547/547 [==============================] - 27s 49ms/step - loss: 255.1408\n",
      "Epoch 2/2\n",
      "547/547 [==============================] - 27s 49ms/step - loss: 166.7663\n"
     ]
    },
    {
     "data": {
      "text/plain": [
       "<keras.callbacks.History at 0x7f192621fb50>"
      ]
     },
     "execution_count": 163,
     "metadata": {},
     "output_type": "execute_result"
    }
   ],
   "source": [
    "ae = AE(latent_dim=latent_dim)\n",
    "ae_history = LogHistoryCallback()\n",
    "ae.compile(optimizer=keras.optimizers.Adam())\n",
    "ae.fit(mnist_digits, epochs=10, batch_size=128, callbacks=[ae_history])"
   ]
  },
  {
   "cell_type": "code",
   "execution_count": 164,
   "id": "5397aa9f",
   "metadata": {
    "scrolled": true
   },
   "outputs": [
    {
     "name": "stdout",
     "output_type": "stream",
     "text": [
      "Epoch 1/2\n",
      "547/547 [==============================] - 28s 50ms/step - loss: 257.3496 - reconstruction_loss: 212.2109 - kl_loss: 2.1739\n",
      "Epoch 2/2\n",
      "547/547 [==============================] - 27s 49ms/step - loss: 191.1397 - reconstruction_loss: 186.2709 - kl_loss: 3.0532\n"
     ]
    },
    {
     "data": {
      "text/plain": [
       "<keras.callbacks.History at 0x7f195851c250>"
      ]
     },
     "execution_count": 164,
     "metadata": {},
     "output_type": "execute_result"
    }
   ],
   "source": [
    "vae = VAE(latent_dim = latent_dim)\n",
    "vae_history = LogHistoryCallback()\n",
    "vae.compile(optimizer=keras.optimizers.Adam())\n",
    "vae.fit(mnist_digits, epochs=10, batch_size=128, callbacks=[vae_history])"
   ]
  },
  {
   "cell_type": "code",
   "execution_count": 165,
   "id": "6744c12e",
   "metadata": {},
   "outputs": [
    {
     "data": {
      "image/png": "[encoded data removed]",
      "text/plain": [
       "<Figure size 432x288 with 1 Axes>"
      ]
     },
     "metadata": {
      "needs_background": "light"
     },
     "output_type": "display_data"
    }
   ],
   "source": [
    "for k,v in vae_history.history.items():\n",
    "    plt.plot(v, label=f\"VAE {k}\")\n",
    "\n",
    "plt.plot(ae_history.history['loss'], label=\"AE reconstruction_loss\", color=\"red\", lw=4, alpha=.5)\n",
    "\n",
    "plt.legend();\n",
    "plt.grid();"
   ]
  },
  {
   "cell_type": "markdown",
   "id": "c5842149",
   "metadata": {},
   "source": [
    "## Encoder distributions over the full dataset\n",
    "\n",
    "one chart per `latent_dim`"
   ]
  },
  {
   "cell_type": "code",
   "execution_count": 166,
   "id": "ceec26d7",
   "metadata": {},
   "outputs": [],
   "source": [
    "vaezm,vaezs,vaez = [i.numpy() for i in vae.encoder(mnist_digits)]\n",
    "aez = ae.encoder(mnist_digits).numpy()"
   ]
  },
  {
   "cell_type": "code",
   "execution_count": 167,
   "id": "b71063b0",
   "metadata": {},
   "outputs": [
    {
     "data": {
      "image/png": "[encoded data removed]",
      "text/plain": [
       "<Figure size 1440x216 with 4 Axes>"
      ]
     },
     "metadata": {
      "needs_background": "light"
     },
     "output_type": "display_data"
    }
   ],
   "source": [
    "for ax,k in subplots(4, usizex=5):\n",
    "    if k==0:\n",
    "        for i in range(latent_dim):\n",
    "            plt.hist(aez[:,i], density=True, bins=100, alpha=.5);\n",
    "        plt.title(\"AE output \")\n",
    "        plt.grid();\n",
    "    if k==1:\n",
    "        for i in range(latent_dim):\n",
    "            plt.hist(vaez[:,i], density=True, bins=100, alpha=.5);\n",
    "        plt.title(\"VAE output (sampling)\")\n",
    "        plt.grid();\n",
    "    if k==2:\n",
    "        for i in range(latent_dim):\n",
    "            plt.hist(vaezm[:,i], density=True, bins=100, alpha=.5);\n",
    "        plt.title(\"VAE mean\")\n",
    "        plt.grid();\n",
    "    if k==3:\n",
    "        for i in range(latent_dim):\n",
    "            plt.hist(np.exp(.5*vaezs[:,i]), density=True, bins=100, alpha=.5);\n",
    "        plt.title(\"VAE std\")\n",
    "        plt.grid();\n",
    "        "
   ]
  },
  {
   "cell_type": "markdown",
   "id": "ac2e3bc7",
   "metadata": {},
   "source": [
    "## Output for a selected input image\n",
    "\n",
    "- VAE outputs a distribution of images (a distribution per pixel)\n",
    "- AE outputs a single image (a value per pixel)\n"
   ]
  },
  {
   "cell_type": "code",
   "execution_count": 168,
   "id": "8a4fa5a5",
   "metadata": {},
   "outputs": [],
   "source": [
    "# select one random input\n",
    "idx = np.random.randint(len(mnist_digits))"
   ]
  },
  {
   "cell_type": "code",
   "execution_count": 188,
   "id": "d2771a24",
   "metadata": {},
   "outputs": [
    {
     "data": {
      "text/plain": [
       "(1, 28, 28, 1)"
      ]
     },
     "execution_count": 188,
     "metadata": {},
     "output_type": "execute_result"
    }
   ],
   "source": [
    "# AE is deterministic, so we do inference just once and obtain one value for each output pixel\n",
    "output_ae = ae(mnist_digits[idx:idx+1]).numpy()\n",
    "output_ae.shape"
   ]
  },
  {
   "cell_type": "code",
   "execution_count": 189,
   "id": "6ab06437",
   "metadata": {},
   "outputs": [
    {
     "data": {
      "text/plain": [
       "(10000, 28, 28, 1)"
      ]
     },
     "execution_count": 189,
     "metadata": {},
     "output_type": "execute_result"
    }
   ],
   "source": [
    "# VAE is stochastic, so we do inference many times to understand the output distribution of each pixel\n",
    "output_vae = vae(np.repeat(mnist_digits[idx:idx+1],10000, axis=0)).numpy()\n",
    "output_vae.shape"
   ]
  },
  {
   "cell_type": "code",
   "execution_count": 190,
   "id": "2fec558e",
   "metadata": {},
   "outputs": [
    {
     "data": {
      "image/png": "[encoded data removed]",
      "text/plain": [
       "<Figure size 864x216 with 8 Axes>"
      ]
     },
     "metadata": {
      "needs_background": "light"
     },
     "output_type": "display_data"
    }
   ],
   "source": [
    "for ax, i in subplots(4):\n",
    "    if i==0:\n",
    "        plt.imshow(mnist_digits[idx][:,:,0])\n",
    "        plt.title(f\"input img idx={idx}\")\n",
    "        plt.colorbar();\n",
    "    if i==1:\n",
    "        plt.imshow(output_ae[0,:,:,0])\n",
    "        plt.title(\"AE output\")\n",
    "        plt.colorbar();        \n",
    "    if i==2:\n",
    "        plt.imshow(output_vae[:,:,:,0].mean(axis=0))\n",
    "        plt.title(\"VAE output pixel mean\")\n",
    "        plt.colorbar();        \n",
    "    if i==3:\n",
    "        plt.imshow(output_vae[:,:,:,0].std(axis=0))\n",
    "        plt.title(\"VAE output pixel std\")\n",
    "        plt.colorbar();\n",
    "plt.tight_layout()"
   ]
  },
  {
   "cell_type": "markdown",
   "id": "e575502f",
   "metadata": {},
   "source": [
    "show VAE distribution of pixel with largest mean and largest std"
   ]
  },
  {
   "cell_type": "code",
   "execution_count": 191,
   "id": "0902626e",
   "metadata": {},
   "outputs": [],
   "source": [
    "my,mx = output_vae.mean(axis=0).argmax()//28, output_vae.mean(axis=0).argmax()%28\n",
    "sy,sx = output_vae.std(axis=0).argmax()//28, output_vae.std(axis=0).argmax()%28\n",
    "ry1,rx1,ry2,rx2 = np.random.randint(28, size=4)"
   ]
  },
  {
   "cell_type": "code",
   "execution_count": 192,
   "id": "19b08727",
   "metadata": {},
   "outputs": [
    {
     "data": {
      "image/png": "[encoded data removed]",
      "text/plain": [
       "<Figure size 1440x288 with 4 Axes>"
      ]
     },
     "metadata": {
      "needs_background": "light"
     },
     "output_type": "display_data"
    }
   ],
   "source": [
    "vmin, vmax = output_vae.min(), np.max([output_ae.max(),1])+.1\n",
    "vmin -= .1\n",
    "for ax,i in subplots(4, usizex=5, usizey=4):\n",
    "    if i==0:\n",
    "        plt.hist(output_vae[:,my,mx,0], bins=100, alpha=.5);\n",
    "        plt.axvline(output_ae[0,my,mx,0], color=\"black\")\n",
    "        plt.grid();\n",
    "        plt.title(f\"VAE distribution for pixel with largest mean\\n y={my}, x={mx}\")\n",
    "        plt.xlim(vmin, vmax)\n",
    "    if i==1:\n",
    "        plt.hist(output_vae[:,sy,sx,0], bins=100, alpha=.5);\n",
    "        plt.axvline(output_ae[0,sy,sx,0], color=\"black\")\n",
    "        plt.grid();\n",
    "        plt.title(f\"VAE distribution for pixel with largest std\\n y={my}, x={mx}\")\n",
    "        plt.xlim(vmin, vmax)\n",
    "    if i==2:\n",
    "        plt.hist(output_vae[:,ry1,rx1,0], bins=100, alpha=.5);\n",
    "        plt.axvline(output_ae[0,ry1,rx1,0], color=\"black\")\n",
    "        plt.grid();\n",
    "        plt.title(f\"VAE distribution for a ranodm pixel\\n y={ry1}, x={rx1}\")\n",
    "    if i==3:\n",
    "        plt.hist(output_vae[:,ry2,rx2,0], bins=100, alpha=.5);\n",
    "        plt.grid();\n",
    "        plt.title(f\"VAE distribution for a ranodm pixel\\n y={ry2}, x={rx2}\")\n",
    "        plt.axvline(output_ae[0,ry2,rx2,0], color=\"black\")\n",
    "plt.tight_layout()"
   ]
  },
  {
   "cell_type": "code",
   "execution_count": 176,
   "id": "9b2b5f37",
   "metadata": {},
   "outputs": [
    {
     "data": {
      "text/plain": [
       "['dense', 'convt1', 'convt2', 'convt_output']"
      ]
     },
     "execution_count": 176,
     "metadata": {},
     "output_type": "execute_result"
    }
   ],
   "source": [
    "[i.name for i in vae.decoder.layers]"
   ]
  },
  {
   "cell_type": "code",
   "execution_count": 177,
   "id": "1fc4b03b",
   "metadata": {},
   "outputs": [
    {
     "data": {
      "text/plain": [
       "['dense', 'convt1', 'convt2', 'convt_output']"
      ]
     },
     "execution_count": 177,
     "metadata": {},
     "output_type": "execute_result"
    }
   ],
   "source": [
    "[i.name for i in ae.decoder.layers]"
   ]
  },
  {
   "cell_type": "code",
   "execution_count": 185,
   "id": "3f88e13f",
   "metadata": {},
   "outputs": [],
   "source": [
    "def transfer_weights(from_model, to_model):\n",
    "    layers_not_transferred = []\n",
    "    layers_transferred = []\n",
    "    for from_layer in from_model.layers:\n",
    "        try:\n",
    "            to_layer = to_model.get_layer(from_layer.name)\n",
    "            from_w = from_layer.get_weights()\n",
    "            to_w   = to_layer.get_weights()\n",
    "            if len(from_w)==len(to_w) and np.alltrue([f.shape==t.shape for f,t in zip(from_w, to_w)]):\n",
    "                to_layer.set_weights(from_w)\n",
    "                layers_transferred.append(from_layer.name)            \n",
    "            else:\n",
    "                layers_not_transferred.append(from_layer.name)            \n",
    "        except:\n",
    "            layers_not_transferred.append(from_layer.name)\n",
    "            continue\n",
    "    \n",
    "    print (\"layers transferred    \", layers_transferred)\n",
    "    print (\"layers not transferred\", layers_not_transferred)"
   ]
  },
  {
   "cell_type": "code",
   "execution_count": 186,
   "id": "288ce551",
   "metadata": {},
   "outputs": [
    {
     "name": "stdout",
     "output_type": "stream",
     "text": [
      "layers transferred     ['conv1', 'conv2', 'dense1', 'output']\n",
      "layers not transferred ['z_log_var', 'sampling']\n"
     ]
    }
   ],
   "source": [
    "transfer_weights(vae.encoder, ae.encoder)"
   ]
  },
  {
   "cell_type": "code",
   "execution_count": 187,
   "id": "92990ab4",
   "metadata": {},
   "outputs": [
    {
     "name": "stdout",
     "output_type": "stream",
     "text": [
      "layers transferred     ['dense', 'convt1', 'convt2', 'convt_output']\n",
      "layers not transferred []\n"
     ]
    }
   ],
   "source": [
    "transfer_weights(vae.decoder, ae.decoder)"
   ]
  },
  {
   "cell_type": "code",
   "execution_count": null,
   "id": "3d28b85a",
   "metadata": {},
   "outputs": [],
   "source": []
  },
  {
   "cell_type": "code",
   "execution_count": null,
   "id": "02e34818",
   "metadata": {},
   "outputs": [],
   "source": []
  },
  {
   "cell_type": "code",
   "execution_count": null,
   "id": "f37d779b",
   "metadata": {},
   "outputs": [],
   "source": []
  }
 ],
 "metadata": {
  "kernelspec": {
   "display_name": "Python 3 (ipykernel)",
   "language": "python",
   "name": "python3"
  },
  "language_info": {
   "codemirror_mode": {
    "name": "ipython",
    "version": 3
   },
   "file_extension": ".py",
   "mimetype": "text/x-python",
   "name": "python",
   "nbconvert_exporter": "python",
   "pygments_lexer": "ipython3",
   "version": "3.9.7"
  }
 },
 "nbformat": 4,
 "nbformat_minor": 5
}
