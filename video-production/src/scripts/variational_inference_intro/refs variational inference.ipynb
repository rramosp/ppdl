{
 "cells": [
  {
   "cell_type": "markdown",
   "id": "91657655",
   "metadata": {},
   "source": [
    "## variational inference\n",
    "\n",
    "https://towardsdatascience.com/bayesian-inference-problem-mcmc-and-variational-inference-25a8aa9bce29\n",
    "\n",
    "https://www.mit.edu/~9.520/spring11/slides/class19_approxinf.pdf\n",
    "\n",
    "https://www.ritchievink.com/blog/2019/09/16/variational-inference-from-scratch/\n",
    "\n",
    "https://fabiandablander.com/r/Variational-Inference.html\n",
    "\n",
    "https://en.wikipedia.org/wiki/Statistical_inference\n",
    "\n",
    "https://towardsdatascience.com/modeling-uncertainty-in-neural-networks-with-tensorflow-probability-part-1-an-introduction-2bb564c67d6\n",
    "\n",
    "https://indico.cern.ch/event/917074/contributions/3855332/attachments/2035180/3407136/bayesian_ML_May2020.pdf (custom made dense variational layer)\n",
    "\n",
    "https://arxiv.org/pdf/1606.05908.pdf (Tutorial on variational autoencoders)"
   ]
  },
  {
   "cell_type": "markdown",
   "id": "96f64555",
   "metadata": {},
   "source": [
    "# bayesian deep learning\n",
    "\n",
    "http://bayesiandeeplearning.org/"
   ]
  },
  {
   "cell_type": "markdown",
   "id": "be71d12b",
   "metadata": {},
   "source": [
    "# bayesian linear regression\n",
    "\n",
    "https://towardsdatascience.com/introduction-to-bayesian-linear-regression-e66e60791ea7\n",
    "\n",
    "https://towardsdatascience.com/bayesian-statistics-overview-and-your-first-bayesian-linear-regression-model-ba566676c5a7\n",
    "\n",
    "https://towardsdatascience.com/linear-regression-assumptions-why-is-it-important-af28438a44a1\n",
    "\n",
    "http://www.ke.tu-darmstadt.de/events/ICML-04/tutorial-notes/m2-ghahramani.pdf\n",
    "\n",
    "https://towardsdatascience.com/bayesian-linear-regression-in-python-using-machine-learning-to-predict-student-grades-part-2-b72059a8ac7e"
   ]
  },
  {
   "cell_type": "markdown",
   "id": "44edaabc",
   "metadata": {},
   "source": [
    "## modelling data uncertainty (aleatoric)\n",
    "\n",
    "https://towardsdatascience.com/modeling-uncertainty-in-neural-networks-with-tensorflow-probability-a706c2274d12"
   ]
  },
  {
   "cell_type": "code",
   "execution_count": null,
   "id": "3aab4538",
   "metadata": {},
   "outputs": [],
   "source": []
  }
 ],
 "metadata": {
  "kernelspec": {
   "display_name": "p39",
   "language": "python",
   "name": "p39"
  },
  "language_info": {
   "codemirror_mode": {
    "name": "ipython",
    "version": 3
   },
   "file_extension": ".py",
   "mimetype": "text/x-python",
   "name": "python",
   "nbconvert_exporter": "python",
   "pygments_lexer": "ipython3",
   "version": "3.9.7"
  }
 },
 "nbformat": 4,
 "nbformat_minor": 5
}
